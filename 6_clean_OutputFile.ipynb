{
 "cells": [
  {
   "cell_type": "code",
   "execution_count": 16,
   "id": "14c78432",
   "metadata": {},
   "outputs": [],
   "source": [
    "import pandas as pd\n",
    "import warnings\n",
    "warnings.simplefilter(action='ignore', category=FutureWarning)\n",
    "import numpy as np\n",
    "import pandas as pd\n",
    "from sklearn.model_selection import train_test_split\n",
    "from keras.models import Sequential\n",
    "from keras.layers import Dense"
   ]
  },
  {
   "cell_type": "code",
   "execution_count": 17,
   "id": "e19e8041",
   "metadata": {},
   "outputs": [],
   "source": [
    "df = pd.read_csv('output.csv', low_memory=False)"
   ]
  },
  {
   "cell_type": "code",
   "execution_count": 18,
   "id": "a0d6825d",
   "metadata": {},
   "outputs": [
    {
     "ename": "ValueError",
     "evalue": "Failed to convert a NumPy array to a Tensor (Unsupported object type float).",
     "output_type": "error",
     "traceback": [
      "\u001b[1;31m---------------------------------------------------------------------------\u001b[0m",
      "\u001b[1;31mValueError\u001b[0m                                Traceback (most recent call last)",
      "Cell \u001b[1;32mIn[18], line 27\u001b[0m\n\u001b[0;32m     24\u001b[0m model\u001b[38;5;241m.\u001b[39mcompile(loss\u001b[38;5;241m=\u001b[39m\u001b[38;5;124m'\u001b[39m\u001b[38;5;124mbinary_crossentropy\u001b[39m\u001b[38;5;124m'\u001b[39m, optimizer\u001b[38;5;241m=\u001b[39m\u001b[38;5;124m'\u001b[39m\u001b[38;5;124madam\u001b[39m\u001b[38;5;124m'\u001b[39m, metrics\u001b[38;5;241m=\u001b[39m[\u001b[38;5;124m'\u001b[39m\u001b[38;5;124maccuracy\u001b[39m\u001b[38;5;124m'\u001b[39m])\n\u001b[0;32m     26\u001b[0m \u001b[38;5;66;03m# Train the model\u001b[39;00m\n\u001b[1;32m---> 27\u001b[0m model\u001b[38;5;241m.\u001b[39mfit(X_train, y_train, epochs\u001b[38;5;241m=\u001b[39m\u001b[38;5;241m10\u001b[39m, batch_size\u001b[38;5;241m=\u001b[39m\u001b[38;5;241m32\u001b[39m, validation_data\u001b[38;5;241m=\u001b[39m(X_test, y_test))\n\u001b[0;32m     29\u001b[0m \u001b[38;5;66;03m# Evaluate the model\u001b[39;00m\n\u001b[0;32m     30\u001b[0m loss, accuracy \u001b[38;5;241m=\u001b[39m model\u001b[38;5;241m.\u001b[39mevaluate(X_test, y_test)\n",
      "File \u001b[1;32m~\\anaconda3\\Lib\\site-packages\\keras\\src\\utils\\traceback_utils.py:70\u001b[0m, in \u001b[0;36mfilter_traceback.<locals>.error_handler\u001b[1;34m(*args, **kwargs)\u001b[0m\n\u001b[0;32m     67\u001b[0m     filtered_tb \u001b[38;5;241m=\u001b[39m _process_traceback_frames(e\u001b[38;5;241m.\u001b[39m__traceback__)\n\u001b[0;32m     68\u001b[0m     \u001b[38;5;66;03m# To get the full stack trace, call:\u001b[39;00m\n\u001b[0;32m     69\u001b[0m     \u001b[38;5;66;03m# `tf.debugging.disable_traceback_filtering()`\u001b[39;00m\n\u001b[1;32m---> 70\u001b[0m     \u001b[38;5;28;01mraise\u001b[39;00m e\u001b[38;5;241m.\u001b[39mwith_traceback(filtered_tb) \u001b[38;5;28;01mfrom\u001b[39;00m \u001b[38;5;28;01mNone\u001b[39;00m\n\u001b[0;32m     71\u001b[0m \u001b[38;5;28;01mfinally\u001b[39;00m:\n\u001b[0;32m     72\u001b[0m     \u001b[38;5;28;01mdel\u001b[39;00m filtered_tb\n",
      "File \u001b[1;32m~\\anaconda3\\Lib\\site-packages\\tensorflow\\python\\framework\\constant_op.py:98\u001b[0m, in \u001b[0;36mconvert_to_eager_tensor\u001b[1;34m(value, ctx, dtype)\u001b[0m\n\u001b[0;32m     96\u001b[0m     dtype \u001b[38;5;241m=\u001b[39m dtypes\u001b[38;5;241m.\u001b[39mas_dtype(dtype)\u001b[38;5;241m.\u001b[39mas_datatype_enum\n\u001b[0;32m     97\u001b[0m ctx\u001b[38;5;241m.\u001b[39mensure_initialized()\n\u001b[1;32m---> 98\u001b[0m \u001b[38;5;28;01mreturn\u001b[39;00m ops\u001b[38;5;241m.\u001b[39mEagerTensor(value, ctx\u001b[38;5;241m.\u001b[39mdevice_name, dtype)\n",
      "\u001b[1;31mValueError\u001b[0m: Failed to convert a NumPy array to a Tensor (Unsupported object type float)."
     ]
    }
   ],
   "source": [
    "import numpy as np\n",
    "import pandas as pd\n",
    "from sklearn.model_selection import train_test_split\n",
    "from keras.models import Sequential\n",
    "from keras.layers import Dense\n",
    "\n",
    "# Load your dataset here (replace this with your data loading code)\n",
    "# df = pd.read_csv('your_dataset.csv')\n",
    "\n",
    "# Define features (X) and target variable (y)\n",
    "X = df.drop([\"Status\"], axis=1)\n",
    "y = df[\"Status\"]\n",
    "\n",
    "# Split the data into training and testing sets\n",
    "X_train, X_test, y_train, y_test = train_test_split(X, y, test_size=0.2, random_state=42)\n",
    "\n",
    "# Build the neural network\n",
    "model = Sequential()\n",
    "model.add(Dense(128, input_dim=X_train.shape[1], activation='relu'))\n",
    "model.add(Dense(64, activation='relu'))\n",
    "model.add(Dense(1, activation='sigmoid'))  # Sigmoid for binary classification\n",
    "\n",
    "# Compile the model\n",
    "model.compile(loss='binary_crossentropy', optimizer='adam', metrics=['accuracy'])\n",
    "\n",
    "# Train the model\n",
    "model.fit(X_train, y_train, epochs=10, batch_size=32, validation_data=(X_test, y_test))\n",
    "\n",
    "# Evaluate the model\n",
    "loss, accuracy = model.evaluate(X_test, y_test)\n",
    "print(\"Test Loss:\", loss)\n",
    "print(\"Test Accuracy:\", accuracy)\n"
   ]
  },
  {
   "cell_type": "code",
   "execution_count": 3,
   "id": "127096a5",
   "metadata": {},
   "outputs": [],
   "source": [
    "# Drop rows with NaN values\n",
    "df = df.dropna()"
   ]
  },
  {
   "cell_type": "code",
   "execution_count": null,
   "id": "60a05160",
   "metadata": {},
   "outputs": [],
   "source": []
  },
  {
   "cell_type": "code",
   "execution_count": 4,
   "id": "3a7c3349",
   "metadata": {},
   "outputs": [
    {
     "name": "stderr",
     "output_type": "stream",
     "text": [
      "C:\\Users\\danma\\AppData\\Local\\Temp\\ipykernel_13640\\371761573.py:2: UserWarning: Parsing dates in DD/MM/YYYY format when dayfirst=False (the default) was specified. This may lead to inconsistently parsed dates! Specify a format to ensure consistent parsing.\n",
      "  df[\"Whelp Date\"] = pd.to_datetime(df[\"Whelp Date\"])\n"
     ]
    }
   ],
   "source": [
    "# Convert date columns to datetime format\n",
    "df[\"Whelp Date\"] = pd.to_datetime(df[\"Whelp Date\"])\n",
    "df[\"OccuredAt\"] = pd.to_datetime(df[\"OccuredAt\"])\n",
    "df[\"Reg Date\"] = pd.to_datetime(df[\"Reg Date\"])"
   ]
  },
  {
   "cell_type": "code",
   "execution_count": 5,
   "id": "2a438e0a",
   "metadata": {},
   "outputs": [],
   "source": [
    "df = pd.get_dummies(df, columns=[\"Sex\", \"Retirement Type\"], drop_first=True)\n"
   ]
  },
  {
   "cell_type": "code",
   "execution_count": 7,
   "id": "1509ac6d",
   "metadata": {},
   "outputs": [
    {
     "data": {
      "text/plain": [
       "Greyhound Name         0\n",
       "Earmark                0\n",
       "Microchip              0\n",
       "Reg Date               0\n",
       "Whelp Date             0\n",
       "OccuredAt              0\n",
       "Status                 0\n",
       "Sex_D                  0\n",
       "Retirement Type_EUT    0\n",
       "Retirement Type_NEW    0\n",
       "Retirement Type_RET    0\n",
       "dtype: int64"
      ]
     },
     "execution_count": 7,
     "metadata": {},
     "output_type": "execute_result"
    }
   ],
   "source": [
    "df.isna().sum()"
   ]
  },
  {
   "cell_type": "code",
   "execution_count": 8,
   "id": "122f5d46",
   "metadata": {},
   "outputs": [],
   "source": [
    "# Create features and target variables\n",
    "X = df.drop([\"Status\"], axis=1)  # Features\n",
    "y = df[\"Status\"]  # Target"
   ]
  },
  {
   "cell_type": "code",
   "execution_count": 15,
   "id": "50b578a6",
   "metadata": {},
   "outputs": [
    {
     "data": {
      "text/html": [
       "<div>\n",
       "<style scoped>\n",
       "    .dataframe tbody tr th:only-of-type {\n",
       "        vertical-align: middle;\n",
       "    }\n",
       "\n",
       "    .dataframe tbody tr th {\n",
       "        vertical-align: top;\n",
       "    }\n",
       "\n",
       "    .dataframe thead th {\n",
       "        text-align: right;\n",
       "    }\n",
       "</style>\n",
       "<table border=\"1\" class=\"dataframe\">\n",
       "  <thead>\n",
       "    <tr style=\"text-align: right;\">\n",
       "      <th></th>\n",
       "      <th>Greyhound Name</th>\n",
       "      <th>Earmark</th>\n",
       "      <th>Microchip</th>\n",
       "      <th>Reg Date</th>\n",
       "      <th>Whelp Date</th>\n",
       "      <th>OccuredAt</th>\n",
       "      <th>Sex_D</th>\n",
       "      <th>Retirement Type_EUT</th>\n",
       "      <th>Retirement Type_NEW</th>\n",
       "      <th>Retirement Type_RET</th>\n",
       "    </tr>\n",
       "  </thead>\n",
       "  <tbody>\n",
       "    <tr>\n",
       "      <th>0</th>\n",
       "      <td>COOLEMORE COUNT</td>\n",
       "      <td>YVRYL</td>\n",
       "      <td>9.772000e+14</td>\n",
       "      <td>12/02/2022</td>\n",
       "      <td>2022-12-02</td>\n",
       "      <td>2023-07-12 14:41:00</td>\n",
       "      <td>0</td>\n",
       "      <td>1</td>\n",
       "      <td>0</td>\n",
       "      <td>0</td>\n",
       "    </tr>\n",
       "    <tr>\n",
       "      <th>1</th>\n",
       "      <td>SPOOK MAGOO</td>\n",
       "      <td>UNBET</td>\n",
       "      <td>9.722740e+14</td>\n",
       "      <td>10/10/2018</td>\n",
       "      <td>2019-04-21</td>\n",
       "      <td>2023-07-12 12:24:00</td>\n",
       "      <td>1</td>\n",
       "      <td>1</td>\n",
       "      <td>0</td>\n",
       "      <td>0</td>\n",
       "    </tr>\n",
       "    <tr>\n",
       "      <th>2</th>\n",
       "      <td>PECKIES DAFFY</td>\n",
       "      <td>VYRAJ</td>\n",
       "      <td>9.722740e+14</td>\n",
       "      <td>07/05/2021</td>\n",
       "      <td>2020-03-26</td>\n",
       "      <td>2023-07-12 11:34:00</td>\n",
       "      <td>0</td>\n",
       "      <td>1</td>\n",
       "      <td>0</td>\n",
       "      <td>0</td>\n",
       "    </tr>\n",
       "    <tr>\n",
       "      <th>3</th>\n",
       "      <td>SPOOK MAGOO</td>\n",
       "      <td>UNBET</td>\n",
       "      <td>9.722740e+14</td>\n",
       "      <td>10/10/2018</td>\n",
       "      <td>2019-04-21</td>\n",
       "      <td>2023-07-12 11:24:00</td>\n",
       "      <td>1</td>\n",
       "      <td>0</td>\n",
       "      <td>0</td>\n",
       "      <td>1</td>\n",
       "    </tr>\n",
       "    <tr>\n",
       "      <th>4</th>\n",
       "      <td>SHELONE KING</td>\n",
       "      <td>UUKTL</td>\n",
       "      <td>9.722740e+14</td>\n",
       "      <td>15/04/2019</td>\n",
       "      <td>2019-04-15</td>\n",
       "      <td>2023-07-12 10:25:00</td>\n",
       "      <td>1</td>\n",
       "      <td>1</td>\n",
       "      <td>0</td>\n",
       "      <td>0</td>\n",
       "    </tr>\n",
       "    <tr>\n",
       "      <th>...</th>\n",
       "      <td>...</td>\n",
       "      <td>...</td>\n",
       "      <td>...</td>\n",
       "      <td>...</td>\n",
       "      <td>...</td>\n",
       "      <td>...</td>\n",
       "      <td>...</td>\n",
       "      <td>...</td>\n",
       "      <td>...</td>\n",
       "      <td>...</td>\n",
       "    </tr>\n",
       "    <tr>\n",
       "      <th>229956</th>\n",
       "      <td>KIWI SANDY</td>\n",
       "      <td>UTRBS</td>\n",
       "      <td>9.722740e+14</td>\n",
       "      <td>12/09/2019</td>\n",
       "      <td>2019-10-26</td>\n",
       "      <td>2021-10-01 06:01:00</td>\n",
       "      <td>0</td>\n",
       "      <td>1</td>\n",
       "      <td>0</td>\n",
       "      <td>0</td>\n",
       "    </tr>\n",
       "    <tr>\n",
       "      <th>229957</th>\n",
       "      <td>COUGARS HERO</td>\n",
       "      <td>USQIE</td>\n",
       "      <td>9.722740e+14</td>\n",
       "      <td>18/02/2020</td>\n",
       "      <td>2019-01-10</td>\n",
       "      <td>2021-10-01 06:01:00</td>\n",
       "      <td>1</td>\n",
       "      <td>1</td>\n",
       "      <td>0</td>\n",
       "      <td>0</td>\n",
       "    </tr>\n",
       "    <tr>\n",
       "      <th>229958</th>\n",
       "      <td>CLASSIC SYLVIA</td>\n",
       "      <td>UBDZZ</td>\n",
       "      <td>9.722740e+14</td>\n",
       "      <td>15/04/2021</td>\n",
       "      <td>2019-03-10</td>\n",
       "      <td>2021-10-01 06:01:00</td>\n",
       "      <td>0</td>\n",
       "      <td>0</td>\n",
       "      <td>0</td>\n",
       "      <td>0</td>\n",
       "    </tr>\n",
       "    <tr>\n",
       "      <th>229959</th>\n",
       "      <td>VIEW HERMOINE</td>\n",
       "      <td>UPVXM</td>\n",
       "      <td>9.722740e+14</td>\n",
       "      <td>04/10/2019</td>\n",
       "      <td>2019-12-06</td>\n",
       "      <td>2021-10-01 06:01:00</td>\n",
       "      <td>0</td>\n",
       "      <td>1</td>\n",
       "      <td>0</td>\n",
       "      <td>0</td>\n",
       "    </tr>\n",
       "    <tr>\n",
       "      <th>229960</th>\n",
       "      <td>DARBYS STORM</td>\n",
       "      <td>THSYE</td>\n",
       "      <td>9.722740e+14</td>\n",
       "      <td>17/10/2018</td>\n",
       "      <td>2018-07-14</td>\n",
       "      <td>2021-10-01 06:01:00</td>\n",
       "      <td>1</td>\n",
       "      <td>1</td>\n",
       "      <td>0</td>\n",
       "      <td>0</td>\n",
       "    </tr>\n",
       "  </tbody>\n",
       "</table>\n",
       "<p>224190 rows × 10 columns</p>\n",
       "</div>"
      ],
      "text/plain": [
       "         Greyhound Name Earmark     Microchip    Reg Date Whelp Date  \\\n",
       "0       COOLEMORE COUNT   YVRYL  9.772000e+14  12/02/2022 2022-12-02   \n",
       "1           SPOOK MAGOO   UNBET  9.722740e+14  10/10/2018 2019-04-21   \n",
       "2         PECKIES DAFFY   VYRAJ  9.722740e+14  07/05/2021 2020-03-26   \n",
       "3           SPOOK MAGOO   UNBET  9.722740e+14  10/10/2018 2019-04-21   \n",
       "4          SHELONE KING   UUKTL  9.722740e+14  15/04/2019 2019-04-15   \n",
       "...                 ...     ...           ...         ...        ...   \n",
       "229956       KIWI SANDY   UTRBS  9.722740e+14  12/09/2019 2019-10-26   \n",
       "229957     COUGARS HERO   USQIE  9.722740e+14  18/02/2020 2019-01-10   \n",
       "229958   CLASSIC SYLVIA   UBDZZ  9.722740e+14  15/04/2021 2019-03-10   \n",
       "229959    VIEW HERMOINE   UPVXM  9.722740e+14  04/10/2019 2019-12-06   \n",
       "229960     DARBYS STORM   THSYE  9.722740e+14  17/10/2018 2018-07-14   \n",
       "\n",
       "                 OccuredAt  Sex_D  Retirement Type_EUT  Retirement Type_NEW  \\\n",
       "0      2023-07-12 14:41:00      0                    1                    0   \n",
       "1      2023-07-12 12:24:00      1                    1                    0   \n",
       "2      2023-07-12 11:34:00      0                    1                    0   \n",
       "3      2023-07-12 11:24:00      1                    0                    0   \n",
       "4      2023-07-12 10:25:00      1                    1                    0   \n",
       "...                    ...    ...                  ...                  ...   \n",
       "229956 2021-10-01 06:01:00      0                    1                    0   \n",
       "229957 2021-10-01 06:01:00      1                    1                    0   \n",
       "229958 2021-10-01 06:01:00      0                    0                    0   \n",
       "229959 2021-10-01 06:01:00      0                    1                    0   \n",
       "229960 2021-10-01 06:01:00      1                    1                    0   \n",
       "\n",
       "        Retirement Type_RET  \n",
       "0                         0  \n",
       "1                         0  \n",
       "2                         0  \n",
       "3                         1  \n",
       "4                         0  \n",
       "...                     ...  \n",
       "229956                    0  \n",
       "229957                    0  \n",
       "229958                    0  \n",
       "229959                    0  \n",
       "229960                    0  \n",
       "\n",
       "[224190 rows x 10 columns]"
      ]
     },
     "execution_count": 15,
     "metadata": {},
     "output_type": "execute_result"
    }
   ],
   "source": [
    "X"
   ]
  },
  {
   "cell_type": "code",
   "execution_count": 11,
   "id": "150cf122",
   "metadata": {},
   "outputs": [],
   "source": [
    "# Split the data into training and testing sets\n",
    "X_train, X_test, y_train, y_test = train_test_split(X, y, test_size=0.2, random_state=42)\n"
   ]
  },
  {
   "cell_type": "code",
   "execution_count": 12,
   "id": "27722f04",
   "metadata": {},
   "outputs": [],
   "source": [
    "# Build the neural network\n",
    "model = Sequential()\n",
    "model.add(Dense(128, input_dim=X_train.shape[1], activation='relu'))\n",
    "model.add(Dense(64, activation='relu'))\n",
    "model.add(Dense(1, activation='sigmoid'))  # Sigmoid for binary classification\n"
   ]
  },
  {
   "cell_type": "code",
   "execution_count": 13,
   "id": "8950698d",
   "metadata": {},
   "outputs": [],
   "source": [
    "# Compile the model\n",
    "model.compile(loss='binary_crossentropy', optimizer='adam', metrics=['accuracy'])"
   ]
  },
  {
   "cell_type": "code",
   "execution_count": 14,
   "id": "d3a9be57",
   "metadata": {},
   "outputs": [
    {
     "ename": "ValueError",
     "evalue": "Failed to convert a NumPy array to a Tensor (Unsupported object type float).",
     "output_type": "error",
     "traceback": [
      "\u001b[1;31m---------------------------------------------------------------------------\u001b[0m",
      "\u001b[1;31mValueError\u001b[0m                                Traceback (most recent call last)",
      "Cell \u001b[1;32mIn[14], line 2\u001b[0m\n\u001b[0;32m      1\u001b[0m \u001b[38;5;66;03m# Train the model\u001b[39;00m\n\u001b[1;32m----> 2\u001b[0m model\u001b[38;5;241m.\u001b[39mfit(X_train, y_train, epochs\u001b[38;5;241m=\u001b[39m\u001b[38;5;241m10\u001b[39m, batch_size\u001b[38;5;241m=\u001b[39m\u001b[38;5;241m32\u001b[39m, validation_data\u001b[38;5;241m=\u001b[39m(X_test, y_test))\n",
      "File \u001b[1;32m~\\anaconda3\\Lib\\site-packages\\keras\\src\\utils\\traceback_utils.py:70\u001b[0m, in \u001b[0;36mfilter_traceback.<locals>.error_handler\u001b[1;34m(*args, **kwargs)\u001b[0m\n\u001b[0;32m     67\u001b[0m     filtered_tb \u001b[38;5;241m=\u001b[39m _process_traceback_frames(e\u001b[38;5;241m.\u001b[39m__traceback__)\n\u001b[0;32m     68\u001b[0m     \u001b[38;5;66;03m# To get the full stack trace, call:\u001b[39;00m\n\u001b[0;32m     69\u001b[0m     \u001b[38;5;66;03m# `tf.debugging.disable_traceback_filtering()`\u001b[39;00m\n\u001b[1;32m---> 70\u001b[0m     \u001b[38;5;28;01mraise\u001b[39;00m e\u001b[38;5;241m.\u001b[39mwith_traceback(filtered_tb) \u001b[38;5;28;01mfrom\u001b[39;00m \u001b[38;5;28;01mNone\u001b[39;00m\n\u001b[0;32m     71\u001b[0m \u001b[38;5;28;01mfinally\u001b[39;00m:\n\u001b[0;32m     72\u001b[0m     \u001b[38;5;28;01mdel\u001b[39;00m filtered_tb\n",
      "File \u001b[1;32m~\\anaconda3\\Lib\\site-packages\\tensorflow\\python\\framework\\constant_op.py:98\u001b[0m, in \u001b[0;36mconvert_to_eager_tensor\u001b[1;34m(value, ctx, dtype)\u001b[0m\n\u001b[0;32m     96\u001b[0m     dtype \u001b[38;5;241m=\u001b[39m dtypes\u001b[38;5;241m.\u001b[39mas_dtype(dtype)\u001b[38;5;241m.\u001b[39mas_datatype_enum\n\u001b[0;32m     97\u001b[0m ctx\u001b[38;5;241m.\u001b[39mensure_initialized()\n\u001b[1;32m---> 98\u001b[0m \u001b[38;5;28;01mreturn\u001b[39;00m ops\u001b[38;5;241m.\u001b[39mEagerTensor(value, ctx\u001b[38;5;241m.\u001b[39mdevice_name, dtype)\n",
      "\u001b[1;31mValueError\u001b[0m: Failed to convert a NumPy array to a Tensor (Unsupported object type float)."
     ]
    }
   ],
   "source": [
    "# Train the model\n",
    "model.fit(X_train, y_train, epochs=10, batch_size=32, validation_data=(X_test, y_test))"
   ]
  },
  {
   "cell_type": "code",
   "execution_count": null,
   "id": "aec0d806",
   "metadata": {},
   "outputs": [],
   "source": []
  }
 ],
 "metadata": {
  "kernelspec": {
   "display_name": "Python 3 (ipykernel)",
   "language": "python",
   "name": "python3"
  },
  "language_info": {
   "codemirror_mode": {
    "name": "ipython",
    "version": 3
   },
   "file_extension": ".py",
   "mimetype": "text/x-python",
   "name": "python",
   "nbconvert_exporter": "python",
   "pygments_lexer": "ipython3",
   "version": "3.11.4"
  }
 },
 "nbformat": 4,
 "nbformat_minor": 5
}
