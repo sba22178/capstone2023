{
 "cells": [
  {
   "cell_type": "code",
   "execution_count": 1,
   "id": "110d161f",
   "metadata": {},
   "outputs": [],
   "source": [
    "import pandas as pd \n",
    "import numpy as np\n",
    "import matplotlib.pyplot as plt\n",
    "import seaborn as sns\n",
    "%matplotlib inline\n",
    "from sklearn.model_selection import train_test_split"
   ]
  },
  {
   "cell_type": "markdown",
   "id": "5123d18d",
   "metadata": {},
   "source": [
    "## split into training and testing data "
   ]
  },
  {
   "cell_type": "code",
   "execution_count": 2,
   "id": "25063dd9",
   "metadata": {},
   "outputs": [],
   "source": [
    "df   = pd.read_csv('output.csv', low_memory=False)"
   ]
  },
  {
   "cell_type": "code",
   "execution_count": 3,
   "id": "ca65d8e1",
   "metadata": {},
   "outputs": [],
   "source": [
    "# Define the proportion of data for training (e.g., 80%)\n",
    "train_proportion = 0.8"
   ]
  },
  {
   "cell_type": "code",
   "execution_count": 4,
   "id": "5ec063bf",
   "metadata": {},
   "outputs": [],
   "source": [
    "# Calculate the number of rows for training and testing\n",
    "num_rows = len(df)\n",
    "num_train = int(num_rows * train_proportion)\n",
    "num_test = num_rows - num_train"
   ]
  },
  {
   "cell_type": "code",
   "execution_count": 5,
   "id": "fcd685c7",
   "metadata": {},
   "outputs": [],
   "source": [
    "# Randomly sample rows for training\n",
    "train_indices = df.sample(n=num_train, random_state=42).index\n",
    "train_df = df.loc[train_indices]"
   ]
  },
  {
   "cell_type": "code",
   "execution_count": 6,
   "id": "af6e6444",
   "metadata": {},
   "outputs": [],
   "source": [
    "# Use the remaining rows for testing\n",
    "test_df = df.drop(train_indices)"
   ]
  },
  {
   "cell_type": "code",
   "execution_count": 7,
   "id": "ce1a9cd2",
   "metadata": {},
   "outputs": [],
   "source": [
    "# Write training and testing DataFrames to CSV files\n",
    "train_df.to_csv('training_data.csv', index=False)\n",
    "test_df.to_csv('testing_data.csv', index=False)"
   ]
  },
  {
   "cell_type": "code",
   "execution_count": 8,
   "id": "7d7c374b",
   "metadata": {},
   "outputs": [],
   "source": [
    "training_data= pd.read_csv('training_data.csv', low_memory=False)"
   ]
  },
  {
   "cell_type": "code",
   "execution_count": 9,
   "id": "acc40954",
   "metadata": {},
   "outputs": [
    {
     "data": {
      "text/plain": [
       "(187004, 9)"
      ]
     },
     "execution_count": 9,
     "metadata": {},
     "output_type": "execute_result"
    }
   ],
   "source": [
    "training_data.shape"
   ]
  },
  {
   "cell_type": "code",
   "execution_count": 10,
   "id": "7bd9d202",
   "metadata": {},
   "outputs": [
    {
     "data": {
      "text/plain": [
       "array(['RAC', 'REG', 'EUT', 'DIE', 'RET', 'NEW'], dtype=object)"
      ]
     },
     "execution_count": 10,
     "metadata": {},
     "output_type": "execute_result"
    }
   ],
   "source": [
    "training_data[\"Status\"].unique()"
   ]
  },
  {
   "cell_type": "code",
   "execution_count": 11,
   "id": "80e0322c",
   "metadata": {},
   "outputs": [],
   "source": [
    "# Convert \"Status\" column to float and encode categorical labels\n",
    "training_data[\"Status\"] = training_data[\"Status\"].map({\"EUT\": 0, \"RAC\": 1,\"DIE\":2,\"REG\":3,\"RET\":4,\"NEW\":5}).astype(float)\n"
   ]
  },
  {
   "cell_type": "code",
   "execution_count": 12,
   "id": "69e77264",
   "metadata": {},
   "outputs": [
    {
     "data": {
      "text/html": [
       "<div>\n",
       "<style scoped>\n",
       "    .dataframe tbody tr th:only-of-type {\n",
       "        vertical-align: middle;\n",
       "    }\n",
       "\n",
       "    .dataframe tbody tr th {\n",
       "        vertical-align: top;\n",
       "    }\n",
       "\n",
       "    .dataframe thead th {\n",
       "        text-align: right;\n",
       "    }\n",
       "</style>\n",
       "<table border=\"1\" class=\"dataframe\">\n",
       "  <thead>\n",
       "    <tr style=\"text-align: right;\">\n",
       "      <th></th>\n",
       "      <th>Greyhound Name</th>\n",
       "      <th>Earmark</th>\n",
       "      <th>Microchip</th>\n",
       "      <th>Reg Date</th>\n",
       "      <th>Sex</th>\n",
       "      <th>Whelp Date</th>\n",
       "      <th>Retirement Type</th>\n",
       "      <th>OccuredAt</th>\n",
       "      <th>Status</th>\n",
       "    </tr>\n",
       "  </thead>\n",
       "  <tbody>\n",
       "    <tr>\n",
       "      <th>0</th>\n",
       "      <td>FEED ME BISTO</td>\n",
       "      <td>UDUTK</td>\n",
       "      <td>9.722740e+14</td>\n",
       "      <td>07/08/2019</td>\n",
       "      <td>D</td>\n",
       "      <td>25/04/2019</td>\n",
       "      <td>RET</td>\n",
       "      <td>06/08/2022 10:35</td>\n",
       "      <td>1.0</td>\n",
       "    </tr>\n",
       "    <tr>\n",
       "      <th>1</th>\n",
       "      <td>SEANIESAIDSYDNEY</td>\n",
       "      <td>XXMLH</td>\n",
       "      <td>9.772000e+14</td>\n",
       "      <td>28/10/2021</td>\n",
       "      <td>D</td>\n",
       "      <td>17/07/2021</td>\n",
       "      <td>DIE</td>\n",
       "      <td>22/05/2023 16:43</td>\n",
       "      <td>1.0</td>\n",
       "    </tr>\n",
       "    <tr>\n",
       "      <th>2</th>\n",
       "      <td>LISSATOUK BORIS</td>\n",
       "      <td>VVYQK</td>\n",
       "      <td>9.772000e+14</td>\n",
       "      <td>05/05/2021</td>\n",
       "      <td>D</td>\n",
       "      <td>07/09/2020</td>\n",
       "      <td>DIE</td>\n",
       "      <td>25/02/2022 06:08</td>\n",
       "      <td>1.0</td>\n",
       "    </tr>\n",
       "    <tr>\n",
       "      <th>3</th>\n",
       "      <td>STORMY BENGI</td>\n",
       "      <td>XHLZL</td>\n",
       "      <td>9.772000e+14</td>\n",
       "      <td>07/12/2021</td>\n",
       "      <td>D</td>\n",
       "      <td>17/08/2021</td>\n",
       "      <td>DIE</td>\n",
       "      <td>25/06/2023 06:30</td>\n",
       "      <td>1.0</td>\n",
       "    </tr>\n",
       "    <tr>\n",
       "      <th>4</th>\n",
       "      <td>NaN</td>\n",
       "      <td>XPQEK</td>\n",
       "      <td>9.772000e+14</td>\n",
       "      <td>19/11/2021</td>\n",
       "      <td>D</td>\n",
       "      <td>05/08/2021</td>\n",
       "      <td>DIE</td>\n",
       "      <td>18/02/2022 06:02</td>\n",
       "      <td>1.0</td>\n",
       "    </tr>\n",
       "  </tbody>\n",
       "</table>\n",
       "</div>"
      ],
      "text/plain": [
       "     Greyhound Name Earmark     Microchip    Reg Date Sex  Whelp Date  \\\n",
       "0     FEED ME BISTO   UDUTK  9.722740e+14  07/08/2019   D  25/04/2019   \n",
       "1  SEANIESAIDSYDNEY   XXMLH  9.772000e+14  28/10/2021   D  17/07/2021   \n",
       "2   LISSATOUK BORIS   VVYQK  9.772000e+14  05/05/2021   D  07/09/2020   \n",
       "3      STORMY BENGI   XHLZL  9.772000e+14  07/12/2021   D  17/08/2021   \n",
       "4               NaN   XPQEK  9.772000e+14  19/11/2021   D  05/08/2021   \n",
       "\n",
       "  Retirement Type         OccuredAt  Status  \n",
       "0             RET  06/08/2022 10:35     1.0  \n",
       "1             DIE  22/05/2023 16:43     1.0  \n",
       "2             DIE  25/02/2022 06:08     1.0  \n",
       "3             DIE  25/06/2023 06:30     1.0  \n",
       "4             DIE  18/02/2022 06:02     1.0  "
      ]
     },
     "execution_count": 12,
     "metadata": {},
     "output_type": "execute_result"
    }
   ],
   "source": [
    "training_data.head()"
   ]
  },
  {
   "cell_type": "code",
   "execution_count": 13,
   "id": "2833259a",
   "metadata": {},
   "outputs": [
    {
     "data": {
      "text/plain": [
       "<seaborn.axisgrid.PairGrid at 0x216eeecb890>"
      ]
     },
     "execution_count": 13,
     "metadata": {},
     "output_type": "execute_result"
    },
    {
     "data": {
      "image/png": "[encoded data removed]",
      "text/plain": [
       "<Figure size 500x500 with 6 Axes>"
      ]
     },
     "metadata": {},
     "output_type": "display_data"
    }
   ],
   "source": [
    "#this data should corrolated.\n",
    "sns.pairplot(training_data)"
   ]
  },
  {
   "cell_type": "code",
   "execution_count": 14,
   "id": "4ed10537",
   "metadata": {},
   "outputs": [],
   "source": [
    "training_data = training_data.iloc[:,8].values"
   ]
  },
  {
   "cell_type": "code",
   "execution_count": 15,
   "id": "2408079c",
   "metadata": {},
   "outputs": [
    {
     "data": {
      "text/plain": [
       "array([1., 1., 1., ..., 1., 1., 1.])"
      ]
     },
     "execution_count": 15,
     "metadata": {},
     "output_type": "execute_result"
    }
   ],
   "source": [
    "training_data"
   ]
  },
  {
   "cell_type": "code",
   "execution_count": 16,
   "id": "c6888e24",
   "metadata": {},
   "outputs": [
    {
     "data": {
      "text/plain": [
       "numpy.ndarray"
      ]
     },
     "execution_count": 16,
     "metadata": {},
     "output_type": "execute_result"
    }
   ],
   "source": [
    "type(training_data)"
   ]
  },
  {
   "cell_type": "code",
   "execution_count": 17,
   "id": "6bd07705",
   "metadata": {},
   "outputs": [
    {
     "data": {
      "text/plain": [
       "5.0"
      ]
     },
     "execution_count": 17,
     "metadata": {},
     "output_type": "execute_result"
    }
   ],
   "source": [
    "min(training_data)\n",
    "max(training_data)"
   ]
  },
  {
   "cell_type": "code",
   "execution_count": 18,
   "id": "76ead08d",
   "metadata": {},
   "outputs": [],
   "source": [
    "# scale the data , with a min max scaler\n",
    "from sklearn.preprocessing import MinMaxScaler"
   ]
  },
  {
   "cell_type": "code",
   "execution_count": 19,
   "id": "2381a033",
   "metadata": {},
   "outputs": [],
   "source": [
    "scaler = MinMaxScaler()"
   ]
  },
  {
   "cell_type": "code",
   "execution_count": 20,
   "id": "4335389f",
   "metadata": {},
   "outputs": [
    {
     "data": {
      "text/plain": [
       "(187004,)"
      ]
     },
     "execution_count": 20,
     "metadata": {},
     "output_type": "execute_result"
    }
   ],
   "source": [
    "training_data.shape"
   ]
  },
  {
   "cell_type": "code",
   "execution_count": 21,
   "id": "b242aae1",
   "metadata": {},
   "outputs": [],
   "source": [
    "#the data is now only 1 dimissional data , needs to be 2 dimissional data\n",
    "#reshape the data\n",
    "training_data = scaler.fit_transform(training_data.reshape(-1,1))"
   ]
  },
  {
   "cell_type": "code",
   "execution_count": 22,
   "id": "c90b097b",
   "metadata": {},
   "outputs": [
    {
     "data": {
      "text/plain": [
       "(187004, 1)"
      ]
     },
     "execution_count": 22,
     "metadata": {},
     "output_type": "execute_result"
    }
   ],
   "source": [
    "training_data.shape"
   ]
  },
  {
   "cell_type": "code",
   "execution_count": 23,
   "id": "978f4425",
   "metadata": {},
   "outputs": [
    {
     "data": {
      "text/plain": [
       "array([[0.2],\n",
       "       [0.2],\n",
       "       [0.2],\n",
       "       ...,\n",
       "       [0.2],\n",
       "       [0.2],\n",
       "       [0.2]])"
      ]
     },
     "execution_count": 23,
     "metadata": {},
     "output_type": "execute_result"
    }
   ],
   "source": [
    "training_data"
   ]
  },
  {
   "cell_type": "code",
   "execution_count": 24,
   "id": "c43cc8d0",
   "metadata": {},
   "outputs": [],
   "source": [
    "#create 2 list, taking 40 days data to predict 1 day.\n",
    "x_training_data = [] # 40 days\n",
    "y_training_data = [] # 1 days"
   ]
  },
  {
   "cell_type": "code",
   "execution_count": 25,
   "id": "5262f722",
   "metadata": {},
   "outputs": [],
   "source": [
    "for i in range(40,len(training_data)):\n",
    "    x_training_data.append(training_data[i-40:i,0])\n",
    "    y_training_data.append(training_data[i,0])"
   ]
  },
  {
   "cell_type": "code",
   "execution_count": 26,
   "id": "265a711c",
   "metadata": {},
   "outputs": [],
   "source": [
    "#currently x_training and y_training are a list and need to be a numpy array\n",
    "x_training_data = np.array(x_training_data)\n",
    "y_training_data = np.array(y_training_data)"
   ]
  },
  {
   "cell_type": "code",
   "execution_count": 27,
   "id": "7764e0ce",
   "metadata": {},
   "outputs": [],
   "source": [
    "# the last step is to reshape our x_training_data(independant variable) into 3 dimensional and the \n",
    "# y_training_data(dependant variable) into 2 dimensional\n",
    "x_training_data = np.reshape(x_training_data,(x_training_data.shape[0],\n",
    "                             x_training_data.shape[1],\n",
    "                              1))"
   ]
  },
  {
   "cell_type": "code",
   "execution_count": 28,
   "id": "86df20ec",
   "metadata": {},
   "outputs": [
    {
     "data": {
      "text/plain": [
       "(186964, 40, 1)"
      ]
     },
     "execution_count": 28,
     "metadata": {},
     "output_type": "execute_result"
    }
   ],
   "source": [
    "#tensors requires 3 dimensions\n",
    "x_training_data.shape"
   ]
  },
  {
   "cell_type": "markdown",
   "id": "e01c8428",
   "metadata": {},
   "source": [
    "Part2 Tensorflow"
   ]
  },
  {
   "cell_type": "code",
   "execution_count": 29,
   "id": "43d7eda3",
   "metadata": {},
   "outputs": [],
   "source": [
    "from tensorflow.keras.models import Sequential\n",
    "from tensorflow.keras.layers import Dense\n",
    "from tensorflow.keras.layers import LSTM\n",
    "from tensorflow.keras.layers import Dropout"
   ]
  },
  {
   "cell_type": "code",
   "execution_count": 30,
   "id": "2d375bd2",
   "metadata": {},
   "outputs": [],
   "source": [
    "#build Recurrent Neural Network(RNN)\n",
    "rnn = Sequential()"
   ]
  },
  {
   "cell_type": "code",
   "execution_count": 31,
   "id": "745f8240",
   "metadata": {},
   "outputs": [],
   "source": [
    "#layer 1\n",
    "rnn.add(LSTM(units=45,return_sequences=True,input_shape=(x_training_data.shape[1],1)))\n",
    "#to help overfitting drop rate of 20%\n",
    "rnn.add(Dropout(0.2))"
   ]
  },
  {
   "cell_type": "code",
   "execution_count": 32,
   "id": "b7cd7811",
   "metadata": {},
   "outputs": [],
   "source": [
    "#layer 2\n",
    "rnn.add(LSTM(units=45,return_sequences=True))\n",
    "#to help overfitting drop rate of 20%\n",
    "rnn.add(Dropout(0.2))"
   ]
  },
  {
   "cell_type": "code",
   "execution_count": 33,
   "id": "6071bdf2",
   "metadata": {},
   "outputs": [],
   "source": [
    "#Layer 3\n",
    "rnn.add(LSTM(units=45))\n",
    "#to help overfitting drop rate of 20%\n",
    "rnn.add(Dropout(0.2))"
   ]
  },
  {
   "cell_type": "code",
   "execution_count": 34,
   "id": "72901dd7",
   "metadata": {},
   "outputs": [],
   "source": [
    "#output layer\n",
    "rnn.add(Dense(units=1))"
   ]
  },
  {
   "cell_type": "code",
   "execution_count": 35,
   "id": "c9bcf154",
   "metadata": {},
   "outputs": [],
   "source": [
    "rnn.compile(optimizer = 'adam', loss = 'mean_squared_error')"
   ]
  },
  {
   "cell_type": "code",
   "execution_count": null,
   "id": "574c6f0b",
   "metadata": {},
   "outputs": [
    {
     "name": "stdout",
     "output_type": "stream",
     "text": [
      "Epoch 1/20\n",
      "5843/5843 [==============================] - 331s 55ms/step - loss: 0.0133\n",
      "Epoch 2/20\n",
      "5843/5843 [==============================] - 287s 49ms/step - loss: 0.0131\n",
      "Epoch 3/20\n",
      "5843/5843 [==============================] - 285s 49ms/step - loss: 0.0131\n",
      "Epoch 4/20\n",
      "5843/5843 [==============================] - 284s 49ms/step - loss: 0.0131\n",
      "Epoch 5/20\n",
      "5843/5843 [==============================] - 302s 52ms/step - loss: 0.0131\n",
      "Epoch 6/20\n",
      "5258/5843 [=========================>....] - ETA: 30s - loss: 0.0130"
     ]
    }
   ],
   "source": [
    "#frame this\n",
    "rnn.fit(x_training_data,y_training_data, epochs=10, batch_size=32)"
   ]
  },
  {
   "cell_type": "markdown",
   "id": "1fd54878",
   "metadata": {},
   "source": [
    "### Part 3 make predictions"
   ]
  },
  {
   "cell_type": "code",
   "execution_count": 51,
   "id": "73367e73",
   "metadata": {},
   "outputs": [
    {
     "name": "stdout",
     "output_type": "stream",
     "text": [
      "(46751,)\n"
     ]
    },
    {
     "data": {
      "text/plain": [
       "[<matplotlib.lines.Line2D at 0x22c36a53ad0>]"
      ]
     },
     "execution_count": 51,
     "metadata": {},
     "output_type": "execute_result"
    },
    {
     "data": {
      "image/png": "[encoded data removed]",
      "text/plain": [
       "<Figure size 640x480 with 1 Axes>"
      ]
     },
     "metadata": {},
     "output_type": "display_data"
    }
   ],
   "source": [
    "#Import the test data set and transform it into a NumPy array\n",
    "test_data = pd.read_csv('testing_data.csv')\n",
    "test_data = test_data.iloc[:,8].values\n",
    "#Make sure the test data's shape makes sense\n",
    "print(test_data.shape)\n",
    "#Plot the test data\n",
    "plt.plot(test_data)"
   ]
  },
  {
   "cell_type": "code",
   "execution_count": null,
   "id": "3870838b",
   "metadata": {},
   "outputs": [],
   "source": [
    "#Create unscaled training data and test data objects\n",
    "unscaled_training_data = pd.read_csv('training_data.csv')\n",
    "unscaled_test_data = pd.read_csv('testing_data.csv')\n",
    "# Convert \"Status\" column to float and encode categorical labels"
   ]
  },
  {
   "cell_type": "code",
   "execution_count": 60,
   "id": "d6e75604",
   "metadata": {},
   "outputs": [],
   "source": [
    "unscaled_training_data[\"Status\"] = unscaled_training_data[\"Status\"].map({\"EUT\": 0, \"RAC\": 1,\"DIE\":2,\"REG\":3,\"RET\":4,\"NEW\":5}).astype(float)\n",
    "\n",
    "unscaled_test_data[\"Status\"] = unscaled_test_data[\"Status\"].map({\"EUT\": 0, \"RAC\": 1,\"DIE\":2,\"REG\":3,\"RET\":4,\"NEW\":5}).astype(float)\n"
   ]
  },
  {
   "cell_type": "code",
   "execution_count": 61,
   "id": "7f0c3023",
   "metadata": {},
   "outputs": [],
   "source": [
    "all_data=pd.concat((unscaled_training_data['Status'],\n",
    "unscaled_test_data['Status']), axis = 0)"
   ]
  },
  {
   "cell_type": "code",
   "execution_count": 62,
   "id": "e31cf482",
   "metadata": {},
   "outputs": [],
   "source": [
    "#Create our x_test_data object, which has each January day + the 40 prior days\n",
    "x_test_data = all_data[len(all_data) - len(test_data) - 40:].values\n",
    "x_test_data = np.reshape(x_test_data, (-1, 1))"
   ]
  },
  {
   "cell_type": "code",
   "execution_count": 63,
   "id": "fd0599be",
   "metadata": {},
   "outputs": [
    {
     "data": {
      "text/plain": [
       "array([[1.],\n",
       "       [1.],\n",
       "       [1.],\n",
       "       ...,\n",
       "       [0.],\n",
       "       [0.],\n",
       "       [0.]])"
      ]
     },
     "execution_count": 63,
     "metadata": {},
     "output_type": "execute_result"
    }
   ],
   "source": [
    "x_test_data"
   ]
  },
  {
   "cell_type": "code",
   "execution_count": 64,
   "id": "b38e2d28",
   "metadata": {},
   "outputs": [],
   "source": [
    "#Scale the test data\n",
    "x_test_data = scaler.transform(x_test_data)"
   ]
  },
  {
   "cell_type": "code",
   "execution_count": 65,
   "id": "c5ceadf7",
   "metadata": {},
   "outputs": [],
   "source": [
    "#Grouping our test data\n",
    "final_x_test_data = []\n",
    "for i in range(40, len(x_test_data)):\n",
    "    final_x_test_data.append(x_test_data[i-40:i, 0])\n",
    "final_x_test_data = np.array(final_x_test_data) "
   ]
  },
  {
   "cell_type": "code",
   "execution_count": 66,
   "id": "bdb2bf62",
   "metadata": {},
   "outputs": [],
   "source": [
    "#Reshaping the NumPy array to meet TensorFlow standards\n",
    "final_x_test_data=np.reshape(final_x_test_data,\n",
    "(final_x_test_data.shape[0], final_x_test_data.shape[1], 1))"
   ]
  },
  {
   "cell_type": "code",
   "execution_count": 67,
   "id": "778d69ef",
   "metadata": {},
   "outputs": [
    {
     "name": "stdout",
     "output_type": "stream",
     "text": [
      "1461/1461 [==============================] - 29s 19ms/step\n"
     ]
    }
   ],
   "source": [
    "#Generating our predicted values\n",
    "predictions = rnn.predict(final_x_test_data)"
   ]
  },
  {
   "cell_type": "code",
   "execution_count": 68,
   "id": "19abefe3",
   "metadata": {},
   "outputs": [
    {
     "data": {
      "text/plain": [
       "[<matplotlib.lines.Line2D at 0x22c36a75850>]"
      ]
     },
     "execution_count": 68,
     "metadata": {},
     "output_type": "execute_result"
    },
    {
     "data": {
      "image/png": "[encoded data removed]",
      "text/plain": [
       "<Figure size 640x480 with 1 Axes>"
      ]
     },
     "metadata": {},
     "output_type": "display_data"
    }
   ],
   "source": [
    "#Plotting our predicted values\n",
    "plt.clf() #This clears the old plot from our canvas\n",
    "plt.plot(predictions)"
   ]
  },
  {
   "cell_type": "code",
   "execution_count": 69,
   "id": "bea1bc36",
   "metadata": {},
   "outputs": [
    {
     "data": {
      "text/plain": [
       "[<matplotlib.lines.Line2D at 0x22c458e7c10>]"
      ]
     },
     "execution_count": 69,
     "metadata": {},
     "output_type": "execute_result"
    },
    {
     "data": {
      "image/png": "[encoded data removed]",
      "text/plain": [
       "<Figure size 640x480 with 1 Axes>"
      ]
     },
     "metadata": {},
     "output_type": "display_data"
    }
   ],
   "source": [
    "#Unscaling the predicted values and re-plotting the data\n",
    "unscaled_predictions = scaler.inverse_transform(predictions)\n",
    "plt.plot(unscaled_predictions) "
   ]
  },
  {
   "cell_type": "code",
   "execution_count": 72,
   "id": "f0d2c7bf",
   "metadata": {},
   "outputs": [
    {
     "data": {
      "text/plain": [
       "<matplotlib.legend.Legend at 0x22c47fe6410>"
      ]
     },
     "execution_count": 72,
     "metadata": {},
     "output_type": "execute_result"
    },
    {
     "data": {
      "image/png": "[encoded data removed]",
      "text/plain": [
       "<Figure size 640x480 with 1 Axes>"
      ]
     },
     "metadata": {},
     "output_type": "display_data"
    }
   ],
   "source": [
    "#Plotting the predicted values against Facebook's actual stock price\n",
    "plt.plot(unscaled_predictions, color = 'Green', label = \"Predictions\")\n",
    "plt.plot(test_data, color = 'blue', label = \"Real Data\")\n",
    "plt.title('All Greyhounds ')\n",
    "plt.legend()"
   ]
  },
  {
   "cell_type": "code",
   "execution_count": null,
   "id": "19f6bcb3",
   "metadata": {},
   "outputs": [],
   "source": []
  }
 ],
 "metadata": {
  "kernelspec": {
   "display_name": "Python 3 (ipykernel)",
   "language": "python",
   "name": "python3"
  },
  "language_info": {
   "codemirror_mode": {
    "name": "ipython",
    "version": 3
   },
   "file_extension": ".py",
   "mimetype": "text/x-python",
   "name": "python",
   "nbconvert_exporter": "python",
   "pygments_lexer": "ipython3",
   "version": "3.11.4"
  }
 },
 "nbformat": 4,
 "nbformat_minor": 5
}
