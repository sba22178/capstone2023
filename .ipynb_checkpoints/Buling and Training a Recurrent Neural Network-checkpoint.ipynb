{
 "cells": [
  {
   "cell_type": "code",
   "execution_count": 45,
   "id": "110d161f",
   "metadata": {},
   "outputs": [],
   "source": [
    "import pandas as pd \n",
    "import numpy as np\n",
    "import matplotlib.pyplot as plt\n",
    "import seaborn as sns\n",
    "%matplotlib inline\n",
    "from sklearn.model_selection import train_test_split"
   ]
  },
  {
   "cell_type": "markdown",
   "id": "5123d18d",
   "metadata": {},
   "source": [
    "## split into training and testing data "
   ]
  },
  {
   "cell_type": "code",
   "execution_count": 46,
   "id": "25063dd9",
   "metadata": {},
   "outputs": [],
   "source": [
    "df   = pd.read_csv('output.csv', low_memory=False)"
   ]
  },
  {
   "cell_type": "code",
   "execution_count": 47,
   "id": "ce1a9cd2",
   "metadata": {},
   "outputs": [],
   "source": [
    "# Define the proportion of data for training (e.g., 80%)\n",
    "train_proportion = 0.8\n",
    "\n",
    "# Calculate the number of rows for training and testing\n",
    "num_rows = len(df)\n",
    "num_train = int(num_rows * train_proportion)\n",
    "num_test = num_rows - num_train\n",
    "\n",
    "# Randomly sample rows for training\n",
    "train_indices = df.sample(n=num_train, random_state=42).index\n",
    "train_df = df.loc[train_indices]\n",
    "\n",
    "# Use the remaining rows for testing\n",
    "test_df = df.drop(train_indices)\n",
    "\n",
    "# Write training and testing DataFrames to CSV files\n",
    "train_df.to_csv('training_data.csv', index=False)\n",
    "test_df.to_csv('testing_data.csv', index=False)"
   ]
  },
  {
   "cell_type": "code",
   "execution_count": 48,
   "id": "7d7c374b",
   "metadata": {},
   "outputs": [],
   "source": [
    "training_data= pd.read_csv('training_data.csv', low_memory=False)"
   ]
  },
  {
   "cell_type": "code",
   "execution_count": 49,
   "id": "acc40954",
   "metadata": {},
   "outputs": [
    {
     "data": {
      "text/plain": [
       "(187004, 9)"
      ]
     },
     "execution_count": 49,
     "metadata": {},
     "output_type": "execute_result"
    }
   ],
   "source": [
    "training_data.shape"
   ]
  },
  {
   "cell_type": "code",
   "execution_count": 11,
   "id": "7bd9d202",
   "metadata": {},
   "outputs": [
    {
     "data": {
      "text/plain": [
       "array(['EUT', 'RAC', 'DIE', 'REG', 'RET', 'NEW'], dtype=object)"
      ]
     },
     "execution_count": 11,
     "metadata": {},
     "output_type": "execute_result"
    }
   ],
   "source": [
    "training_data[\"Status\"].unique()"
   ]
  },
  {
   "cell_type": "code",
   "execution_count": 12,
   "id": "80e0322c",
   "metadata": {},
   "outputs": [],
   "source": [
    "# Convert \"Status\" column to float and encode categorical labels\n",
    "training_data[\"Status\"] = training_data[\"Status\"].map({\"EUT\": 0, \"RAC\": 1,\"DIE\":2,\"REG\":3,\"RET\":4,\"NEW\":5}).astype(float)\n"
   ]
  },
  {
   "cell_type": "code",
   "execution_count": 13,
   "id": "69e77264",
   "metadata": {},
   "outputs": [
    {
     "data": {
      "text/html": [
       "<div>\n",
       "<style scoped>\n",
       "    .dataframe tbody tr th:only-of-type {\n",
       "        vertical-align: middle;\n",
       "    }\n",
       "\n",
       "    .dataframe tbody tr th {\n",
       "        vertical-align: top;\n",
       "    }\n",
       "\n",
       "    .dataframe thead th {\n",
       "        text-align: right;\n",
       "    }\n",
       "</style>\n",
       "<table border=\"1\" class=\"dataframe\">\n",
       "  <thead>\n",
       "    <tr style=\"text-align: right;\">\n",
       "      <th></th>\n",
       "      <th>Greyhound Name</th>\n",
       "      <th>Earmark</th>\n",
       "      <th>Microchip</th>\n",
       "      <th>Reg Date</th>\n",
       "      <th>Sex</th>\n",
       "      <th>Whelp Date</th>\n",
       "      <th>Retirement Type</th>\n",
       "      <th>OccuredAt</th>\n",
       "      <th>Status</th>\n",
       "    </tr>\n",
       "  </thead>\n",
       "  <tbody>\n",
       "    <tr>\n",
       "      <th>0</th>\n",
       "      <td>COOLEMORE COUNT</td>\n",
       "      <td>YVRYL</td>\n",
       "      <td>9.772000e+14</td>\n",
       "      <td>12/02/2022</td>\n",
       "      <td>B</td>\n",
       "      <td>12/02/2022</td>\n",
       "      <td>EUT</td>\n",
       "      <td>07/12/2023 14:41</td>\n",
       "      <td>0.0</td>\n",
       "    </tr>\n",
       "    <tr>\n",
       "      <th>1</th>\n",
       "      <td>SPOOK MAGOO</td>\n",
       "      <td>UNBET</td>\n",
       "      <td>9.722740e+14</td>\n",
       "      <td>10/10/2018</td>\n",
       "      <td>D</td>\n",
       "      <td>21/04/2019</td>\n",
       "      <td>EUT</td>\n",
       "      <td>07/12/2023 12:24</td>\n",
       "      <td>0.0</td>\n",
       "    </tr>\n",
       "    <tr>\n",
       "      <th>2</th>\n",
       "      <td>PECKIES DAFFY</td>\n",
       "      <td>VYRAJ</td>\n",
       "      <td>9.722740e+14</td>\n",
       "      <td>07/05/2021</td>\n",
       "      <td>B</td>\n",
       "      <td>26/03/2020</td>\n",
       "      <td>EUT</td>\n",
       "      <td>07/12/2023 11:34</td>\n",
       "      <td>0.0</td>\n",
       "    </tr>\n",
       "    <tr>\n",
       "      <th>3</th>\n",
       "      <td>SPOOK MAGOO</td>\n",
       "      <td>UNBET</td>\n",
       "      <td>9.722740e+14</td>\n",
       "      <td>10/10/2018</td>\n",
       "      <td>D</td>\n",
       "      <td>21/04/2019</td>\n",
       "      <td>RET</td>\n",
       "      <td>07/12/2023 11:24</td>\n",
       "      <td>1.0</td>\n",
       "    </tr>\n",
       "    <tr>\n",
       "      <th>4</th>\n",
       "      <td>SHELONE KING</td>\n",
       "      <td>UUKTL</td>\n",
       "      <td>9.722740e+14</td>\n",
       "      <td>15/04/2019</td>\n",
       "      <td>D</td>\n",
       "      <td>15/04/2019</td>\n",
       "      <td>EUT</td>\n",
       "      <td>07/12/2023 10:25</td>\n",
       "      <td>0.0</td>\n",
       "    </tr>\n",
       "  </tbody>\n",
       "</table>\n",
       "</div>"
      ],
      "text/plain": [
       "    Greyhound Name Earmark     Microchip    Reg Date Sex  Whelp Date  \\\n",
       "0  COOLEMORE COUNT   YVRYL  9.772000e+14  12/02/2022   B  12/02/2022   \n",
       "1      SPOOK MAGOO   UNBET  9.722740e+14  10/10/2018   D  21/04/2019   \n",
       "2    PECKIES DAFFY   VYRAJ  9.722740e+14  07/05/2021   B  26/03/2020   \n",
       "3      SPOOK MAGOO   UNBET  9.722740e+14  10/10/2018   D  21/04/2019   \n",
       "4     SHELONE KING   UUKTL  9.722740e+14  15/04/2019   D  15/04/2019   \n",
       "\n",
       "  Retirement Type         OccuredAt  Status  \n",
       "0             EUT  07/12/2023 14:41     0.0  \n",
       "1             EUT  07/12/2023 12:24     0.0  \n",
       "2             EUT  07/12/2023 11:34     0.0  \n",
       "3             RET  07/12/2023 11:24     1.0  \n",
       "4             EUT  07/12/2023 10:25     0.0  "
      ]
     },
     "execution_count": 13,
     "metadata": {},
     "output_type": "execute_result"
    }
   ],
   "source": [
    "training_data.head()"
   ]
  },
  {
   "cell_type": "code",
   "execution_count": 14,
   "id": "2833259a",
   "metadata": {},
   "outputs": [
    {
     "data": {
      "text/plain": [
       "<seaborn.axisgrid.PairGrid at 0x22c0f3c98d0>"
      ]
     },
     "execution_count": 14,
     "metadata": {},
     "output_type": "execute_result"
    },
    {
     "data": {
      "image/png": "[encoded data removed]",
      "text/plain": [
       "<Figure size 500x500 with 6 Axes>"
      ]
     },
     "metadata": {},
     "output_type": "display_data"
    }
   ],
   "source": [
    "#this data should corrolated.\n",
    "sns.pairplot(training_data)"
   ]
  },
  {
   "cell_type": "code",
   "execution_count": 15,
   "id": "4ed10537",
   "metadata": {},
   "outputs": [],
   "source": [
    "training_data = training_data.iloc[:,8].values"
   ]
  },
  {
   "cell_type": "code",
   "execution_count": 16,
   "id": "2408079c",
   "metadata": {},
   "outputs": [
    {
     "data": {
      "text/plain": [
       "array([0., 0., 0., ..., 0., 0., 0.])"
      ]
     },
     "execution_count": 16,
     "metadata": {},
     "output_type": "execute_result"
    }
   ],
   "source": [
    "training_data"
   ]
  },
  {
   "cell_type": "code",
   "execution_count": 17,
   "id": "c6888e24",
   "metadata": {},
   "outputs": [
    {
     "data": {
      "text/plain": [
       "numpy.ndarray"
      ]
     },
     "execution_count": 17,
     "metadata": {},
     "output_type": "execute_result"
    }
   ],
   "source": [
    "type(training_data)"
   ]
  },
  {
   "cell_type": "code",
   "execution_count": 18,
   "id": "6bd07705",
   "metadata": {},
   "outputs": [
    {
     "data": {
      "text/plain": [
       "5.0"
      ]
     },
     "execution_count": 18,
     "metadata": {},
     "output_type": "execute_result"
    }
   ],
   "source": [
    "min(training_data)\n",
    "max(training_data)"
   ]
  },
  {
   "cell_type": "code",
   "execution_count": 19,
   "id": "76ead08d",
   "metadata": {},
   "outputs": [],
   "source": [
    "# scale the data , with a min max scaler\n",
    "from sklearn.preprocessing import MinMaxScaler"
   ]
  },
  {
   "cell_type": "code",
   "execution_count": 20,
   "id": "2381a033",
   "metadata": {},
   "outputs": [],
   "source": [
    "scaler = MinMaxScaler()"
   ]
  },
  {
   "cell_type": "code",
   "execution_count": 21,
   "id": "4335389f",
   "metadata": {},
   "outputs": [
    {
     "data": {
      "text/plain": [
       "(233755,)"
      ]
     },
     "execution_count": 21,
     "metadata": {},
     "output_type": "execute_result"
    }
   ],
   "source": [
    "training_data.shape"
   ]
  },
  {
   "cell_type": "code",
   "execution_count": 22,
   "id": "b242aae1",
   "metadata": {},
   "outputs": [],
   "source": [
    "#the data is now only 1 dimissional data , needs to be 2 dimissional data\n",
    "#reshape the data\n",
    "training_data = scaler.fit_transform(training_data.reshape(-1,1))"
   ]
  },
  {
   "cell_type": "code",
   "execution_count": 23,
   "id": "c90b097b",
   "metadata": {},
   "outputs": [
    {
     "data": {
      "text/plain": [
       "(233755, 1)"
      ]
     },
     "execution_count": 23,
     "metadata": {},
     "output_type": "execute_result"
    }
   ],
   "source": [
    "training_data.shape"
   ]
  },
  {
   "cell_type": "code",
   "execution_count": 24,
   "id": "978f4425",
   "metadata": {},
   "outputs": [
    {
     "data": {
      "text/plain": [
       "array([[0.],\n",
       "       [0.],\n",
       "       [0.],\n",
       "       ...,\n",
       "       [0.],\n",
       "       [0.],\n",
       "       [0.]])"
      ]
     },
     "execution_count": 24,
     "metadata": {},
     "output_type": "execute_result"
    }
   ],
   "source": [
    "training_data"
   ]
  },
  {
   "cell_type": "code",
   "execution_count": 25,
   "id": "c43cc8d0",
   "metadata": {},
   "outputs": [],
   "source": [
    "#create 2 list, taking 40 days data to predict 1 day.\n",
    "x_training_data = [] # 40 days\n",
    "y_training_data = [] # 1 days"
   ]
  },
  {
   "cell_type": "code",
   "execution_count": 26,
   "id": "5262f722",
   "metadata": {},
   "outputs": [],
   "source": [
    "for i in range(40,len(training_data)):\n",
    "    x_training_data.append(training_data[i-40:i,0])\n",
    "    y_training_data.append(training_data[i,0])"
   ]
  },
  {
   "cell_type": "code",
   "execution_count": 27,
   "id": "265a711c",
   "metadata": {},
   "outputs": [],
   "source": [
    "#currently x_training and y_training are a list and need to be a numpy array\n",
    "x_training_data = np.array(x_training_data)\n",
    "y_training_data = np.array(y_training_data)"
   ]
  },
  {
   "cell_type": "code",
   "execution_count": 28,
   "id": "7764e0ce",
   "metadata": {},
   "outputs": [],
   "source": [
    "# the last step is to reshape our x_training_data(independant variable) into 3 dimensional and the \n",
    "# y_training_data(dependant variable) into 2 dimensional\n",
    "x_training_data = np.reshape(x_training_data,(x_training_data.shape[0],\n",
    "                             x_training_data.shape[1],\n",
    "                              1))"
   ]
  },
  {
   "cell_type": "code",
   "execution_count": 29,
   "id": "86df20ec",
   "metadata": {},
   "outputs": [
    {
     "data": {
      "text/plain": [
       "(233715, 40, 1)"
      ]
     },
     "execution_count": 29,
     "metadata": {},
     "output_type": "execute_result"
    }
   ],
   "source": [
    "#tensors requires 3 dimensions\n",
    "x_training_data.shape"
   ]
  },
  {
   "cell_type": "markdown",
   "id": "e01c8428",
   "metadata": {},
   "source": [
    "Part2 Tensorflow"
   ]
  },
  {
   "cell_type": "code",
   "execution_count": 30,
   "id": "43d7eda3",
   "metadata": {},
   "outputs": [],
   "source": [
    "from tensorflow.keras.models import Sequential\n",
    "from tensorflow.keras.layers import Dense\n",
    "from tensorflow.keras.layers import LSTM\n",
    "from tensorflow.keras.layers import Dropout"
   ]
  },
  {
   "cell_type": "code",
   "execution_count": 31,
   "id": "2d375bd2",
   "metadata": {},
   "outputs": [],
   "source": [
    "#build Recurrent Neural Network(RNN)\n",
    "rnn = Sequential()"
   ]
  },
  {
   "cell_type": "code",
   "execution_count": 32,
   "id": "745f8240",
   "metadata": {},
   "outputs": [],
   "source": [
    "#layer 1\n",
    "rnn.add(LSTM(units=45,return_sequences=True,input_shape=(x_training_data.shape[1],1)))\n",
    "#to help overfitting drop rate of 20%\n",
    "rnn.add(Dropout(0.2))"
   ]
  },
  {
   "cell_type": "code",
   "execution_count": 33,
   "id": "b7cd7811",
   "metadata": {},
   "outputs": [],
   "source": [
    "#layer 2\n",
    "rnn.add(LSTM(units=45,return_sequences=True))\n",
    "#to help overfitting drop rate of 20%\n",
    "rnn.add(Dropout(0.2))"
   ]
  },
  {
   "cell_type": "code",
   "execution_count": 34,
   "id": "6071bdf2",
   "metadata": {},
   "outputs": [],
   "source": [
    "#Layer 3\n",
    "rnn.add(LSTM(units=45))\n",
    "#to help overfitting drop rate of 20%\n",
    "rnn.add(Dropout(0.2))"
   ]
  },
  {
   "cell_type": "code",
   "execution_count": 35,
   "id": "72901dd7",
   "metadata": {},
   "outputs": [],
   "source": [
    "#output layer\n",
    "rnn.add(Dense(units=1))"
   ]
  },
  {
   "cell_type": "code",
   "execution_count": 36,
   "id": "c9bcf154",
   "metadata": {},
   "outputs": [],
   "source": [
    "rnn.compile(optimizer = 'adam', loss = 'mean_squared_error')"
   ]
  },
  {
   "cell_type": "code",
   "execution_count": 37,
   "id": "574c6f0b",
   "metadata": {},
   "outputs": [
    {
     "name": "stdout",
     "output_type": "stream",
     "text": [
      "Epoch 1/100\n",
      "7304/7304 [==============================] - 369s 50ms/step - loss: 0.0089\n",
      "Epoch 2/100\n",
      "7304/7304 [==============================] - 362s 50ms/step - loss: 0.0087\n",
      "Epoch 3/100\n",
      "7304/7304 [==============================] - 361s 49ms/step - loss: 0.0086\n",
      "Epoch 4/100\n",
      "7304/7304 [==============================] - 363s 50ms/step - loss: 0.0086\n",
      "Epoch 5/100\n",
      "7304/7304 [==============================] - 362s 50ms/step - loss: 0.0086\n",
      "Epoch 6/100\n",
      "7304/7304 [==============================] - 364s 50ms/step - loss: 0.0086\n",
      "Epoch 7/100\n",
      "7304/7304 [==============================] - 361s 49ms/step - loss: 0.0086\n",
      "Epoch 8/100\n",
      "7304/7304 [==============================] - 361s 49ms/step - loss: 0.0086\n",
      "Epoch 9/100\n",
      "7304/7304 [==============================] - 362s 49ms/step - loss: 0.0085\n",
      "Epoch 10/100\n",
      "7304/7304 [==============================] - 362s 50ms/step - loss: 0.0085\n",
      "Epoch 11/100\n",
      "7304/7304 [==============================] - 364s 50ms/step - loss: 0.0085\n",
      "Epoch 12/100\n",
      "7304/7304 [==============================] - 363s 50ms/step - loss: 0.0085\n",
      "Epoch 13/100\n",
      "7304/7304 [==============================] - 362s 50ms/step - loss: 0.0085\n",
      "Epoch 14/100\n",
      "7304/7304 [==============================] - 362s 50ms/step - loss: 0.0085\n",
      "Epoch 15/100\n",
      "5862/7304 [=======================>......] - ETA: 1:12 - loss: 0.0085"
     ]
    },
    {
     "ename": "KeyboardInterrupt",
     "evalue": "",
     "output_type": "error",
     "traceback": [
      "\u001b[1;31m---------------------------------------------------------------------------\u001b[0m",
      "\u001b[1;31mKeyboardInterrupt\u001b[0m                         Traceback (most recent call last)",
      "Cell \u001b[1;32mIn[37], line 2\u001b[0m\n\u001b[0;32m      1\u001b[0m \u001b[38;5;66;03m#frame this\u001b[39;00m\n\u001b[1;32m----> 2\u001b[0m rnn\u001b[38;5;241m.\u001b[39mfit(x_training_data,y_training_data, epochs\u001b[38;5;241m=\u001b[39m\u001b[38;5;241m100\u001b[39m, batch_size\u001b[38;5;241m=\u001b[39m\u001b[38;5;241m32\u001b[39m)\n",
      "File \u001b[1;32m~\\anaconda3\\Lib\\site-packages\\keras\\src\\utils\\traceback_utils.py:65\u001b[0m, in \u001b[0;36mfilter_traceback.<locals>.error_handler\u001b[1;34m(*args, **kwargs)\u001b[0m\n\u001b[0;32m     63\u001b[0m filtered_tb \u001b[38;5;241m=\u001b[39m \u001b[38;5;28;01mNone\u001b[39;00m\n\u001b[0;32m     64\u001b[0m \u001b[38;5;28;01mtry\u001b[39;00m:\n\u001b[1;32m---> 65\u001b[0m     \u001b[38;5;28;01mreturn\u001b[39;00m fn(\u001b[38;5;241m*\u001b[39margs, \u001b[38;5;241m*\u001b[39m\u001b[38;5;241m*\u001b[39mkwargs)\n\u001b[0;32m     66\u001b[0m \u001b[38;5;28;01mexcept\u001b[39;00m \u001b[38;5;167;01mException\u001b[39;00m \u001b[38;5;28;01mas\u001b[39;00m e:\n\u001b[0;32m     67\u001b[0m     filtered_tb \u001b[38;5;241m=\u001b[39m _process_traceback_frames(e\u001b[38;5;241m.\u001b[39m__traceback__)\n",
      "File \u001b[1;32m~\\anaconda3\\Lib\\site-packages\\keras\\src\\engine\\training.py:1742\u001b[0m, in \u001b[0;36mModel.fit\u001b[1;34m(self, x, y, batch_size, epochs, verbose, callbacks, validation_split, validation_data, shuffle, class_weight, sample_weight, initial_epoch, steps_per_epoch, validation_steps, validation_batch_size, validation_freq, max_queue_size, workers, use_multiprocessing)\u001b[0m\n\u001b[0;32m   1734\u001b[0m \u001b[38;5;28;01mwith\u001b[39;00m tf\u001b[38;5;241m.\u001b[39mprofiler\u001b[38;5;241m.\u001b[39mexperimental\u001b[38;5;241m.\u001b[39mTrace(\n\u001b[0;32m   1735\u001b[0m     \u001b[38;5;124m\"\u001b[39m\u001b[38;5;124mtrain\u001b[39m\u001b[38;5;124m\"\u001b[39m,\n\u001b[0;32m   1736\u001b[0m     epoch_num\u001b[38;5;241m=\u001b[39mepoch,\n\u001b[1;32m   (...)\u001b[0m\n\u001b[0;32m   1739\u001b[0m     _r\u001b[38;5;241m=\u001b[39m\u001b[38;5;241m1\u001b[39m,\n\u001b[0;32m   1740\u001b[0m ):\n\u001b[0;32m   1741\u001b[0m     callbacks\u001b[38;5;241m.\u001b[39mon_train_batch_begin(step)\n\u001b[1;32m-> 1742\u001b[0m     tmp_logs \u001b[38;5;241m=\u001b[39m \u001b[38;5;28mself\u001b[39m\u001b[38;5;241m.\u001b[39mtrain_function(iterator)\n\u001b[0;32m   1743\u001b[0m     \u001b[38;5;28;01mif\u001b[39;00m data_handler\u001b[38;5;241m.\u001b[39mshould_sync:\n\u001b[0;32m   1744\u001b[0m         context\u001b[38;5;241m.\u001b[39masync_wait()\n",
      "File \u001b[1;32m~\\anaconda3\\Lib\\site-packages\\tensorflow\\python\\util\\traceback_utils.py:150\u001b[0m, in \u001b[0;36mfilter_traceback.<locals>.error_handler\u001b[1;34m(*args, **kwargs)\u001b[0m\n\u001b[0;32m    148\u001b[0m filtered_tb \u001b[38;5;241m=\u001b[39m \u001b[38;5;28;01mNone\u001b[39;00m\n\u001b[0;32m    149\u001b[0m \u001b[38;5;28;01mtry\u001b[39;00m:\n\u001b[1;32m--> 150\u001b[0m   \u001b[38;5;28;01mreturn\u001b[39;00m fn(\u001b[38;5;241m*\u001b[39margs, \u001b[38;5;241m*\u001b[39m\u001b[38;5;241m*\u001b[39mkwargs)\n\u001b[0;32m    151\u001b[0m \u001b[38;5;28;01mexcept\u001b[39;00m \u001b[38;5;167;01mException\u001b[39;00m \u001b[38;5;28;01mas\u001b[39;00m e:\n\u001b[0;32m    152\u001b[0m   filtered_tb \u001b[38;5;241m=\u001b[39m _process_traceback_frames(e\u001b[38;5;241m.\u001b[39m__traceback__)\n",
      "File \u001b[1;32m~\\anaconda3\\Lib\\site-packages\\tensorflow\\python\\eager\\polymorphic_function\\polymorphic_function.py:825\u001b[0m, in \u001b[0;36mFunction.__call__\u001b[1;34m(self, *args, **kwds)\u001b[0m\n\u001b[0;32m    822\u001b[0m compiler \u001b[38;5;241m=\u001b[39m \u001b[38;5;124m\"\u001b[39m\u001b[38;5;124mxla\u001b[39m\u001b[38;5;124m\"\u001b[39m \u001b[38;5;28;01mif\u001b[39;00m \u001b[38;5;28mself\u001b[39m\u001b[38;5;241m.\u001b[39m_jit_compile \u001b[38;5;28;01melse\u001b[39;00m \u001b[38;5;124m\"\u001b[39m\u001b[38;5;124mnonXla\u001b[39m\u001b[38;5;124m\"\u001b[39m\n\u001b[0;32m    824\u001b[0m \u001b[38;5;28;01mwith\u001b[39;00m OptionalXlaContext(\u001b[38;5;28mself\u001b[39m\u001b[38;5;241m.\u001b[39m_jit_compile):\n\u001b[1;32m--> 825\u001b[0m   result \u001b[38;5;241m=\u001b[39m \u001b[38;5;28mself\u001b[39m\u001b[38;5;241m.\u001b[39m_call(\u001b[38;5;241m*\u001b[39margs, \u001b[38;5;241m*\u001b[39m\u001b[38;5;241m*\u001b[39mkwds)\n\u001b[0;32m    827\u001b[0m new_tracing_count \u001b[38;5;241m=\u001b[39m \u001b[38;5;28mself\u001b[39m\u001b[38;5;241m.\u001b[39mexperimental_get_tracing_count()\n\u001b[0;32m    828\u001b[0m without_tracing \u001b[38;5;241m=\u001b[39m (tracing_count \u001b[38;5;241m==\u001b[39m new_tracing_count)\n",
      "File \u001b[1;32m~\\anaconda3\\Lib\\site-packages\\tensorflow\\python\\eager\\polymorphic_function\\polymorphic_function.py:857\u001b[0m, in \u001b[0;36mFunction._call\u001b[1;34m(self, *args, **kwds)\u001b[0m\n\u001b[0;32m    854\u001b[0m   \u001b[38;5;28mself\u001b[39m\u001b[38;5;241m.\u001b[39m_lock\u001b[38;5;241m.\u001b[39mrelease()\n\u001b[0;32m    855\u001b[0m   \u001b[38;5;66;03m# In this case we have created variables on the first call, so we run the\u001b[39;00m\n\u001b[0;32m    856\u001b[0m   \u001b[38;5;66;03m# defunned version which is guaranteed to never create variables.\u001b[39;00m\n\u001b[1;32m--> 857\u001b[0m   \u001b[38;5;28;01mreturn\u001b[39;00m \u001b[38;5;28mself\u001b[39m\u001b[38;5;241m.\u001b[39m_no_variable_creation_fn(\u001b[38;5;241m*\u001b[39margs, \u001b[38;5;241m*\u001b[39m\u001b[38;5;241m*\u001b[39mkwds)  \u001b[38;5;66;03m# pylint: disable=not-callable\u001b[39;00m\n\u001b[0;32m    858\u001b[0m \u001b[38;5;28;01melif\u001b[39;00m \u001b[38;5;28mself\u001b[39m\u001b[38;5;241m.\u001b[39m_variable_creation_fn \u001b[38;5;129;01mis\u001b[39;00m \u001b[38;5;129;01mnot\u001b[39;00m \u001b[38;5;28;01mNone\u001b[39;00m:\n\u001b[0;32m    859\u001b[0m   \u001b[38;5;66;03m# Release the lock early so that multiple threads can perform the call\u001b[39;00m\n\u001b[0;32m    860\u001b[0m   \u001b[38;5;66;03m# in parallel.\u001b[39;00m\n\u001b[0;32m    861\u001b[0m   \u001b[38;5;28mself\u001b[39m\u001b[38;5;241m.\u001b[39m_lock\u001b[38;5;241m.\u001b[39mrelease()\n",
      "File \u001b[1;32m~\\anaconda3\\Lib\\site-packages\\tensorflow\\python\\eager\\polymorphic_function\\tracing_compiler.py:148\u001b[0m, in \u001b[0;36mTracingCompiler.__call__\u001b[1;34m(self, *args, **kwargs)\u001b[0m\n\u001b[0;32m    145\u001b[0m \u001b[38;5;28;01mwith\u001b[39;00m \u001b[38;5;28mself\u001b[39m\u001b[38;5;241m.\u001b[39m_lock:\n\u001b[0;32m    146\u001b[0m   (concrete_function,\n\u001b[0;32m    147\u001b[0m    filtered_flat_args) \u001b[38;5;241m=\u001b[39m \u001b[38;5;28mself\u001b[39m\u001b[38;5;241m.\u001b[39m_maybe_define_function(args, kwargs)\n\u001b[1;32m--> 148\u001b[0m \u001b[38;5;28;01mreturn\u001b[39;00m concrete_function\u001b[38;5;241m.\u001b[39m_call_flat(\n\u001b[0;32m    149\u001b[0m     filtered_flat_args, captured_inputs\u001b[38;5;241m=\u001b[39mconcrete_function\u001b[38;5;241m.\u001b[39mcaptured_inputs)\n",
      "File \u001b[1;32m~\\anaconda3\\Lib\\site-packages\\tensorflow\\python\\eager\\polymorphic_function\\monomorphic_function.py:1349\u001b[0m, in \u001b[0;36mConcreteFunction._call_flat\u001b[1;34m(self, args, captured_inputs)\u001b[0m\n\u001b[0;32m   1345\u001b[0m possible_gradient_type \u001b[38;5;241m=\u001b[39m gradients_util\u001b[38;5;241m.\u001b[39mPossibleTapeGradientTypes(args)\n\u001b[0;32m   1346\u001b[0m \u001b[38;5;28;01mif\u001b[39;00m (possible_gradient_type \u001b[38;5;241m==\u001b[39m gradients_util\u001b[38;5;241m.\u001b[39mPOSSIBLE_GRADIENT_TYPES_NONE\n\u001b[0;32m   1347\u001b[0m     \u001b[38;5;129;01mand\u001b[39;00m executing_eagerly):\n\u001b[0;32m   1348\u001b[0m   \u001b[38;5;66;03m# No tape is watching; skip to running the function.\u001b[39;00m\n\u001b[1;32m-> 1349\u001b[0m   \u001b[38;5;28;01mreturn\u001b[39;00m \u001b[38;5;28mself\u001b[39m\u001b[38;5;241m.\u001b[39m_build_call_outputs(\u001b[38;5;28mself\u001b[39m\u001b[38;5;241m.\u001b[39m_inference_function(\u001b[38;5;241m*\u001b[39margs))\n\u001b[0;32m   1350\u001b[0m forward_backward \u001b[38;5;241m=\u001b[39m \u001b[38;5;28mself\u001b[39m\u001b[38;5;241m.\u001b[39m_select_forward_and_backward_functions(\n\u001b[0;32m   1351\u001b[0m     args,\n\u001b[0;32m   1352\u001b[0m     possible_gradient_type,\n\u001b[0;32m   1353\u001b[0m     executing_eagerly)\n\u001b[0;32m   1354\u001b[0m forward_function, args_with_tangents \u001b[38;5;241m=\u001b[39m forward_backward\u001b[38;5;241m.\u001b[39mforward()\n",
      "File \u001b[1;32m~\\anaconda3\\Lib\\site-packages\\tensorflow\\python\\eager\\polymorphic_function\\atomic_function.py:196\u001b[0m, in \u001b[0;36mAtomicFunction.__call__\u001b[1;34m(self, *args)\u001b[0m\n\u001b[0;32m    194\u001b[0m \u001b[38;5;28;01mwith\u001b[39;00m record\u001b[38;5;241m.\u001b[39mstop_recording():\n\u001b[0;32m    195\u001b[0m   \u001b[38;5;28;01mif\u001b[39;00m \u001b[38;5;28mself\u001b[39m\u001b[38;5;241m.\u001b[39m_bound_context\u001b[38;5;241m.\u001b[39mexecuting_eagerly():\n\u001b[1;32m--> 196\u001b[0m     outputs \u001b[38;5;241m=\u001b[39m \u001b[38;5;28mself\u001b[39m\u001b[38;5;241m.\u001b[39m_bound_context\u001b[38;5;241m.\u001b[39mcall_function(\n\u001b[0;32m    197\u001b[0m         \u001b[38;5;28mself\u001b[39m\u001b[38;5;241m.\u001b[39mname,\n\u001b[0;32m    198\u001b[0m         \u001b[38;5;28mlist\u001b[39m(args),\n\u001b[0;32m    199\u001b[0m         \u001b[38;5;28mlen\u001b[39m(\u001b[38;5;28mself\u001b[39m\u001b[38;5;241m.\u001b[39mfunction_type\u001b[38;5;241m.\u001b[39mflat_outputs),\n\u001b[0;32m    200\u001b[0m     )\n\u001b[0;32m    201\u001b[0m   \u001b[38;5;28;01melse\u001b[39;00m:\n\u001b[0;32m    202\u001b[0m     outputs \u001b[38;5;241m=\u001b[39m make_call_op_in_graph(\u001b[38;5;28mself\u001b[39m, \u001b[38;5;28mlist\u001b[39m(args))\n",
      "File \u001b[1;32m~\\anaconda3\\Lib\\site-packages\\tensorflow\\python\\eager\\context.py:1457\u001b[0m, in \u001b[0;36mContext.call_function\u001b[1;34m(self, name, tensor_inputs, num_outputs)\u001b[0m\n\u001b[0;32m   1455\u001b[0m cancellation_context \u001b[38;5;241m=\u001b[39m cancellation\u001b[38;5;241m.\u001b[39mcontext()\n\u001b[0;32m   1456\u001b[0m \u001b[38;5;28;01mif\u001b[39;00m cancellation_context \u001b[38;5;129;01mis\u001b[39;00m \u001b[38;5;28;01mNone\u001b[39;00m:\n\u001b[1;32m-> 1457\u001b[0m   outputs \u001b[38;5;241m=\u001b[39m execute\u001b[38;5;241m.\u001b[39mexecute(\n\u001b[0;32m   1458\u001b[0m       name\u001b[38;5;241m.\u001b[39mdecode(\u001b[38;5;124m\"\u001b[39m\u001b[38;5;124mutf-8\u001b[39m\u001b[38;5;124m\"\u001b[39m),\n\u001b[0;32m   1459\u001b[0m       num_outputs\u001b[38;5;241m=\u001b[39mnum_outputs,\n\u001b[0;32m   1460\u001b[0m       inputs\u001b[38;5;241m=\u001b[39mtensor_inputs,\n\u001b[0;32m   1461\u001b[0m       attrs\u001b[38;5;241m=\u001b[39mattrs,\n\u001b[0;32m   1462\u001b[0m       ctx\u001b[38;5;241m=\u001b[39m\u001b[38;5;28mself\u001b[39m,\n\u001b[0;32m   1463\u001b[0m   )\n\u001b[0;32m   1464\u001b[0m \u001b[38;5;28;01melse\u001b[39;00m:\n\u001b[0;32m   1465\u001b[0m   outputs \u001b[38;5;241m=\u001b[39m execute\u001b[38;5;241m.\u001b[39mexecute_with_cancellation(\n\u001b[0;32m   1466\u001b[0m       name\u001b[38;5;241m.\u001b[39mdecode(\u001b[38;5;124m\"\u001b[39m\u001b[38;5;124mutf-8\u001b[39m\u001b[38;5;124m\"\u001b[39m),\n\u001b[0;32m   1467\u001b[0m       num_outputs\u001b[38;5;241m=\u001b[39mnum_outputs,\n\u001b[1;32m   (...)\u001b[0m\n\u001b[0;32m   1471\u001b[0m       cancellation_manager\u001b[38;5;241m=\u001b[39mcancellation_context,\n\u001b[0;32m   1472\u001b[0m   )\n",
      "File \u001b[1;32m~\\anaconda3\\Lib\\site-packages\\tensorflow\\python\\eager\\execute.py:53\u001b[0m, in \u001b[0;36mquick_execute\u001b[1;34m(op_name, num_outputs, inputs, attrs, ctx, name)\u001b[0m\n\u001b[0;32m     51\u001b[0m \u001b[38;5;28;01mtry\u001b[39;00m:\n\u001b[0;32m     52\u001b[0m   ctx\u001b[38;5;241m.\u001b[39mensure_initialized()\n\u001b[1;32m---> 53\u001b[0m   tensors \u001b[38;5;241m=\u001b[39m pywrap_tfe\u001b[38;5;241m.\u001b[39mTFE_Py_Execute(ctx\u001b[38;5;241m.\u001b[39m_handle, device_name, op_name,\n\u001b[0;32m     54\u001b[0m                                       inputs, attrs, num_outputs)\n\u001b[0;32m     55\u001b[0m \u001b[38;5;28;01mexcept\u001b[39;00m core\u001b[38;5;241m.\u001b[39m_NotOkStatusException \u001b[38;5;28;01mas\u001b[39;00m e:\n\u001b[0;32m     56\u001b[0m   \u001b[38;5;28;01mif\u001b[39;00m name \u001b[38;5;129;01mis\u001b[39;00m \u001b[38;5;129;01mnot\u001b[39;00m \u001b[38;5;28;01mNone\u001b[39;00m:\n",
      "\u001b[1;31mKeyboardInterrupt\u001b[0m: "
     ]
    }
   ],
   "source": [
    "#frame this\n",
    "rnn.fit(x_training_data,y_training_data, epochs=20, batch_size=32)"
   ]
  },
  {
   "cell_type": "markdown",
   "id": "1fd54878",
   "metadata": {},
   "source": [
    "### Part 3 make predictions"
   ]
  },
  {
   "cell_type": "code",
   "execution_count": 51,
   "id": "73367e73",
   "metadata": {},
   "outputs": [
    {
     "name": "stdout",
     "output_type": "stream",
     "text": [
      "(46751,)\n"
     ]
    },
    {
     "data": {
      "text/plain": [
       "[<matplotlib.lines.Line2D at 0x22c36a53ad0>]"
      ]
     },
     "execution_count": 51,
     "metadata": {},
     "output_type": "execute_result"
    },
    {
     "data": {
      "image/png": "[encoded data removed]",
      "text/plain": [
       "<Figure size 640x480 with 1 Axes>"
      ]
     },
     "metadata": {},
     "output_type": "display_data"
    }
   ],
   "source": [
    "#Import the test data set and transform it into a NumPy array\n",
    "test_data = pd.read_csv('testing_data.csv')\n",
    "test_data = test_data.iloc[:,8].values\n",
    "#Make sure the test data's shape makes sense\n",
    "print(test_data.shape)\n",
    "#Plot the test data\n",
    "plt.plot(test_data)"
   ]
  },
  {
   "cell_type": "code",
   "execution_count": null,
   "id": "3870838b",
   "metadata": {},
   "outputs": [],
   "source": [
    "#Create unscaled training data and test data objects\n",
    "unscaled_training_data = pd.read_csv('training_data.csv')\n",
    "unscaled_test_data = pd.read_csv('testing_data.csv')\n",
    "# Convert \"Status\" column to float and encode categorical labels"
   ]
  },
  {
   "cell_type": "code",
   "execution_count": 60,
   "id": "d6e75604",
   "metadata": {},
   "outputs": [],
   "source": [
    "unscaled_training_data[\"Status\"] = unscaled_training_data[\"Status\"].map({\"EUT\": 0, \"RAC\": 1,\"DIE\":2,\"REG\":3,\"RET\":4,\"NEW\":5}).astype(float)\n",
    "\n",
    "unscaled_test_data[\"Status\"] = unscaled_test_data[\"Status\"].map({\"EUT\": 0, \"RAC\": 1,\"DIE\":2,\"REG\":3,\"RET\":4,\"NEW\":5}).astype(float)\n"
   ]
  },
  {
   "cell_type": "code",
   "execution_count": 61,
   "id": "7f0c3023",
   "metadata": {},
   "outputs": [],
   "source": [
    "all_data=pd.concat((unscaled_training_data['Status'],\n",
    "unscaled_test_data['Status']), axis = 0)"
   ]
  },
  {
   "cell_type": "code",
   "execution_count": 62,
   "id": "e31cf482",
   "metadata": {},
   "outputs": [],
   "source": [
    "#Create our x_test_data object, which has each January day + the 40 prior days\n",
    "x_test_data = all_data[len(all_data) - len(test_data) - 40:].values\n",
    "x_test_data = np.reshape(x_test_data, (-1, 1))"
   ]
  },
  {
   "cell_type": "code",
   "execution_count": 63,
   "id": "fd0599be",
   "metadata": {},
   "outputs": [
    {
     "data": {
      "text/plain": [
       "array([[1.],\n",
       "       [1.],\n",
       "       [1.],\n",
       "       ...,\n",
       "       [0.],\n",
       "       [0.],\n",
       "       [0.]])"
      ]
     },
     "execution_count": 63,
     "metadata": {},
     "output_type": "execute_result"
    }
   ],
   "source": [
    "x_test_data"
   ]
  },
  {
   "cell_type": "code",
   "execution_count": 64,
   "id": "b38e2d28",
   "metadata": {},
   "outputs": [],
   "source": [
    "#Scale the test data\n",
    "x_test_data = scaler.transform(x_test_data)"
   ]
  },
  {
   "cell_type": "code",
   "execution_count": 65,
   "id": "c5ceadf7",
   "metadata": {},
   "outputs": [],
   "source": [
    "#Grouping our test data\n",
    "final_x_test_data = []\n",
    "for i in range(40, len(x_test_data)):\n",
    "    final_x_test_data.append(x_test_data[i-40:i, 0])\n",
    "final_x_test_data = np.array(final_x_test_data) "
   ]
  },
  {
   "cell_type": "code",
   "execution_count": 66,
   "id": "bdb2bf62",
   "metadata": {},
   "outputs": [],
   "source": [
    "#Reshaping the NumPy array to meet TensorFlow standards\n",
    "final_x_test_data=np.reshape(final_x_test_data,\n",
    "(final_x_test_data.shape[0], final_x_test_data.shape[1], 1))"
   ]
  },
  {
   "cell_type": "code",
   "execution_count": 67,
   "id": "778d69ef",
   "metadata": {},
   "outputs": [
    {
     "name": "stdout",
     "output_type": "stream",
     "text": [
      "1461/1461 [==============================] - 29s 19ms/step\n"
     ]
    }
   ],
   "source": [
    "#Generating our predicted values\n",
    "predictions = rnn.predict(final_x_test_data)"
   ]
  },
  {
   "cell_type": "code",
   "execution_count": 68,
   "id": "19abefe3",
   "metadata": {},
   "outputs": [
    {
     "data": {
      "text/plain": [
       "[<matplotlib.lines.Line2D at 0x22c36a75850>]"
      ]
     },
     "execution_count": 68,
     "metadata": {},
     "output_type": "execute_result"
    },
    {
     "data": {
      "image/png": "[encoded data removed]",
      "text/plain": [
       "<Figure size 640x480 with 1 Axes>"
      ]
     },
     "metadata": {},
     "output_type": "display_data"
    }
   ],
   "source": [
    "#Plotting our predicted values\n",
    "plt.clf() #This clears the old plot from our canvas\n",
    "plt.plot(predictions)"
   ]
  },
  {
   "cell_type": "code",
   "execution_count": 69,
   "id": "bea1bc36",
   "metadata": {},
   "outputs": [
    {
     "data": {
      "text/plain": [
       "[<matplotlib.lines.Line2D at 0x22c458e7c10>]"
      ]
     },
     "execution_count": 69,
     "metadata": {},
     "output_type": "execute_result"
    },
    {
     "data": {
      "image/png": "[encoded data removed]",
      "text/plain": [
       "<Figure size 640x480 with 1 Axes>"
      ]
     },
     "metadata": {},
     "output_type": "display_data"
    }
   ],
   "source": [
    "#Unscaling the predicted values and re-plotting the data\n",
    "unscaled_predictions = scaler.inverse_transform(predictions)\n",
    "plt.plot(unscaled_predictions) "
   ]
  },
  {
   "cell_type": "code",
   "execution_count": 72,
   "id": "f0d2c7bf",
   "metadata": {},
   "outputs": [
    {
     "data": {
      "text/plain": [
       "<matplotlib.legend.Legend at 0x22c47fe6410>"
      ]
     },
     "execution_count": 72,
     "metadata": {},
     "output_type": "execute_result"
    },
    {
     "data": {
      "image/png": "[encoded data removed]",
      "text/plain": [
       "<Figure size 640x480 with 1 Axes>"
      ]
     },
     "metadata": {},
     "output_type": "display_data"
    }
   ],
   "source": [
    "#Plotting the predicted values against Facebook's actual stock price\n",
    "plt.plot(unscaled_predictions, color = 'Green', label = \"Predictions\")\n",
    "plt.plot(test_data, color = 'blue', label = \"Real Data\")\n",
    "plt.title('All Greyhounds ')\n",
    "plt.legend()"
   ]
  },
  {
   "cell_type": "code",
   "execution_count": null,
   "id": "19f6bcb3",
   "metadata": {},
   "outputs": [],
   "source": []
  }
 ],
 "metadata": {
  "kernelspec": {
   "display_name": "Python 3 (ipykernel)",
   "language": "python",
   "name": "python3"
  },
  "language_info": {
   "codemirror_mode": {
    "name": "ipython",
    "version": 3
   },
   "file_extension": ".py",
   "mimetype": "text/x-python",
   "name": "python",
   "nbconvert_exporter": "python",
   "pygments_lexer": "ipython3",
   "version": "3.11.4"
  }
 },
 "nbformat": 4,
 "nbformat_minor": 5
}
