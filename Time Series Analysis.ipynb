{
 "cells": [
  {
   "cell_type": "code",
   "execution_count": 336,
   "id": "adab5857",
   "metadata": {},
   "outputs": [],
   "source": [
    "import pandas as pd\n",
    "import warnings\n",
    "warnings.simplefilter(action='ignore', category=FutureWarning)"
   ]
  },
  {
   "cell_type": "code",
   "execution_count": 337,
   "id": "f0959fce",
   "metadata": {},
   "outputs": [],
   "source": [
    "df = pd.read_csv('output.csv', low_memory=False)"
   ]
  },
  {
   "cell_type": "code",
   "execution_count": 338,
   "id": "c9c930af",
   "metadata": {},
   "outputs": [
    {
     "data": {
      "text/html": [
       "<div>\n",
       "<style scoped>\n",
       "    .dataframe tbody tr th:only-of-type {\n",
       "        vertical-align: middle;\n",
       "    }\n",
       "\n",
       "    .dataframe tbody tr th {\n",
       "        vertical-align: top;\n",
       "    }\n",
       "\n",
       "    .dataframe thead th {\n",
       "        text-align: right;\n",
       "    }\n",
       "</style>\n",
       "<table border=\"1\" class=\"dataframe\">\n",
       "  <thead>\n",
       "    <tr style=\"text-align: right;\">\n",
       "      <th></th>\n",
       "      <th>Greyhound Name</th>\n",
       "      <th>Earmark</th>\n",
       "      <th>Microchip</th>\n",
       "      <th>Reg Date</th>\n",
       "      <th>Sex</th>\n",
       "      <th>Whelp Date</th>\n",
       "      <th>Retirement Type</th>\n",
       "      <th>OccuredAt</th>\n",
       "      <th>Status</th>\n",
       "    </tr>\n",
       "  </thead>\n",
       "  <tbody>\n",
       "    <tr>\n",
       "      <th>0</th>\n",
       "      <td>COOLEMORE COUNT</td>\n",
       "      <td>YVRYL</td>\n",
       "      <td>9.772000e+14</td>\n",
       "      <td>12/02/2022</td>\n",
       "      <td>B</td>\n",
       "      <td>12/02/2022</td>\n",
       "      <td>EUT</td>\n",
       "      <td>07/12/2023 14:41</td>\n",
       "      <td>EUT</td>\n",
       "    </tr>\n",
       "    <tr>\n",
       "      <th>1</th>\n",
       "      <td>SPOOK MAGOO</td>\n",
       "      <td>UNBET</td>\n",
       "      <td>9.722740e+14</td>\n",
       "      <td>10/10/2018</td>\n",
       "      <td>D</td>\n",
       "      <td>21/04/2019</td>\n",
       "      <td>EUT</td>\n",
       "      <td>07/12/2023 12:24</td>\n",
       "      <td>EUT</td>\n",
       "    </tr>\n",
       "    <tr>\n",
       "      <th>2</th>\n",
       "      <td>PECKIES DAFFY</td>\n",
       "      <td>VYRAJ</td>\n",
       "      <td>9.722740e+14</td>\n",
       "      <td>07/05/2021</td>\n",
       "      <td>B</td>\n",
       "      <td>26/03/2020</td>\n",
       "      <td>EUT</td>\n",
       "      <td>07/12/2023 11:34</td>\n",
       "      <td>EUT</td>\n",
       "    </tr>\n",
       "    <tr>\n",
       "      <th>3</th>\n",
       "      <td>SPOOK MAGOO</td>\n",
       "      <td>UNBET</td>\n",
       "      <td>9.722740e+14</td>\n",
       "      <td>10/10/2018</td>\n",
       "      <td>D</td>\n",
       "      <td>21/04/2019</td>\n",
       "      <td>RET</td>\n",
       "      <td>07/12/2023 11:24</td>\n",
       "      <td>RAC</td>\n",
       "    </tr>\n",
       "    <tr>\n",
       "      <th>4</th>\n",
       "      <td>SHELONE KING</td>\n",
       "      <td>UUKTL</td>\n",
       "      <td>9.722740e+14</td>\n",
       "      <td>15/04/2019</td>\n",
       "      <td>D</td>\n",
       "      <td>15/04/2019</td>\n",
       "      <td>EUT</td>\n",
       "      <td>07/12/2023 10:25</td>\n",
       "      <td>EUT</td>\n",
       "    </tr>\n",
       "    <tr>\n",
       "      <th>...</th>\n",
       "      <td>...</td>\n",
       "      <td>...</td>\n",
       "      <td>...</td>\n",
       "      <td>...</td>\n",
       "      <td>...</td>\n",
       "      <td>...</td>\n",
       "      <td>...</td>\n",
       "      <td>...</td>\n",
       "      <td>...</td>\n",
       "    </tr>\n",
       "    <tr>\n",
       "      <th>233750</th>\n",
       "      <td>KNOCKGLASS KING</td>\n",
       "      <td>VPISU</td>\n",
       "      <td>9.772000e+14</td>\n",
       "      <td>01/04/2021</td>\n",
       "      <td>D</td>\n",
       "      <td>18/03/2020</td>\n",
       "      <td>EUT</td>\n",
       "      <td>NaN</td>\n",
       "      <td>EUT</td>\n",
       "    </tr>\n",
       "    <tr>\n",
       "      <th>233751</th>\n",
       "      <td>HELLO HOLLIE</td>\n",
       "      <td>TDVXR</td>\n",
       "      <td>9.722740e+14</td>\n",
       "      <td>23/04/2021</td>\n",
       "      <td>B</td>\n",
       "      <td>04/08/2018</td>\n",
       "      <td>EUT</td>\n",
       "      <td>NaN</td>\n",
       "      <td>EUT</td>\n",
       "    </tr>\n",
       "    <tr>\n",
       "      <th>233752</th>\n",
       "      <td>SEOMRA DISC</td>\n",
       "      <td>UYIKE</td>\n",
       "      <td>9.722740e+14</td>\n",
       "      <td>04/05/2021</td>\n",
       "      <td>D</td>\n",
       "      <td>12/12/2019</td>\n",
       "      <td>EUT</td>\n",
       "      <td>NaN</td>\n",
       "      <td>EUT</td>\n",
       "    </tr>\n",
       "    <tr>\n",
       "      <th>233753</th>\n",
       "      <td>KILWEST NOAH</td>\n",
       "      <td>VVTMH</td>\n",
       "      <td>9.772000e+14</td>\n",
       "      <td>24/11/2021</td>\n",
       "      <td>D</td>\n",
       "      <td>20/09/2020</td>\n",
       "      <td>EUT</td>\n",
       "      <td>NaN</td>\n",
       "      <td>EUT</td>\n",
       "    </tr>\n",
       "    <tr>\n",
       "      <th>233754</th>\n",
       "      <td>CHEEKY CHAR</td>\n",
       "      <td>ZYH2</td>\n",
       "      <td>NaN</td>\n",
       "      <td>18/01/2022</td>\n",
       "      <td>D</td>\n",
       "      <td>18/08/2020</td>\n",
       "      <td>EUT</td>\n",
       "      <td>NaN</td>\n",
       "      <td>EUT</td>\n",
       "    </tr>\n",
       "  </tbody>\n",
       "</table>\n",
       "<p>233755 rows × 9 columns</p>\n",
       "</div>"
      ],
      "text/plain": [
       "         Greyhound Name Earmark     Microchip    Reg Date Sex  Whelp Date  \\\n",
       "0       COOLEMORE COUNT   YVRYL  9.772000e+14  12/02/2022   B  12/02/2022   \n",
       "1           SPOOK MAGOO   UNBET  9.722740e+14  10/10/2018   D  21/04/2019   \n",
       "2         PECKIES DAFFY   VYRAJ  9.722740e+14  07/05/2021   B  26/03/2020   \n",
       "3           SPOOK MAGOO   UNBET  9.722740e+14  10/10/2018   D  21/04/2019   \n",
       "4          SHELONE KING   UUKTL  9.722740e+14  15/04/2019   D  15/04/2019   \n",
       "...                 ...     ...           ...         ...  ..         ...   \n",
       "233750  KNOCKGLASS KING   VPISU  9.772000e+14  01/04/2021   D  18/03/2020   \n",
       "233751     HELLO HOLLIE   TDVXR  9.722740e+14  23/04/2021   B  04/08/2018   \n",
       "233752      SEOMRA DISC   UYIKE  9.722740e+14  04/05/2021   D  12/12/2019   \n",
       "233753     KILWEST NOAH   VVTMH  9.772000e+14  24/11/2021   D  20/09/2020   \n",
       "233754      CHEEKY CHAR    ZYH2           NaN  18/01/2022   D  18/08/2020   \n",
       "\n",
       "       Retirement Type         OccuredAt Status  \n",
       "0                  EUT  07/12/2023 14:41    EUT  \n",
       "1                  EUT  07/12/2023 12:24    EUT  \n",
       "2                  EUT  07/12/2023 11:34    EUT  \n",
       "3                  RET  07/12/2023 11:24    RAC  \n",
       "4                  EUT  07/12/2023 10:25    EUT  \n",
       "...                ...               ...    ...  \n",
       "233750             EUT               NaN    EUT  \n",
       "233751             EUT               NaN    EUT  \n",
       "233752             EUT               NaN    EUT  \n",
       "233753             EUT               NaN    EUT  \n",
       "233754             EUT               NaN    EUT  \n",
       "\n",
       "[233755 rows x 9 columns]"
      ]
     },
     "execution_count": 338,
     "metadata": {},
     "output_type": "execute_result"
    }
   ],
   "source": [
    "df"
   ]
  },
  {
   "cell_type": "code",
   "execution_count": 339,
   "id": "6061167f",
   "metadata": {},
   "outputs": [],
   "source": [
    "# Remove two columns name is 'C' and 'D'\n",
    "df = df.drop(['Microchip','Earmark','Reg Date','Retirement Type'], axis=1)"
   ]
  },
  {
   "cell_type": "code",
   "execution_count": 340,
   "id": "4b00ce8d",
   "metadata": {},
   "outputs": [
    {
     "data": {
      "text/html": [
       "<div>\n",
       "<style scoped>\n",
       "    .dataframe tbody tr th:only-of-type {\n",
       "        vertical-align: middle;\n",
       "    }\n",
       "\n",
       "    .dataframe tbody tr th {\n",
       "        vertical-align: top;\n",
       "    }\n",
       "\n",
       "    .dataframe thead th {\n",
       "        text-align: right;\n",
       "    }\n",
       "</style>\n",
       "<table border=\"1\" class=\"dataframe\">\n",
       "  <thead>\n",
       "    <tr style=\"text-align: right;\">\n",
       "      <th></th>\n",
       "      <th>Greyhound Name</th>\n",
       "      <th>Sex</th>\n",
       "      <th>Whelp Date</th>\n",
       "      <th>OccuredAt</th>\n",
       "      <th>Status</th>\n",
       "    </tr>\n",
       "  </thead>\n",
       "  <tbody>\n",
       "    <tr>\n",
       "      <th>0</th>\n",
       "      <td>COOLEMORE COUNT</td>\n",
       "      <td>B</td>\n",
       "      <td>12/02/2022</td>\n",
       "      <td>07/12/2023 14:41</td>\n",
       "      <td>EUT</td>\n",
       "    </tr>\n",
       "    <tr>\n",
       "      <th>1</th>\n",
       "      <td>SPOOK MAGOO</td>\n",
       "      <td>D</td>\n",
       "      <td>21/04/2019</td>\n",
       "      <td>07/12/2023 12:24</td>\n",
       "      <td>EUT</td>\n",
       "    </tr>\n",
       "    <tr>\n",
       "      <th>2</th>\n",
       "      <td>PECKIES DAFFY</td>\n",
       "      <td>B</td>\n",
       "      <td>26/03/2020</td>\n",
       "      <td>07/12/2023 11:34</td>\n",
       "      <td>EUT</td>\n",
       "    </tr>\n",
       "    <tr>\n",
       "      <th>3</th>\n",
       "      <td>SPOOK MAGOO</td>\n",
       "      <td>D</td>\n",
       "      <td>21/04/2019</td>\n",
       "      <td>07/12/2023 11:24</td>\n",
       "      <td>RAC</td>\n",
       "    </tr>\n",
       "    <tr>\n",
       "      <th>4</th>\n",
       "      <td>SHELONE KING</td>\n",
       "      <td>D</td>\n",
       "      <td>15/04/2019</td>\n",
       "      <td>07/12/2023 10:25</td>\n",
       "      <td>EUT</td>\n",
       "    </tr>\n",
       "    <tr>\n",
       "      <th>...</th>\n",
       "      <td>...</td>\n",
       "      <td>...</td>\n",
       "      <td>...</td>\n",
       "      <td>...</td>\n",
       "      <td>...</td>\n",
       "    </tr>\n",
       "    <tr>\n",
       "      <th>233750</th>\n",
       "      <td>KNOCKGLASS KING</td>\n",
       "      <td>D</td>\n",
       "      <td>18/03/2020</td>\n",
       "      <td>NaN</td>\n",
       "      <td>EUT</td>\n",
       "    </tr>\n",
       "    <tr>\n",
       "      <th>233751</th>\n",
       "      <td>HELLO HOLLIE</td>\n",
       "      <td>B</td>\n",
       "      <td>04/08/2018</td>\n",
       "      <td>NaN</td>\n",
       "      <td>EUT</td>\n",
       "    </tr>\n",
       "    <tr>\n",
       "      <th>233752</th>\n",
       "      <td>SEOMRA DISC</td>\n",
       "      <td>D</td>\n",
       "      <td>12/12/2019</td>\n",
       "      <td>NaN</td>\n",
       "      <td>EUT</td>\n",
       "    </tr>\n",
       "    <tr>\n",
       "      <th>233753</th>\n",
       "      <td>KILWEST NOAH</td>\n",
       "      <td>D</td>\n",
       "      <td>20/09/2020</td>\n",
       "      <td>NaN</td>\n",
       "      <td>EUT</td>\n",
       "    </tr>\n",
       "    <tr>\n",
       "      <th>233754</th>\n",
       "      <td>CHEEKY CHAR</td>\n",
       "      <td>D</td>\n",
       "      <td>18/08/2020</td>\n",
       "      <td>NaN</td>\n",
       "      <td>EUT</td>\n",
       "    </tr>\n",
       "  </tbody>\n",
       "</table>\n",
       "<p>233755 rows × 5 columns</p>\n",
       "</div>"
      ],
      "text/plain": [
       "         Greyhound Name Sex  Whelp Date         OccuredAt Status\n",
       "0       COOLEMORE COUNT   B  12/02/2022  07/12/2023 14:41    EUT\n",
       "1           SPOOK MAGOO   D  21/04/2019  07/12/2023 12:24    EUT\n",
       "2         PECKIES DAFFY   B  26/03/2020  07/12/2023 11:34    EUT\n",
       "3           SPOOK MAGOO   D  21/04/2019  07/12/2023 11:24    RAC\n",
       "4          SHELONE KING   D  15/04/2019  07/12/2023 10:25    EUT\n",
       "...                 ...  ..         ...               ...    ...\n",
       "233750  KNOCKGLASS KING   D  18/03/2020               NaN    EUT\n",
       "233751     HELLO HOLLIE   B  04/08/2018               NaN    EUT\n",
       "233752      SEOMRA DISC   D  12/12/2019               NaN    EUT\n",
       "233753     KILWEST NOAH   D  20/09/2020               NaN    EUT\n",
       "233754      CHEEKY CHAR   D  18/08/2020               NaN    EUT\n",
       "\n",
       "[233755 rows x 5 columns]"
      ]
     },
     "execution_count": 340,
     "metadata": {},
     "output_type": "execute_result"
    }
   ],
   "source": [
    "df"
   ]
  },
  {
   "cell_type": "code",
   "execution_count": 341,
   "id": "f9831f12",
   "metadata": {},
   "outputs": [
    {
     "name": "stderr",
     "output_type": "stream",
     "text": [
      "C:\\Users\\danma\\AppData\\Local\\Temp\\ipykernel_664\\371761573.py:2: UserWarning: Parsing dates in DD/MM/YYYY format when dayfirst=False (the default) was specified. This may lead to inconsistently parsed dates! Specify a format to ensure consistent parsing.\n",
      "  df[\"Whelp Date\"] = pd.to_datetime(df[\"Whelp Date\"])\n"
     ]
    }
   ],
   "source": [
    "# Convert date columns to datetime format\n",
    "df[\"Whelp Date\"] = pd.to_datetime(df[\"Whelp Date\"])\n",
    "df[\"OccuredAt\"] = pd.to_datetime(df[\"OccuredAt\"])"
   ]
  },
  {
   "cell_type": "code",
   "execution_count": 342,
   "id": "277a28c0",
   "metadata": {},
   "outputs": [],
   "source": [
    "# Calculate Career Length\n",
    "df[\"Career Length\"] = (df[\"OccuredAt\"] - df[\"Whelp Date\"]).dt.days"
   ]
  },
  {
   "cell_type": "code",
   "execution_count": 343,
   "id": "b93a097a",
   "metadata": {},
   "outputs": [
    {
     "data": {
      "text/html": [
       "<div>\n",
       "<style scoped>\n",
       "    .dataframe tbody tr th:only-of-type {\n",
       "        vertical-align: middle;\n",
       "    }\n",
       "\n",
       "    .dataframe tbody tr th {\n",
       "        vertical-align: top;\n",
       "    }\n",
       "\n",
       "    .dataframe thead th {\n",
       "        text-align: right;\n",
       "    }\n",
       "</style>\n",
       "<table border=\"1\" class=\"dataframe\">\n",
       "  <thead>\n",
       "    <tr style=\"text-align: right;\">\n",
       "      <th></th>\n",
       "      <th>Greyhound Name</th>\n",
       "      <th>Sex</th>\n",
       "      <th>Whelp Date</th>\n",
       "      <th>OccuredAt</th>\n",
       "      <th>Status</th>\n",
       "      <th>Career Length</th>\n",
       "    </tr>\n",
       "  </thead>\n",
       "  <tbody>\n",
       "    <tr>\n",
       "      <th>0</th>\n",
       "      <td>COOLEMORE COUNT</td>\n",
       "      <td>B</td>\n",
       "      <td>2022-12-02</td>\n",
       "      <td>2023-07-12 14:41:00</td>\n",
       "      <td>EUT</td>\n",
       "      <td>222.0</td>\n",
       "    </tr>\n",
       "    <tr>\n",
       "      <th>1</th>\n",
       "      <td>SPOOK MAGOO</td>\n",
       "      <td>D</td>\n",
       "      <td>2019-04-21</td>\n",
       "      <td>2023-07-12 12:24:00</td>\n",
       "      <td>EUT</td>\n",
       "      <td>1543.0</td>\n",
       "    </tr>\n",
       "    <tr>\n",
       "      <th>2</th>\n",
       "      <td>PECKIES DAFFY</td>\n",
       "      <td>B</td>\n",
       "      <td>2020-03-26</td>\n",
       "      <td>2023-07-12 11:34:00</td>\n",
       "      <td>EUT</td>\n",
       "      <td>1203.0</td>\n",
       "    </tr>\n",
       "    <tr>\n",
       "      <th>3</th>\n",
       "      <td>SPOOK MAGOO</td>\n",
       "      <td>D</td>\n",
       "      <td>2019-04-21</td>\n",
       "      <td>2023-07-12 11:24:00</td>\n",
       "      <td>RAC</td>\n",
       "      <td>1543.0</td>\n",
       "    </tr>\n",
       "    <tr>\n",
       "      <th>4</th>\n",
       "      <td>SHELONE KING</td>\n",
       "      <td>D</td>\n",
       "      <td>2019-04-15</td>\n",
       "      <td>2023-07-12 10:25:00</td>\n",
       "      <td>EUT</td>\n",
       "      <td>1549.0</td>\n",
       "    </tr>\n",
       "    <tr>\n",
       "      <th>...</th>\n",
       "      <td>...</td>\n",
       "      <td>...</td>\n",
       "      <td>...</td>\n",
       "      <td>...</td>\n",
       "      <td>...</td>\n",
       "      <td>...</td>\n",
       "    </tr>\n",
       "    <tr>\n",
       "      <th>233750</th>\n",
       "      <td>KNOCKGLASS KING</td>\n",
       "      <td>D</td>\n",
       "      <td>2020-03-18</td>\n",
       "      <td>NaT</td>\n",
       "      <td>EUT</td>\n",
       "      <td>NaN</td>\n",
       "    </tr>\n",
       "    <tr>\n",
       "      <th>233751</th>\n",
       "      <td>HELLO HOLLIE</td>\n",
       "      <td>B</td>\n",
       "      <td>2018-04-08</td>\n",
       "      <td>NaT</td>\n",
       "      <td>EUT</td>\n",
       "      <td>NaN</td>\n",
       "    </tr>\n",
       "    <tr>\n",
       "      <th>233752</th>\n",
       "      <td>SEOMRA DISC</td>\n",
       "      <td>D</td>\n",
       "      <td>2019-12-12</td>\n",
       "      <td>NaT</td>\n",
       "      <td>EUT</td>\n",
       "      <td>NaN</td>\n",
       "    </tr>\n",
       "    <tr>\n",
       "      <th>233753</th>\n",
       "      <td>KILWEST NOAH</td>\n",
       "      <td>D</td>\n",
       "      <td>2020-09-20</td>\n",
       "      <td>NaT</td>\n",
       "      <td>EUT</td>\n",
       "      <td>NaN</td>\n",
       "    </tr>\n",
       "    <tr>\n",
       "      <th>233754</th>\n",
       "      <td>CHEEKY CHAR</td>\n",
       "      <td>D</td>\n",
       "      <td>2020-08-18</td>\n",
       "      <td>NaT</td>\n",
       "      <td>EUT</td>\n",
       "      <td>NaN</td>\n",
       "    </tr>\n",
       "  </tbody>\n",
       "</table>\n",
       "<p>233755 rows × 6 columns</p>\n",
       "</div>"
      ],
      "text/plain": [
       "         Greyhound Name Sex Whelp Date           OccuredAt Status  \\\n",
       "0       COOLEMORE COUNT   B 2022-12-02 2023-07-12 14:41:00    EUT   \n",
       "1           SPOOK MAGOO   D 2019-04-21 2023-07-12 12:24:00    EUT   \n",
       "2         PECKIES DAFFY   B 2020-03-26 2023-07-12 11:34:00    EUT   \n",
       "3           SPOOK MAGOO   D 2019-04-21 2023-07-12 11:24:00    RAC   \n",
       "4          SHELONE KING   D 2019-04-15 2023-07-12 10:25:00    EUT   \n",
       "...                 ...  ..        ...                 ...    ...   \n",
       "233750  KNOCKGLASS KING   D 2020-03-18                 NaT    EUT   \n",
       "233751     HELLO HOLLIE   B 2018-04-08                 NaT    EUT   \n",
       "233752      SEOMRA DISC   D 2019-12-12                 NaT    EUT   \n",
       "233753     KILWEST NOAH   D 2020-09-20                 NaT    EUT   \n",
       "233754      CHEEKY CHAR   D 2020-08-18                 NaT    EUT   \n",
       "\n",
       "        Career Length  \n",
       "0               222.0  \n",
       "1              1543.0  \n",
       "2              1203.0  \n",
       "3              1543.0  \n",
       "4              1549.0  \n",
       "...               ...  \n",
       "233750            NaN  \n",
       "233751            NaN  \n",
       "233752            NaN  \n",
       "233753            NaN  \n",
       "233754            NaN  \n",
       "\n",
       "[233755 rows x 6 columns]"
      ]
     },
     "execution_count": 343,
     "metadata": {},
     "output_type": "execute_result"
    }
   ],
   "source": [
    "df"
   ]
  },
  {
   "cell_type": "code",
   "execution_count": 344,
   "id": "25a1d73e",
   "metadata": {},
   "outputs": [],
   "source": [
    "df = df.dropna(subset=[\"OccuredAt\"])"
   ]
  },
  {
   "cell_type": "code",
   "execution_count": 345,
   "id": "1bfcdf3e",
   "metadata": {},
   "outputs": [],
   "source": [
    "df = df.dropna(subset=[\"Career Length\"])"
   ]
  },
  {
   "cell_type": "code",
   "execution_count": 346,
   "id": "c6f89075",
   "metadata": {},
   "outputs": [],
   "source": [
    "# Write DataFrame to a CSV file with the specified date format\n",
    "df.to_csv(\"dataframe_output.csv\", index=False)"
   ]
  },
  {
   "cell_type": "code",
   "execution_count": 347,
   "id": "895c285c",
   "metadata": {},
   "outputs": [
    {
     "data": {
      "text/html": [
       "<div>\n",
       "<style scoped>\n",
       "    .dataframe tbody tr th:only-of-type {\n",
       "        vertical-align: middle;\n",
       "    }\n",
       "\n",
       "    .dataframe tbody tr th {\n",
       "        vertical-align: top;\n",
       "    }\n",
       "\n",
       "    .dataframe thead th {\n",
       "        text-align: right;\n",
       "    }\n",
       "</style>\n",
       "<table border=\"1\" class=\"dataframe\">\n",
       "  <thead>\n",
       "    <tr style=\"text-align: right;\">\n",
       "      <th></th>\n",
       "      <th>Greyhound Name</th>\n",
       "      <th>Sex</th>\n",
       "      <th>Whelp Date</th>\n",
       "      <th>OccuredAt</th>\n",
       "      <th>Status</th>\n",
       "      <th>Career Length</th>\n",
       "    </tr>\n",
       "  </thead>\n",
       "  <tbody>\n",
       "    <tr>\n",
       "      <th>0</th>\n",
       "      <td>COOLEMORE COUNT</td>\n",
       "      <td>B</td>\n",
       "      <td>2022-12-02</td>\n",
       "      <td>2023-07-12 14:41:00</td>\n",
       "      <td>EUT</td>\n",
       "      <td>222.0</td>\n",
       "    </tr>\n",
       "    <tr>\n",
       "      <th>1</th>\n",
       "      <td>SPOOK MAGOO</td>\n",
       "      <td>D</td>\n",
       "      <td>2019-04-21</td>\n",
       "      <td>2023-07-12 12:24:00</td>\n",
       "      <td>EUT</td>\n",
       "      <td>1543.0</td>\n",
       "    </tr>\n",
       "    <tr>\n",
       "      <th>2</th>\n",
       "      <td>PECKIES DAFFY</td>\n",
       "      <td>B</td>\n",
       "      <td>2020-03-26</td>\n",
       "      <td>2023-07-12 11:34:00</td>\n",
       "      <td>EUT</td>\n",
       "      <td>1203.0</td>\n",
       "    </tr>\n",
       "    <tr>\n",
       "      <th>3</th>\n",
       "      <td>SPOOK MAGOO</td>\n",
       "      <td>D</td>\n",
       "      <td>2019-04-21</td>\n",
       "      <td>2023-07-12 11:24:00</td>\n",
       "      <td>RAC</td>\n",
       "      <td>1543.0</td>\n",
       "    </tr>\n",
       "    <tr>\n",
       "      <th>4</th>\n",
       "      <td>SHELONE KING</td>\n",
       "      <td>D</td>\n",
       "      <td>2019-04-15</td>\n",
       "      <td>2023-07-12 10:25:00</td>\n",
       "      <td>EUT</td>\n",
       "      <td>1549.0</td>\n",
       "    </tr>\n",
       "    <tr>\n",
       "      <th>...</th>\n",
       "      <td>...</td>\n",
       "      <td>...</td>\n",
       "      <td>...</td>\n",
       "      <td>...</td>\n",
       "      <td>...</td>\n",
       "      <td>...</td>\n",
       "    </tr>\n",
       "    <tr>\n",
       "      <th>229956</th>\n",
       "      <td>KIWI SANDY</td>\n",
       "      <td>B</td>\n",
       "      <td>2019-10-26</td>\n",
       "      <td>2021-10-01 06:01:00</td>\n",
       "      <td>EUT</td>\n",
       "      <td>706.0</td>\n",
       "    </tr>\n",
       "    <tr>\n",
       "      <th>229957</th>\n",
       "      <td>COUGARS HERO</td>\n",
       "      <td>D</td>\n",
       "      <td>2019-01-10</td>\n",
       "      <td>2021-10-01 06:01:00</td>\n",
       "      <td>EUT</td>\n",
       "      <td>995.0</td>\n",
       "    </tr>\n",
       "    <tr>\n",
       "      <th>229958</th>\n",
       "      <td>CLASSIC SYLVIA</td>\n",
       "      <td>B</td>\n",
       "      <td>2019-03-10</td>\n",
       "      <td>2021-10-01 06:01:00</td>\n",
       "      <td>REG</td>\n",
       "      <td>936.0</td>\n",
       "    </tr>\n",
       "    <tr>\n",
       "      <th>229959</th>\n",
       "      <td>VIEW HERMOINE</td>\n",
       "      <td>B</td>\n",
       "      <td>2019-12-06</td>\n",
       "      <td>2021-10-01 06:01:00</td>\n",
       "      <td>EUT</td>\n",
       "      <td>665.0</td>\n",
       "    </tr>\n",
       "    <tr>\n",
       "      <th>229960</th>\n",
       "      <td>DARBYS STORM</td>\n",
       "      <td>D</td>\n",
       "      <td>2018-07-14</td>\n",
       "      <td>2021-10-01 06:01:00</td>\n",
       "      <td>EUT</td>\n",
       "      <td>1175.0</td>\n",
       "    </tr>\n",
       "  </tbody>\n",
       "</table>\n",
       "<p>229875 rows × 6 columns</p>\n",
       "</div>"
      ],
      "text/plain": [
       "         Greyhound Name Sex Whelp Date           OccuredAt Status  \\\n",
       "0       COOLEMORE COUNT   B 2022-12-02 2023-07-12 14:41:00    EUT   \n",
       "1           SPOOK MAGOO   D 2019-04-21 2023-07-12 12:24:00    EUT   \n",
       "2         PECKIES DAFFY   B 2020-03-26 2023-07-12 11:34:00    EUT   \n",
       "3           SPOOK MAGOO   D 2019-04-21 2023-07-12 11:24:00    RAC   \n",
       "4          SHELONE KING   D 2019-04-15 2023-07-12 10:25:00    EUT   \n",
       "...                 ...  ..        ...                 ...    ...   \n",
       "229956       KIWI SANDY   B 2019-10-26 2021-10-01 06:01:00    EUT   \n",
       "229957     COUGARS HERO   D 2019-01-10 2021-10-01 06:01:00    EUT   \n",
       "229958   CLASSIC SYLVIA   B 2019-03-10 2021-10-01 06:01:00    REG   \n",
       "229959    VIEW HERMOINE   B 2019-12-06 2021-10-01 06:01:00    EUT   \n",
       "229960     DARBYS STORM   D 2018-07-14 2021-10-01 06:01:00    EUT   \n",
       "\n",
       "        Career Length  \n",
       "0               222.0  \n",
       "1              1543.0  \n",
       "2              1203.0  \n",
       "3              1543.0  \n",
       "4              1549.0  \n",
       "...               ...  \n",
       "229956          706.0  \n",
       "229957          995.0  \n",
       "229958          936.0  \n",
       "229959          665.0  \n",
       "229960         1175.0  \n",
       "\n",
       "[229875 rows x 6 columns]"
      ]
     },
     "execution_count": 347,
     "metadata": {},
     "output_type": "execute_result"
    }
   ],
   "source": [
    "df"
   ]
  },
  {
   "cell_type": "code",
   "execution_count": 348,
   "id": "5333860d",
   "metadata": {},
   "outputs": [],
   "source": [
    "# Convert categorical variables using one-hot encoding\n",
    "df_encoded  = pd.get_dummies(df, columns=[\"Sex\", \"Status\"])"
   ]
  },
  {
   "cell_type": "markdown",
   "id": "d69125f1",
   "metadata": {},
   "source": [
    "insert Lazy predict"
   ]
  },
  {
   "cell_type": "code",
   "execution_count": 350,
   "id": "dea93216",
   "metadata": {},
   "outputs": [],
   "source": [
    " #pip install lazypredict"
   ]
  },
  {
   "cell_type": "code",
   "execution_count": 298,
   "id": "4523e829",
   "metadata": {},
   "outputs": [],
   "source": [
    "from sklearn.model_selection import train_test_split\n",
    "from sklearn.linear_model import LinearRegression\n",
    "from sklearn.metrics import mean_squared_error"
   ]
  },
  {
   "cell_type": "code",
   "execution_count": 299,
   "id": "c88512b3",
   "metadata": {},
   "outputs": [],
   "source": [
    "# Split the data into training and testing sets\n",
    "X = df_encoded.drop([\"Greyhound Name\", \"Whelp Date\",\"Career Length\", \"OccuredAt\"], axis=1)\n",
    "y = df_encoded[\"Career Length\"]\n",
    "X_train, X_test, y_train, y_test = train_test_split(X, y, test_size=0.3, random_state=42)\n",
    "\n",
    "# Train a Linear Regression model"
   ]
  },
  {
   "cell_type": "code",
   "execution_count": 300,
   "id": "14f3408c",
   "metadata": {},
   "outputs": [
    {
     "data": {
      "text/html": [
       "<style>#sk-container-id-11 {color: black;}#sk-container-id-11 pre{padding: 0;}#sk-container-id-11 div.sk-toggleable {background-color: white;}#sk-container-id-11 label.sk-toggleable__label {cursor: pointer;display: block;width: 100%;margin-bottom: 0;padding: 0.3em;box-sizing: border-box;text-align: center;}#sk-container-id-11 label.sk-toggleable__label-arrow:before {content: \"▸\";float: left;margin-right: 0.25em;color: #696969;}#sk-container-id-11 label.sk-toggleable__label-arrow:hover:before {color: black;}#sk-container-id-11 div.sk-estimator:hover label.sk-toggleable__label-arrow:before {color: black;}#sk-container-id-11 div.sk-toggleable__content {max-height: 0;max-width: 0;overflow: hidden;text-align: left;background-color: #f0f8ff;}#sk-container-id-11 div.sk-toggleable__content pre {margin: 0.2em;color: black;border-radius: 0.25em;background-color: #f0f8ff;}#sk-container-id-11 input.sk-toggleable__control:checked~div.sk-toggleable__content {max-height: 200px;max-width: 100%;overflow: auto;}#sk-container-id-11 input.sk-toggleable__control:checked~label.sk-toggleable__label-arrow:before {content: \"▾\";}#sk-container-id-11 div.sk-estimator input.sk-toggleable__control:checked~label.sk-toggleable__label {background-color: #d4ebff;}#sk-container-id-11 div.sk-label input.sk-toggleable__control:checked~label.sk-toggleable__label {background-color: #d4ebff;}#sk-container-id-11 input.sk-hidden--visually {border: 0;clip: rect(1px 1px 1px 1px);clip: rect(1px, 1px, 1px, 1px);height: 1px;margin: -1px;overflow: hidden;padding: 0;position: absolute;width: 1px;}#sk-container-id-11 div.sk-estimator {font-family: monospace;background-color: #f0f8ff;border: 1px dotted black;border-radius: 0.25em;box-sizing: border-box;margin-bottom: 0.5em;}#sk-container-id-11 div.sk-estimator:hover {background-color: #d4ebff;}#sk-container-id-11 div.sk-parallel-item::after {content: \"\";width: 100%;border-bottom: 1px solid gray;flex-grow: 1;}#sk-container-id-11 div.sk-label:hover label.sk-toggleable__label {background-color: #d4ebff;}#sk-container-id-11 div.sk-serial::before {content: \"\";position: absolute;border-left: 1px solid gray;box-sizing: border-box;top: 0;bottom: 0;left: 50%;z-index: 0;}#sk-container-id-11 div.sk-serial {display: flex;flex-direction: column;align-items: center;background-color: white;padding-right: 0.2em;padding-left: 0.2em;position: relative;}#sk-container-id-11 div.sk-item {position: relative;z-index: 1;}#sk-container-id-11 div.sk-parallel {display: flex;align-items: stretch;justify-content: center;background-color: white;position: relative;}#sk-container-id-11 div.sk-item::before, #sk-container-id-11 div.sk-parallel-item::before {content: \"\";position: absolute;border-left: 1px solid gray;box-sizing: border-box;top: 0;bottom: 0;left: 50%;z-index: -1;}#sk-container-id-11 div.sk-parallel-item {display: flex;flex-direction: column;z-index: 1;position: relative;background-color: white;}#sk-container-id-11 div.sk-parallel-item:first-child::after {align-self: flex-end;width: 50%;}#sk-container-id-11 div.sk-parallel-item:last-child::after {align-self: flex-start;width: 50%;}#sk-container-id-11 div.sk-parallel-item:only-child::after {width: 0;}#sk-container-id-11 div.sk-dashed-wrapped {border: 1px dashed gray;margin: 0 0.4em 0.5em 0.4em;box-sizing: border-box;padding-bottom: 0.4em;background-color: white;}#sk-container-id-11 div.sk-label label {font-family: monospace;font-weight: bold;display: inline-block;line-height: 1.2em;}#sk-container-id-11 div.sk-label-container {text-align: center;}#sk-container-id-11 div.sk-container {/* jupyter's `normalize.less` sets `[hidden] { display: none; }` but bootstrap.min.css set `[hidden] { display: none !important; }` so we also need the `!important` here to be able to override the default hidden behavior on the sphinx rendered scikit-learn.org. See: https://github.com/scikit-learn/scikit-learn/issues/21755 */display: inline-block !important;position: relative;}#sk-container-id-11 div.sk-text-repr-fallback {display: none;}</style><div id=\"sk-container-id-11\" class=\"sk-top-container\"><div class=\"sk-text-repr-fallback\"><pre>LinearRegression()</pre><b>In a Jupyter environment, please rerun this cell to show the HTML representation or trust the notebook. <br />On GitHub, the HTML representation is unable to render, please try loading this page with nbviewer.org.</b></div><div class=\"sk-container\" hidden><div class=\"sk-item\"><div class=\"sk-estimator sk-toggleable\"><input class=\"sk-toggleable__control sk-hidden--visually\" id=\"sk-estimator-id-11\" type=\"checkbox\" checked><label for=\"sk-estimator-id-11\" class=\"sk-toggleable__label sk-toggleable__label-arrow\">LinearRegression</label><div class=\"sk-toggleable__content\"><pre>LinearRegression()</pre></div></div></div></div></div>"
      ],
      "text/plain": [
       "LinearRegression()"
      ]
     },
     "execution_count": 300,
     "metadata": {},
     "output_type": "execute_result"
    }
   ],
   "source": [
    "# Train a Linear Regression model\n",
    "model = LinearRegression()\n",
    "model.fit(X_train, y_train)"
   ]
  },
  {
   "cell_type": "code",
   "execution_count": 301,
   "id": "2ef09288",
   "metadata": {},
   "outputs": [],
   "source": [
    "# Make predictions on the test set\n",
    "predictions = model.predict(X_test)"
   ]
  },
  {
   "cell_type": "code",
   "execution_count": 302,
   "id": "58ae3486",
   "metadata": {},
   "outputs": [],
   "source": [
    "# Evaluate the model\n",
    "mse = mean_squared_error(y_test, predictions)"
   ]
  },
  {
   "cell_type": "code",
   "execution_count": 303,
   "id": "57db6751",
   "metadata": {},
   "outputs": [
    {
     "name": "stdout",
     "output_type": "stream",
     "text": [
      "LinearRegressor Mean Squared Error: 158650.1353171453\n"
     ]
    }
   ],
   "source": [
    "print(\"LinearRegressor Mean Squared Error:\", mse)"
   ]
  },
  {
   "cell_type": "code",
   "execution_count": 304,
   "id": "d039658b",
   "metadata": {},
   "outputs": [
    {
     "data": {
      "text/html": [
       "<style>#sk-container-id-12 {color: black;}#sk-container-id-12 pre{padding: 0;}#sk-container-id-12 div.sk-toggleable {background-color: white;}#sk-container-id-12 label.sk-toggleable__label {cursor: pointer;display: block;width: 100%;margin-bottom: 0;padding: 0.3em;box-sizing: border-box;text-align: center;}#sk-container-id-12 label.sk-toggleable__label-arrow:before {content: \"▸\";float: left;margin-right: 0.25em;color: #696969;}#sk-container-id-12 label.sk-toggleable__label-arrow:hover:before {color: black;}#sk-container-id-12 div.sk-estimator:hover label.sk-toggleable__label-arrow:before {color: black;}#sk-container-id-12 div.sk-toggleable__content {max-height: 0;max-width: 0;overflow: hidden;text-align: left;background-color: #f0f8ff;}#sk-container-id-12 div.sk-toggleable__content pre {margin: 0.2em;color: black;border-radius: 0.25em;background-color: #f0f8ff;}#sk-container-id-12 input.sk-toggleable__control:checked~div.sk-toggleable__content {max-height: 200px;max-width: 100%;overflow: auto;}#sk-container-id-12 input.sk-toggleable__control:checked~label.sk-toggleable__label-arrow:before {content: \"▾\";}#sk-container-id-12 div.sk-estimator input.sk-toggleable__control:checked~label.sk-toggleable__label {background-color: #d4ebff;}#sk-container-id-12 div.sk-label input.sk-toggleable__control:checked~label.sk-toggleable__label {background-color: #d4ebff;}#sk-container-id-12 input.sk-hidden--visually {border: 0;clip: rect(1px 1px 1px 1px);clip: rect(1px, 1px, 1px, 1px);height: 1px;margin: -1px;overflow: hidden;padding: 0;position: absolute;width: 1px;}#sk-container-id-12 div.sk-estimator {font-family: monospace;background-color: #f0f8ff;border: 1px dotted black;border-radius: 0.25em;box-sizing: border-box;margin-bottom: 0.5em;}#sk-container-id-12 div.sk-estimator:hover {background-color: #d4ebff;}#sk-container-id-12 div.sk-parallel-item::after {content: \"\";width: 100%;border-bottom: 1px solid gray;flex-grow: 1;}#sk-container-id-12 div.sk-label:hover label.sk-toggleable__label {background-color: #d4ebff;}#sk-container-id-12 div.sk-serial::before {content: \"\";position: absolute;border-left: 1px solid gray;box-sizing: border-box;top: 0;bottom: 0;left: 50%;z-index: 0;}#sk-container-id-12 div.sk-serial {display: flex;flex-direction: column;align-items: center;background-color: white;padding-right: 0.2em;padding-left: 0.2em;position: relative;}#sk-container-id-12 div.sk-item {position: relative;z-index: 1;}#sk-container-id-12 div.sk-parallel {display: flex;align-items: stretch;justify-content: center;background-color: white;position: relative;}#sk-container-id-12 div.sk-item::before, #sk-container-id-12 div.sk-parallel-item::before {content: \"\";position: absolute;border-left: 1px solid gray;box-sizing: border-box;top: 0;bottom: 0;left: 50%;z-index: -1;}#sk-container-id-12 div.sk-parallel-item {display: flex;flex-direction: column;z-index: 1;position: relative;background-color: white;}#sk-container-id-12 div.sk-parallel-item:first-child::after {align-self: flex-end;width: 50%;}#sk-container-id-12 div.sk-parallel-item:last-child::after {align-self: flex-start;width: 50%;}#sk-container-id-12 div.sk-parallel-item:only-child::after {width: 0;}#sk-container-id-12 div.sk-dashed-wrapped {border: 1px dashed gray;margin: 0 0.4em 0.5em 0.4em;box-sizing: border-box;padding-bottom: 0.4em;background-color: white;}#sk-container-id-12 div.sk-label label {font-family: monospace;font-weight: bold;display: inline-block;line-height: 1.2em;}#sk-container-id-12 div.sk-label-container {text-align: center;}#sk-container-id-12 div.sk-container {/* jupyter's `normalize.less` sets `[hidden] { display: none; }` but bootstrap.min.css set `[hidden] { display: none !important; }` so we also need the `!important` here to be able to override the default hidden behavior on the sphinx rendered scikit-learn.org. See: https://github.com/scikit-learn/scikit-learn/issues/21755 */display: inline-block !important;position: relative;}#sk-container-id-12 div.sk-text-repr-fallback {display: none;}</style><div id=\"sk-container-id-12\" class=\"sk-top-container\"><div class=\"sk-text-repr-fallback\"><pre>RandomForestRegressor(random_state=42)</pre><b>In a Jupyter environment, please rerun this cell to show the HTML representation or trust the notebook. <br />On GitHub, the HTML representation is unable to render, please try loading this page with nbviewer.org.</b></div><div class=\"sk-container\" hidden><div class=\"sk-item\"><div class=\"sk-estimator sk-toggleable\"><input class=\"sk-toggleable__control sk-hidden--visually\" id=\"sk-estimator-id-12\" type=\"checkbox\" checked><label for=\"sk-estimator-id-12\" class=\"sk-toggleable__label sk-toggleable__label-arrow\">RandomForestRegressor</label><div class=\"sk-toggleable__content\"><pre>RandomForestRegressor(random_state=42)</pre></div></div></div></div></div>"
      ],
      "text/plain": [
       "RandomForestRegressor(random_state=42)"
      ]
     },
     "execution_count": 304,
     "metadata": {},
     "output_type": "execute_result"
    }
   ],
   "source": [
    "# Train a Random Forest Regression model\n",
    "from sklearn.ensemble import RandomForestRegressor\n",
    "model1 = RandomForestRegressor(n_estimators=100, random_state=42)\n",
    "model1.fit(X_train, y_train)"
   ]
  },
  {
   "cell_type": "code",
   "execution_count": 305,
   "id": "0f0bab7b",
   "metadata": {},
   "outputs": [],
   "source": [
    "# Make predictions on the test set\n",
    "predictions1 = model1.predict(X_test)"
   ]
  },
  {
   "cell_type": "code",
   "execution_count": 306,
   "id": "81a455ae",
   "metadata": {},
   "outputs": [],
   "source": [
    "# Evaluate the model\n",
    "mse1 = mean_squared_error(y_test, predictions1)"
   ]
  },
  {
   "cell_type": "code",
   "execution_count": 307,
   "id": "981c1dd0",
   "metadata": {},
   "outputs": [
    {
     "name": "stdout",
     "output_type": "stream",
     "text": [
      "Random Forest Mean Squared Error: 158650.4826508139\n"
     ]
    }
   ],
   "source": [
    "print(\"Random Forest Mean Squared Error:\", mse1)"
   ]
  },
  {
   "cell_type": "code",
   "execution_count": 308,
   "id": "9ffc23a4",
   "metadata": {},
   "outputs": [],
   "source": [
    "from sklearn.ensemble import GradientBoostingRegressor"
   ]
  },
  {
   "cell_type": "code",
   "execution_count": 309,
   "id": "ac9657b2",
   "metadata": {},
   "outputs": [
    {
     "data": {
      "text/html": [
       "<style>#sk-container-id-13 {color: black;}#sk-container-id-13 pre{padding: 0;}#sk-container-id-13 div.sk-toggleable {background-color: white;}#sk-container-id-13 label.sk-toggleable__label {cursor: pointer;display: block;width: 100%;margin-bottom: 0;padding: 0.3em;box-sizing: border-box;text-align: center;}#sk-container-id-13 label.sk-toggleable__label-arrow:before {content: \"▸\";float: left;margin-right: 0.25em;color: #696969;}#sk-container-id-13 label.sk-toggleable__label-arrow:hover:before {color: black;}#sk-container-id-13 div.sk-estimator:hover label.sk-toggleable__label-arrow:before {color: black;}#sk-container-id-13 div.sk-toggleable__content {max-height: 0;max-width: 0;overflow: hidden;text-align: left;background-color: #f0f8ff;}#sk-container-id-13 div.sk-toggleable__content pre {margin: 0.2em;color: black;border-radius: 0.25em;background-color: #f0f8ff;}#sk-container-id-13 input.sk-toggleable__control:checked~div.sk-toggleable__content {max-height: 200px;max-width: 100%;overflow: auto;}#sk-container-id-13 input.sk-toggleable__control:checked~label.sk-toggleable__label-arrow:before {content: \"▾\";}#sk-container-id-13 div.sk-estimator input.sk-toggleable__control:checked~label.sk-toggleable__label {background-color: #d4ebff;}#sk-container-id-13 div.sk-label input.sk-toggleable__control:checked~label.sk-toggleable__label {background-color: #d4ebff;}#sk-container-id-13 input.sk-hidden--visually {border: 0;clip: rect(1px 1px 1px 1px);clip: rect(1px, 1px, 1px, 1px);height: 1px;margin: -1px;overflow: hidden;padding: 0;position: absolute;width: 1px;}#sk-container-id-13 div.sk-estimator {font-family: monospace;background-color: #f0f8ff;border: 1px dotted black;border-radius: 0.25em;box-sizing: border-box;margin-bottom: 0.5em;}#sk-container-id-13 div.sk-estimator:hover {background-color: #d4ebff;}#sk-container-id-13 div.sk-parallel-item::after {content: \"\";width: 100%;border-bottom: 1px solid gray;flex-grow: 1;}#sk-container-id-13 div.sk-label:hover label.sk-toggleable__label {background-color: #d4ebff;}#sk-container-id-13 div.sk-serial::before {content: \"\";position: absolute;border-left: 1px solid gray;box-sizing: border-box;top: 0;bottom: 0;left: 50%;z-index: 0;}#sk-container-id-13 div.sk-serial {display: flex;flex-direction: column;align-items: center;background-color: white;padding-right: 0.2em;padding-left: 0.2em;position: relative;}#sk-container-id-13 div.sk-item {position: relative;z-index: 1;}#sk-container-id-13 div.sk-parallel {display: flex;align-items: stretch;justify-content: center;background-color: white;position: relative;}#sk-container-id-13 div.sk-item::before, #sk-container-id-13 div.sk-parallel-item::before {content: \"\";position: absolute;border-left: 1px solid gray;box-sizing: border-box;top: 0;bottom: 0;left: 50%;z-index: -1;}#sk-container-id-13 div.sk-parallel-item {display: flex;flex-direction: column;z-index: 1;position: relative;background-color: white;}#sk-container-id-13 div.sk-parallel-item:first-child::after {align-self: flex-end;width: 50%;}#sk-container-id-13 div.sk-parallel-item:last-child::after {align-self: flex-start;width: 50%;}#sk-container-id-13 div.sk-parallel-item:only-child::after {width: 0;}#sk-container-id-13 div.sk-dashed-wrapped {border: 1px dashed gray;margin: 0 0.4em 0.5em 0.4em;box-sizing: border-box;padding-bottom: 0.4em;background-color: white;}#sk-container-id-13 div.sk-label label {font-family: monospace;font-weight: bold;display: inline-block;line-height: 1.2em;}#sk-container-id-13 div.sk-label-container {text-align: center;}#sk-container-id-13 div.sk-container {/* jupyter's `normalize.less` sets `[hidden] { display: none; }` but bootstrap.min.css set `[hidden] { display: none !important; }` so we also need the `!important` here to be able to override the default hidden behavior on the sphinx rendered scikit-learn.org. See: https://github.com/scikit-learn/scikit-learn/issues/21755 */display: inline-block !important;position: relative;}#sk-container-id-13 div.sk-text-repr-fallback {display: none;}</style><div id=\"sk-container-id-13\" class=\"sk-top-container\"><div class=\"sk-text-repr-fallback\"><pre>GradientBoostingRegressor(random_state=42)</pre><b>In a Jupyter environment, please rerun this cell to show the HTML representation or trust the notebook. <br />On GitHub, the HTML representation is unable to render, please try loading this page with nbviewer.org.</b></div><div class=\"sk-container\" hidden><div class=\"sk-item\"><div class=\"sk-estimator sk-toggleable\"><input class=\"sk-toggleable__control sk-hidden--visually\" id=\"sk-estimator-id-13\" type=\"checkbox\" checked><label for=\"sk-estimator-id-13\" class=\"sk-toggleable__label sk-toggleable__label-arrow\">GradientBoostingRegressor</label><div class=\"sk-toggleable__content\"><pre>GradientBoostingRegressor(random_state=42)</pre></div></div></div></div></div>"
      ],
      "text/plain": [
       "GradientBoostingRegressor(random_state=42)"
      ]
     },
     "execution_count": 309,
     "metadata": {},
     "output_type": "execute_result"
    }
   ],
   "source": [
    "# Train a Gradient Boosting Regression model\n",
    "model2 = GradientBoostingRegressor(n_estimators=100, learning_rate=0.1, random_state=42)\n",
    "model2.fit(X_train, y_train)"
   ]
  },
  {
   "cell_type": "code",
   "execution_count": 310,
   "id": "16dbcd33",
   "metadata": {},
   "outputs": [],
   "source": [
    "# Make predictions on the test set\n",
    "predictions2 = model2.predict(X_test)"
   ]
  },
  {
   "cell_type": "code",
   "execution_count": 311,
   "id": "22d68dd6",
   "metadata": {},
   "outputs": [
    {
     "name": "stdout",
     "output_type": "stream",
     "text": [
      "Mean Squared Error: 158651.81528049172\n"
     ]
    }
   ],
   "source": [
    "# Evaluate the model\n",
    "mse = mean_squared_error(y_test, predictions2)\n",
    "print(\"Mean Squared Error:\", mse)"
   ]
  },
  {
   "cell_type": "code",
   "execution_count": 312,
   "id": "ebb86623",
   "metadata": {},
   "outputs": [
    {
     "data": {
      "text/html": [
       "<div>\n",
       "<style scoped>\n",
       "    .dataframe tbody tr th:only-of-type {\n",
       "        vertical-align: middle;\n",
       "    }\n",
       "\n",
       "    .dataframe tbody tr th {\n",
       "        vertical-align: top;\n",
       "    }\n",
       "\n",
       "    .dataframe thead th {\n",
       "        text-align: right;\n",
       "    }\n",
       "</style>\n",
       "<table border=\"1\" class=\"dataframe\">\n",
       "  <thead>\n",
       "    <tr style=\"text-align: right;\">\n",
       "      <th></th>\n",
       "      <th>Greyhound Name</th>\n",
       "      <th>Sex</th>\n",
       "      <th>Whelp Date</th>\n",
       "      <th>OccuredAt</th>\n",
       "      <th>Status</th>\n",
       "      <th>Career Length</th>\n",
       "    </tr>\n",
       "  </thead>\n",
       "  <tbody>\n",
       "    <tr>\n",
       "      <th>0</th>\n",
       "      <td>COOLEMORE COUNT</td>\n",
       "      <td>B</td>\n",
       "      <td>2022-12-02</td>\n",
       "      <td>2023-07-12 14:41:00</td>\n",
       "      <td>EUT</td>\n",
       "      <td>222.0</td>\n",
       "    </tr>\n",
       "    <tr>\n",
       "      <th>1</th>\n",
       "      <td>SPOOK MAGOO</td>\n",
       "      <td>D</td>\n",
       "      <td>2019-04-21</td>\n",
       "      <td>2023-07-12 12:24:00</td>\n",
       "      <td>EUT</td>\n",
       "      <td>1543.0</td>\n",
       "    </tr>\n",
       "    <tr>\n",
       "      <th>2</th>\n",
       "      <td>PECKIES DAFFY</td>\n",
       "      <td>B</td>\n",
       "      <td>2020-03-26</td>\n",
       "      <td>2023-07-12 11:34:00</td>\n",
       "      <td>EUT</td>\n",
       "      <td>1203.0</td>\n",
       "    </tr>\n",
       "    <tr>\n",
       "      <th>3</th>\n",
       "      <td>SPOOK MAGOO</td>\n",
       "      <td>D</td>\n",
       "      <td>2019-04-21</td>\n",
       "      <td>2023-07-12 11:24:00</td>\n",
       "      <td>RAC</td>\n",
       "      <td>1543.0</td>\n",
       "    </tr>\n",
       "    <tr>\n",
       "      <th>4</th>\n",
       "      <td>SHELONE KING</td>\n",
       "      <td>D</td>\n",
       "      <td>2019-04-15</td>\n",
       "      <td>2023-07-12 10:25:00</td>\n",
       "      <td>EUT</td>\n",
       "      <td>1549.0</td>\n",
       "    </tr>\n",
       "    <tr>\n",
       "      <th>...</th>\n",
       "      <td>...</td>\n",
       "      <td>...</td>\n",
       "      <td>...</td>\n",
       "      <td>...</td>\n",
       "      <td>...</td>\n",
       "      <td>...</td>\n",
       "    </tr>\n",
       "    <tr>\n",
       "      <th>229956</th>\n",
       "      <td>KIWI SANDY</td>\n",
       "      <td>B</td>\n",
       "      <td>2019-10-26</td>\n",
       "      <td>2021-10-01 06:01:00</td>\n",
       "      <td>EUT</td>\n",
       "      <td>706.0</td>\n",
       "    </tr>\n",
       "    <tr>\n",
       "      <th>229957</th>\n",
       "      <td>COUGARS HERO</td>\n",
       "      <td>D</td>\n",
       "      <td>2019-01-10</td>\n",
       "      <td>2021-10-01 06:01:00</td>\n",
       "      <td>EUT</td>\n",
       "      <td>995.0</td>\n",
       "    </tr>\n",
       "    <tr>\n",
       "      <th>229958</th>\n",
       "      <td>CLASSIC SYLVIA</td>\n",
       "      <td>B</td>\n",
       "      <td>2019-03-10</td>\n",
       "      <td>2021-10-01 06:01:00</td>\n",
       "      <td>REG</td>\n",
       "      <td>936.0</td>\n",
       "    </tr>\n",
       "    <tr>\n",
       "      <th>229959</th>\n",
       "      <td>VIEW HERMOINE</td>\n",
       "      <td>B</td>\n",
       "      <td>2019-12-06</td>\n",
       "      <td>2021-10-01 06:01:00</td>\n",
       "      <td>EUT</td>\n",
       "      <td>665.0</td>\n",
       "    </tr>\n",
       "    <tr>\n",
       "      <th>229960</th>\n",
       "      <td>DARBYS STORM</td>\n",
       "      <td>D</td>\n",
       "      <td>2018-07-14</td>\n",
       "      <td>2021-10-01 06:01:00</td>\n",
       "      <td>EUT</td>\n",
       "      <td>1175.0</td>\n",
       "    </tr>\n",
       "  </tbody>\n",
       "</table>\n",
       "<p>229875 rows × 6 columns</p>\n",
       "</div>"
      ],
      "text/plain": [
       "         Greyhound Name Sex Whelp Date           OccuredAt Status  \\\n",
       "0       COOLEMORE COUNT   B 2022-12-02 2023-07-12 14:41:00    EUT   \n",
       "1           SPOOK MAGOO   D 2019-04-21 2023-07-12 12:24:00    EUT   \n",
       "2         PECKIES DAFFY   B 2020-03-26 2023-07-12 11:34:00    EUT   \n",
       "3           SPOOK MAGOO   D 2019-04-21 2023-07-12 11:24:00    RAC   \n",
       "4          SHELONE KING   D 2019-04-15 2023-07-12 10:25:00    EUT   \n",
       "...                 ...  ..        ...                 ...    ...   \n",
       "229956       KIWI SANDY   B 2019-10-26 2021-10-01 06:01:00    EUT   \n",
       "229957     COUGARS HERO   D 2019-01-10 2021-10-01 06:01:00    EUT   \n",
       "229958   CLASSIC SYLVIA   B 2019-03-10 2021-10-01 06:01:00    REG   \n",
       "229959    VIEW HERMOINE   B 2019-12-06 2021-10-01 06:01:00    EUT   \n",
       "229960     DARBYS STORM   D 2018-07-14 2021-10-01 06:01:00    EUT   \n",
       "\n",
       "        Career Length  \n",
       "0               222.0  \n",
       "1              1543.0  \n",
       "2              1203.0  \n",
       "3              1543.0  \n",
       "4              1549.0  \n",
       "...               ...  \n",
       "229956          706.0  \n",
       "229957          995.0  \n",
       "229958          936.0  \n",
       "229959          665.0  \n",
       "229960         1175.0  \n",
       "\n",
       "[229875 rows x 6 columns]"
      ]
     },
     "execution_count": 312,
     "metadata": {},
     "output_type": "execute_result"
    }
   ],
   "source": [
    "df"
   ]
  },
  {
   "cell_type": "code",
   "execution_count": 313,
   "id": "7481f024",
   "metadata": {},
   "outputs": [],
   "source": [
    "# Calculate Career Length and classify into categories\n",
    "df[\"Career Length\"] = (df[\"OccuredAt\"] - df[\"Whelp Date\"]).dt.days\n",
    "df[\"Career Category\"] = pd.cut(df[\"Career Length\"], bins=[0, 365, 730, float('inf')],\n",
    "                               labels=[\"Short\", \"Medium\", \"Long\"])"
   ]
  },
  {
   "cell_type": "code",
   "execution_count": 314,
   "id": "92de5702",
   "metadata": {},
   "outputs": [
    {
     "data": {
      "text/html": [
       "<div>\n",
       "<style scoped>\n",
       "    .dataframe tbody tr th:only-of-type {\n",
       "        vertical-align: middle;\n",
       "    }\n",
       "\n",
       "    .dataframe tbody tr th {\n",
       "        vertical-align: top;\n",
       "    }\n",
       "\n",
       "    .dataframe thead th {\n",
       "        text-align: right;\n",
       "    }\n",
       "</style>\n",
       "<table border=\"1\" class=\"dataframe\">\n",
       "  <thead>\n",
       "    <tr style=\"text-align: right;\">\n",
       "      <th></th>\n",
       "      <th>Greyhound Name</th>\n",
       "      <th>Sex</th>\n",
       "      <th>Whelp Date</th>\n",
       "      <th>OccuredAt</th>\n",
       "      <th>Status</th>\n",
       "      <th>Career Length</th>\n",
       "      <th>Career Category</th>\n",
       "    </tr>\n",
       "  </thead>\n",
       "  <tbody>\n",
       "    <tr>\n",
       "      <th>0</th>\n",
       "      <td>COOLEMORE COUNT</td>\n",
       "      <td>B</td>\n",
       "      <td>2022-12-02</td>\n",
       "      <td>2023-07-12 14:41:00</td>\n",
       "      <td>EUT</td>\n",
       "      <td>222</td>\n",
       "      <td>Short</td>\n",
       "    </tr>\n",
       "    <tr>\n",
       "      <th>1</th>\n",
       "      <td>SPOOK MAGOO</td>\n",
       "      <td>D</td>\n",
       "      <td>2019-04-21</td>\n",
       "      <td>2023-07-12 12:24:00</td>\n",
       "      <td>EUT</td>\n",
       "      <td>1543</td>\n",
       "      <td>Long</td>\n",
       "    </tr>\n",
       "    <tr>\n",
       "      <th>2</th>\n",
       "      <td>PECKIES DAFFY</td>\n",
       "      <td>B</td>\n",
       "      <td>2020-03-26</td>\n",
       "      <td>2023-07-12 11:34:00</td>\n",
       "      <td>EUT</td>\n",
       "      <td>1203</td>\n",
       "      <td>Long</td>\n",
       "    </tr>\n",
       "    <tr>\n",
       "      <th>3</th>\n",
       "      <td>SPOOK MAGOO</td>\n",
       "      <td>D</td>\n",
       "      <td>2019-04-21</td>\n",
       "      <td>2023-07-12 11:24:00</td>\n",
       "      <td>RAC</td>\n",
       "      <td>1543</td>\n",
       "      <td>Long</td>\n",
       "    </tr>\n",
       "    <tr>\n",
       "      <th>4</th>\n",
       "      <td>SHELONE KING</td>\n",
       "      <td>D</td>\n",
       "      <td>2019-04-15</td>\n",
       "      <td>2023-07-12 10:25:00</td>\n",
       "      <td>EUT</td>\n",
       "      <td>1549</td>\n",
       "      <td>Long</td>\n",
       "    </tr>\n",
       "    <tr>\n",
       "      <th>...</th>\n",
       "      <td>...</td>\n",
       "      <td>...</td>\n",
       "      <td>...</td>\n",
       "      <td>...</td>\n",
       "      <td>...</td>\n",
       "      <td>...</td>\n",
       "      <td>...</td>\n",
       "    </tr>\n",
       "    <tr>\n",
       "      <th>229956</th>\n",
       "      <td>KIWI SANDY</td>\n",
       "      <td>B</td>\n",
       "      <td>2019-10-26</td>\n",
       "      <td>2021-10-01 06:01:00</td>\n",
       "      <td>EUT</td>\n",
       "      <td>706</td>\n",
       "      <td>Medium</td>\n",
       "    </tr>\n",
       "    <tr>\n",
       "      <th>229957</th>\n",
       "      <td>COUGARS HERO</td>\n",
       "      <td>D</td>\n",
       "      <td>2019-01-10</td>\n",
       "      <td>2021-10-01 06:01:00</td>\n",
       "      <td>EUT</td>\n",
       "      <td>995</td>\n",
       "      <td>Long</td>\n",
       "    </tr>\n",
       "    <tr>\n",
       "      <th>229958</th>\n",
       "      <td>CLASSIC SYLVIA</td>\n",
       "      <td>B</td>\n",
       "      <td>2019-03-10</td>\n",
       "      <td>2021-10-01 06:01:00</td>\n",
       "      <td>REG</td>\n",
       "      <td>936</td>\n",
       "      <td>Long</td>\n",
       "    </tr>\n",
       "    <tr>\n",
       "      <th>229959</th>\n",
       "      <td>VIEW HERMOINE</td>\n",
       "      <td>B</td>\n",
       "      <td>2019-12-06</td>\n",
       "      <td>2021-10-01 06:01:00</td>\n",
       "      <td>EUT</td>\n",
       "      <td>665</td>\n",
       "      <td>Medium</td>\n",
       "    </tr>\n",
       "    <tr>\n",
       "      <th>229960</th>\n",
       "      <td>DARBYS STORM</td>\n",
       "      <td>D</td>\n",
       "      <td>2018-07-14</td>\n",
       "      <td>2021-10-01 06:01:00</td>\n",
       "      <td>EUT</td>\n",
       "      <td>1175</td>\n",
       "      <td>Long</td>\n",
       "    </tr>\n",
       "  </tbody>\n",
       "</table>\n",
       "<p>229875 rows × 7 columns</p>\n",
       "</div>"
      ],
      "text/plain": [
       "         Greyhound Name Sex Whelp Date           OccuredAt Status  \\\n",
       "0       COOLEMORE COUNT   B 2022-12-02 2023-07-12 14:41:00    EUT   \n",
       "1           SPOOK MAGOO   D 2019-04-21 2023-07-12 12:24:00    EUT   \n",
       "2         PECKIES DAFFY   B 2020-03-26 2023-07-12 11:34:00    EUT   \n",
       "3           SPOOK MAGOO   D 2019-04-21 2023-07-12 11:24:00    RAC   \n",
       "4          SHELONE KING   D 2019-04-15 2023-07-12 10:25:00    EUT   \n",
       "...                 ...  ..        ...                 ...    ...   \n",
       "229956       KIWI SANDY   B 2019-10-26 2021-10-01 06:01:00    EUT   \n",
       "229957     COUGARS HERO   D 2019-01-10 2021-10-01 06:01:00    EUT   \n",
       "229958   CLASSIC SYLVIA   B 2019-03-10 2021-10-01 06:01:00    REG   \n",
       "229959    VIEW HERMOINE   B 2019-12-06 2021-10-01 06:01:00    EUT   \n",
       "229960     DARBYS STORM   D 2018-07-14 2021-10-01 06:01:00    EUT   \n",
       "\n",
       "        Career Length Career Category  \n",
       "0                 222           Short  \n",
       "1                1543            Long  \n",
       "2                1203            Long  \n",
       "3                1543            Long  \n",
       "4                1549            Long  \n",
       "...               ...             ...  \n",
       "229956            706          Medium  \n",
       "229957            995            Long  \n",
       "229958            936            Long  \n",
       "229959            665          Medium  \n",
       "229960           1175            Long  \n",
       "\n",
       "[229875 rows x 7 columns]"
      ]
     },
     "execution_count": 314,
     "metadata": {},
     "output_type": "execute_result"
    }
   ],
   "source": [
    "df"
   ]
  },
  {
   "cell_type": "code",
   "execution_count": 315,
   "id": "0b302356",
   "metadata": {},
   "outputs": [],
   "source": [
    " #Convert categorical variables using one-hot encoding\n",
    "categorical_columns = [\"Sex\", \"Status\"]\n",
    "df1_encoded = pd.get_dummies(df, columns=categorical_columns)"
   ]
  },
  {
   "cell_type": "code",
   "execution_count": 316,
   "id": "dfc1851f",
   "metadata": {},
   "outputs": [],
   "source": [
    "# Split the data into training and testing sets\n",
    "#X = df1_encoded.drop([\"Whelp Date\",\"Greyhound Name\", \"Career Category\", \"Career Length\", \"OccuredAt\"], axis=1)"
   ]
  },
  {
   "cell_type": "code",
   "execution_count": 317,
   "id": "a916f600",
   "metadata": {},
   "outputs": [],
   "source": [
    "#y = df1_encoded[\"Career Category\"]"
   ]
  },
  {
   "cell_type": "code",
   "execution_count": 318,
   "id": "6f8d7c96",
   "metadata": {},
   "outputs": [],
   "source": [
    "X_train, X_test, y_train, y_test = train_test_split(X, y, test_size=0.3, random_state=42)"
   ]
  },
  {
   "cell_type": "code",
   "execution_count": 319,
   "id": "1824f216",
   "metadata": {},
   "outputs": [
    {
     "data": {
      "text/html": [
       "<div>\n",
       "<style scoped>\n",
       "    .dataframe tbody tr th:only-of-type {\n",
       "        vertical-align: middle;\n",
       "    }\n",
       "\n",
       "    .dataframe tbody tr th {\n",
       "        vertical-align: top;\n",
       "    }\n",
       "\n",
       "    .dataframe thead th {\n",
       "        text-align: right;\n",
       "    }\n",
       "</style>\n",
       "<table border=\"1\" class=\"dataframe\">\n",
       "  <thead>\n",
       "    <tr style=\"text-align: right;\">\n",
       "      <th></th>\n",
       "      <th>Sex_B</th>\n",
       "      <th>Sex_D</th>\n",
       "      <th>Status_DIE</th>\n",
       "      <th>Status_EUT</th>\n",
       "      <th>Status_RAC</th>\n",
       "      <th>Status_REG</th>\n",
       "    </tr>\n",
       "  </thead>\n",
       "  <tbody>\n",
       "    <tr>\n",
       "      <th>165612</th>\n",
       "      <td>0</td>\n",
       "      <td>1</td>\n",
       "      <td>0</td>\n",
       "      <td>0</td>\n",
       "      <td>1</td>\n",
       "      <td>0</td>\n",
       "    </tr>\n",
       "    <tr>\n",
       "      <th>11956</th>\n",
       "      <td>1</td>\n",
       "      <td>0</td>\n",
       "      <td>0</td>\n",
       "      <td>0</td>\n",
       "      <td>1</td>\n",
       "      <td>0</td>\n",
       "    </tr>\n",
       "    <tr>\n",
       "      <th>187646</th>\n",
       "      <td>0</td>\n",
       "      <td>1</td>\n",
       "      <td>0</td>\n",
       "      <td>0</td>\n",
       "      <td>1</td>\n",
       "      <td>0</td>\n",
       "    </tr>\n",
       "    <tr>\n",
       "      <th>227564</th>\n",
       "      <td>0</td>\n",
       "      <td>1</td>\n",
       "      <td>0</td>\n",
       "      <td>0</td>\n",
       "      <td>0</td>\n",
       "      <td>1</td>\n",
       "    </tr>\n",
       "    <tr>\n",
       "      <th>76342</th>\n",
       "      <td>1</td>\n",
       "      <td>0</td>\n",
       "      <td>0</td>\n",
       "      <td>0</td>\n",
       "      <td>0</td>\n",
       "      <td>1</td>\n",
       "    </tr>\n",
       "    <tr>\n",
       "      <th>...</th>\n",
       "      <td>...</td>\n",
       "      <td>...</td>\n",
       "      <td>...</td>\n",
       "      <td>...</td>\n",
       "      <td>...</td>\n",
       "      <td>...</td>\n",
       "    </tr>\n",
       "    <tr>\n",
       "      <th>119941</th>\n",
       "      <td>0</td>\n",
       "      <td>1</td>\n",
       "      <td>0</td>\n",
       "      <td>0</td>\n",
       "      <td>1</td>\n",
       "      <td>0</td>\n",
       "    </tr>\n",
       "    <tr>\n",
       "      <th>103749</th>\n",
       "      <td>0</td>\n",
       "      <td>1</td>\n",
       "      <td>0</td>\n",
       "      <td>0</td>\n",
       "      <td>1</td>\n",
       "      <td>0</td>\n",
       "    </tr>\n",
       "    <tr>\n",
       "      <th>131995</th>\n",
       "      <td>1</td>\n",
       "      <td>0</td>\n",
       "      <td>0</td>\n",
       "      <td>0</td>\n",
       "      <td>1</td>\n",
       "      <td>0</td>\n",
       "    </tr>\n",
       "    <tr>\n",
       "      <th>146936</th>\n",
       "      <td>0</td>\n",
       "      <td>1</td>\n",
       "      <td>0</td>\n",
       "      <td>0</td>\n",
       "      <td>1</td>\n",
       "      <td>0</td>\n",
       "    </tr>\n",
       "    <tr>\n",
       "      <th>122020</th>\n",
       "      <td>1</td>\n",
       "      <td>0</td>\n",
       "      <td>0</td>\n",
       "      <td>0</td>\n",
       "      <td>1</td>\n",
       "      <td>0</td>\n",
       "    </tr>\n",
       "  </tbody>\n",
       "</table>\n",
       "<p>160912 rows × 6 columns</p>\n",
       "</div>"
      ],
      "text/plain": [
       "        Sex_B  Sex_D  Status_DIE  Status_EUT  Status_RAC  Status_REG\n",
       "165612      0      1           0           0           1           0\n",
       "11956       1      0           0           0           1           0\n",
       "187646      0      1           0           0           1           0\n",
       "227564      0      1           0           0           0           1\n",
       "76342       1      0           0           0           0           1\n",
       "...       ...    ...         ...         ...         ...         ...\n",
       "119941      0      1           0           0           1           0\n",
       "103749      0      1           0           0           1           0\n",
       "131995      1      0           0           0           1           0\n",
       "146936      0      1           0           0           1           0\n",
       "122020      1      0           0           0           1           0\n",
       "\n",
       "[160912 rows x 6 columns]"
      ]
     },
     "execution_count": 319,
     "metadata": {},
     "output_type": "execute_result"
    }
   ],
   "source": [
    "X_train"
   ]
  },
  {
   "cell_type": "code",
   "execution_count": 320,
   "id": "8dfb744a",
   "metadata": {},
   "outputs": [],
   "source": [
    "from sklearn.ensemble import RandomForestClassifier"
   ]
  },
  {
   "cell_type": "code",
   "execution_count": 321,
   "id": "18b66e01",
   "metadata": {},
   "outputs": [
    {
     "data": {
      "text/html": [
       "<style>#sk-container-id-14 {color: black;}#sk-container-id-14 pre{padding: 0;}#sk-container-id-14 div.sk-toggleable {background-color: white;}#sk-container-id-14 label.sk-toggleable__label {cursor: pointer;display: block;width: 100%;margin-bottom: 0;padding: 0.3em;box-sizing: border-box;text-align: center;}#sk-container-id-14 label.sk-toggleable__label-arrow:before {content: \"▸\";float: left;margin-right: 0.25em;color: #696969;}#sk-container-id-14 label.sk-toggleable__label-arrow:hover:before {color: black;}#sk-container-id-14 div.sk-estimator:hover label.sk-toggleable__label-arrow:before {color: black;}#sk-container-id-14 div.sk-toggleable__content {max-height: 0;max-width: 0;overflow: hidden;text-align: left;background-color: #f0f8ff;}#sk-container-id-14 div.sk-toggleable__content pre {margin: 0.2em;color: black;border-radius: 0.25em;background-color: #f0f8ff;}#sk-container-id-14 input.sk-toggleable__control:checked~div.sk-toggleable__content {max-height: 200px;max-width: 100%;overflow: auto;}#sk-container-id-14 input.sk-toggleable__control:checked~label.sk-toggleable__label-arrow:before {content: \"▾\";}#sk-container-id-14 div.sk-estimator input.sk-toggleable__control:checked~label.sk-toggleable__label {background-color: #d4ebff;}#sk-container-id-14 div.sk-label input.sk-toggleable__control:checked~label.sk-toggleable__label {background-color: #d4ebff;}#sk-container-id-14 input.sk-hidden--visually {border: 0;clip: rect(1px 1px 1px 1px);clip: rect(1px, 1px, 1px, 1px);height: 1px;margin: -1px;overflow: hidden;padding: 0;position: absolute;width: 1px;}#sk-container-id-14 div.sk-estimator {font-family: monospace;background-color: #f0f8ff;border: 1px dotted black;border-radius: 0.25em;box-sizing: border-box;margin-bottom: 0.5em;}#sk-container-id-14 div.sk-estimator:hover {background-color: #d4ebff;}#sk-container-id-14 div.sk-parallel-item::after {content: \"\";width: 100%;border-bottom: 1px solid gray;flex-grow: 1;}#sk-container-id-14 div.sk-label:hover label.sk-toggleable__label {background-color: #d4ebff;}#sk-container-id-14 div.sk-serial::before {content: \"\";position: absolute;border-left: 1px solid gray;box-sizing: border-box;top: 0;bottom: 0;left: 50%;z-index: 0;}#sk-container-id-14 div.sk-serial {display: flex;flex-direction: column;align-items: center;background-color: white;padding-right: 0.2em;padding-left: 0.2em;position: relative;}#sk-container-id-14 div.sk-item {position: relative;z-index: 1;}#sk-container-id-14 div.sk-parallel {display: flex;align-items: stretch;justify-content: center;background-color: white;position: relative;}#sk-container-id-14 div.sk-item::before, #sk-container-id-14 div.sk-parallel-item::before {content: \"\";position: absolute;border-left: 1px solid gray;box-sizing: border-box;top: 0;bottom: 0;left: 50%;z-index: -1;}#sk-container-id-14 div.sk-parallel-item {display: flex;flex-direction: column;z-index: 1;position: relative;background-color: white;}#sk-container-id-14 div.sk-parallel-item:first-child::after {align-self: flex-end;width: 50%;}#sk-container-id-14 div.sk-parallel-item:last-child::after {align-self: flex-start;width: 50%;}#sk-container-id-14 div.sk-parallel-item:only-child::after {width: 0;}#sk-container-id-14 div.sk-dashed-wrapped {border: 1px dashed gray;margin: 0 0.4em 0.5em 0.4em;box-sizing: border-box;padding-bottom: 0.4em;background-color: white;}#sk-container-id-14 div.sk-label label {font-family: monospace;font-weight: bold;display: inline-block;line-height: 1.2em;}#sk-container-id-14 div.sk-label-container {text-align: center;}#sk-container-id-14 div.sk-container {/* jupyter's `normalize.less` sets `[hidden] { display: none; }` but bootstrap.min.css set `[hidden] { display: none !important; }` so we also need the `!important` here to be able to override the default hidden behavior on the sphinx rendered scikit-learn.org. See: https://github.com/scikit-learn/scikit-learn/issues/21755 */display: inline-block !important;position: relative;}#sk-container-id-14 div.sk-text-repr-fallback {display: none;}</style><div id=\"sk-container-id-14\" class=\"sk-top-container\"><div class=\"sk-text-repr-fallback\"><pre>RandomForestClassifier(random_state=42)</pre><b>In a Jupyter environment, please rerun this cell to show the HTML representation or trust the notebook. <br />On GitHub, the HTML representation is unable to render, please try loading this page with nbviewer.org.</b></div><div class=\"sk-container\" hidden><div class=\"sk-item\"><div class=\"sk-estimator sk-toggleable\"><input class=\"sk-toggleable__control sk-hidden--visually\" id=\"sk-estimator-id-14\" type=\"checkbox\" checked><label for=\"sk-estimator-id-14\" class=\"sk-toggleable__label sk-toggleable__label-arrow\">RandomForestClassifier</label><div class=\"sk-toggleable__content\"><pre>RandomForestClassifier(random_state=42)</pre></div></div></div></div></div>"
      ],
      "text/plain": [
       "RandomForestClassifier(random_state=42)"
      ]
     },
     "execution_count": 321,
     "metadata": {},
     "output_type": "execute_result"
    }
   ],
   "source": [
    "# Train a Random Forest Classifier\n",
    "model3 = RandomForestClassifier(n_estimators=100, random_state=42)\n",
    "model3.fit(X_train, y_train)"
   ]
  },
  {
   "cell_type": "code",
   "execution_count": 322,
   "id": "9cf38a9f",
   "metadata": {},
   "outputs": [],
   "source": [
    "# Make predictions on the test set\n",
    "predictions4 = model3.predict(X_test)"
   ]
  },
  {
   "cell_type": "code",
   "execution_count": 323,
   "id": "30f28131",
   "metadata": {},
   "outputs": [
    {
     "name": "stdout",
     "output_type": "stream",
     "text": [
      "RandforestCalssifier Accuracy: 0.001537056102547743\n"
     ]
    }
   ],
   "source": [
    "# Evaluate the model using accuracy\n",
    "from sklearn.metrics import accuracy_score\n",
    "accuracy4 = accuracy_score(y_test, predictions4)\n",
    "print(\"RandforestCalssifier Accuracy:\", accuracy4)"
   ]
  },
  {
   "cell_type": "code",
   "execution_count": 324,
   "id": "db25a43b",
   "metadata": {},
   "outputs": [
    {
     "data": {
      "image/png": "[encoded data removed]",
      "text/plain": [
       "<Figure size 640x480 with 1 Axes>"
      ]
     },
     "metadata": {},
     "output_type": "display_data"
    }
   ],
   "source": [
    "# Visualize predictions\n",
    "plt.plot(test_data.index, test_data.values, label=\"Actual\")\n",
    "plt.plot(test_data.index, predictions4, label=\"Predicted\", color='green')\n",
    "plt.xlabel(\"Date\")\n",
    "plt.ylabel(\"Career Length\")\n",
    "plt.legend()\n",
    "plt.show()"
   ]
  },
  {
   "cell_type": "code",
   "execution_count": 325,
   "id": "26f59104",
   "metadata": {},
   "outputs": [],
   "source": [
    "# Prepare a time series dataset\n",
    "time_series_data = df.set_index(\"OccuredAt\")[\"Career Length\"]"
   ]
  },
  {
   "cell_type": "code",
   "execution_count": 326,
   "id": "08c9a562",
   "metadata": {},
   "outputs": [],
   "source": [
    "# Split the time series into training and testing sets\n",
    "train_size = int(0.7 * len(time_series_data))\n",
    "train_data, test_data = time_series_data[:train_size], time_series_data[train_size:]"
   ]
  },
  {
   "cell_type": "code",
   "execution_count": 327,
   "id": "ff88a1f8",
   "metadata": {},
   "outputs": [
    {
     "name": "stderr",
     "output_type": "stream",
     "text": [
      "C:\\Users\\danma\\anaconda3\\Lib\\site-packages\\statsmodels\\tsa\\base\\tsa_model.py:473: ValueWarning: A date index has been provided, but it has no associated frequency information and so will be ignored when e.g. forecasting.\n",
      "  self._init_dates(dates, freq)\n",
      "C:\\Users\\danma\\anaconda3\\Lib\\site-packages\\statsmodels\\tsa\\base\\tsa_model.py:473: ValueWarning: A date index has been provided, but it is not monotonic and so will be ignored when e.g. forecasting.\n",
      "  self._init_dates(dates, freq)\n",
      "C:\\Users\\danma\\anaconda3\\Lib\\site-packages\\statsmodels\\tsa\\holtwinters\\model.py:917: ConvergenceWarning: Optimization failed to converge. Check mle_retvals.\n",
      "  warnings.warn(\n"
     ]
    }
   ],
   "source": [
    "from statsmodels.tsa.holtwinters import ExponentialSmoothing\n",
    "model4 = ExponentialSmoothing(train_data, seasonal=\"add\", seasonal_periods=12)\n",
    "model_fit = model4.fit()"
   ]
  },
  {
   "cell_type": "code",
   "execution_count": 328,
   "id": "7c36e837",
   "metadata": {},
   "outputs": [
    {
     "name": "stderr",
     "output_type": "stream",
     "text": [
      "C:\\Users\\danma\\anaconda3\\Lib\\site-packages\\statsmodels\\tsa\\base\\tsa_model.py:836: ValueWarning: No supported index is available. Prediction results will be given with an integer index beginning at `start`.\n",
      "  return get_prediction_index(\n"
     ]
    }
   ],
   "source": [
    "# Make predictions on the test set\n",
    "predictions5 = model_fit.forecast(len(test_data))"
   ]
  },
  {
   "cell_type": "code",
   "execution_count": 329,
   "id": "4ba038cd",
   "metadata": {},
   "outputs": [
    {
     "name": "stdout",
     "output_type": "stream",
     "text": [
      "Mean Squared Error: 176253.939133425\n"
     ]
    }
   ],
   "source": [
    "# Evaluate the model\n",
    "mse = mean_squared_error(test_data, predictions5)\n",
    "print(\"Mean Squared Error:\", mse)"
   ]
  },
  {
   "cell_type": "code",
   "execution_count": 330,
   "id": "ca8c37f5",
   "metadata": {},
   "outputs": [],
   "source": [
    "# Set OccurredAt as the index\n",
    "#df.set_index(\"OccuredAt\", inplace=True)"
   ]
  },
  {
   "cell_type": "code",
   "execution_count": 331,
   "id": "abdbb2a2",
   "metadata": {},
   "outputs": [],
   "source": [
    "# Select status column for analysis\n",
    "status_series = df[[\"OccuredAt\",\"Status\"]]"
   ]
  },
  {
   "cell_type": "code",
   "execution_count": 332,
   "id": "ab509995",
   "metadata": {},
   "outputs": [],
   "source": [
    "from statsmodels.tsa.arima.model import ARIMA\n",
    "from datetime import datetime"
   ]
  },
  {
   "cell_type": "code",
   "execution_count": null,
   "id": "727aea42",
   "metadata": {},
   "outputs": [],
   "source": []
  },
  {
   "cell_type": "code",
   "execution_count": 333,
   "id": "3bac297c",
   "metadata": {},
   "outputs": [],
   "source": [
    "df.set_index(\"OccuredAt\", inplace=True)\n"
   ]
  },
  {
   "cell_type": "code",
   "execution_count": 334,
   "id": "7fa71ee6",
   "metadata": {},
   "outputs": [
    {
     "ename": "KeyError",
     "evalue": "\"None of ['OccuredAt'] are in the columns\"",
     "output_type": "error",
     "traceback": [
      "\u001b[1;31m---------------------------------------------------------------------------\u001b[0m",
      "\u001b[1;31mKeyError\u001b[0m                                  Traceback (most recent call last)",
      "Cell \u001b[1;32mIn[334], line 2\u001b[0m\n\u001b[0;32m      1\u001b[0m \u001b[38;5;66;03m# Prepare a time series dataset with daily frequency\u001b[39;00m\n\u001b[1;32m----> 2\u001b[0m time_series_data \u001b[38;5;241m=\u001b[39m df\u001b[38;5;241m.\u001b[39mset_index(\u001b[38;5;124m\"\u001b[39m\u001b[38;5;124mOccuredAt\u001b[39m\u001b[38;5;124m\"\u001b[39m)\n\u001b[0;32m      3\u001b[0m time_series_data\u001b[38;5;241m.\u001b[39mindex\u001b[38;5;241m.\u001b[39mfreq \u001b[38;5;241m=\u001b[39m \u001b[38;5;124m'\u001b[39m\u001b[38;5;124mD\u001b[39m\u001b[38;5;124m'\u001b[39m\n",
      "File \u001b[1;32m~\\anaconda3\\Lib\\site-packages\\pandas\\util\\_decorators.py:331\u001b[0m, in \u001b[0;36mdeprecate_nonkeyword_arguments.<locals>.decorate.<locals>.wrapper\u001b[1;34m(*args, **kwargs)\u001b[0m\n\u001b[0;32m    325\u001b[0m \u001b[38;5;28;01mif\u001b[39;00m \u001b[38;5;28mlen\u001b[39m(args) \u001b[38;5;241m>\u001b[39m num_allow_args:\n\u001b[0;32m    326\u001b[0m     warnings\u001b[38;5;241m.\u001b[39mwarn(\n\u001b[0;32m    327\u001b[0m         msg\u001b[38;5;241m.\u001b[39mformat(arguments\u001b[38;5;241m=\u001b[39m_format_argument_list(allow_args)),\n\u001b[0;32m    328\u001b[0m         \u001b[38;5;167;01mFutureWarning\u001b[39;00m,\n\u001b[0;32m    329\u001b[0m         stacklevel\u001b[38;5;241m=\u001b[39mfind_stack_level(),\n\u001b[0;32m    330\u001b[0m     )\n\u001b[1;32m--> 331\u001b[0m \u001b[38;5;28;01mreturn\u001b[39;00m func(\u001b[38;5;241m*\u001b[39margs, \u001b[38;5;241m*\u001b[39m\u001b[38;5;241m*\u001b[39mkwargs)\n",
      "File \u001b[1;32m~\\anaconda3\\Lib\\site-packages\\pandas\\core\\frame.py:6012\u001b[0m, in \u001b[0;36mDataFrame.set_index\u001b[1;34m(self, keys, drop, append, inplace, verify_integrity)\u001b[0m\n\u001b[0;32m   6009\u001b[0m                 missing\u001b[38;5;241m.\u001b[39mappend(col)\n\u001b[0;32m   6011\u001b[0m \u001b[38;5;28;01mif\u001b[39;00m missing:\n\u001b[1;32m-> 6012\u001b[0m     \u001b[38;5;28;01mraise\u001b[39;00m \u001b[38;5;167;01mKeyError\u001b[39;00m(\u001b[38;5;124mf\u001b[39m\u001b[38;5;124m\"\u001b[39m\u001b[38;5;124mNone of \u001b[39m\u001b[38;5;132;01m{\u001b[39;00mmissing\u001b[38;5;132;01m}\u001b[39;00m\u001b[38;5;124m are in the columns\u001b[39m\u001b[38;5;124m\"\u001b[39m)\n\u001b[0;32m   6014\u001b[0m \u001b[38;5;28;01mif\u001b[39;00m inplace:\n\u001b[0;32m   6015\u001b[0m     frame \u001b[38;5;241m=\u001b[39m \u001b[38;5;28mself\u001b[39m\n",
      "\u001b[1;31mKeyError\u001b[0m: \"None of ['OccuredAt'] are in the columns\""
     ]
    }
   ],
   "source": [
    "# Prepare a time series dataset with daily frequency\n",
    "time_series_data = df.set_index(\"OccuredAt\")\n",
    "time_series_data.index.freq = 'D'"
   ]
  },
  {
   "cell_type": "code",
   "execution_count": null,
   "id": "3bb6e540",
   "metadata": {},
   "outputs": [],
   "source": [
    "# Train an ARIMA model\n",
    "order = (2, 2, 2);  # (p, d, q) order of the ARIMA model;\n",
    "model = ARIMA(train_data, order=order);\n",
    "model_fit = model4.fit();"
   ]
  },
  {
   "cell_type": "code",
   "execution_count": null,
   "id": "f1eef522",
   "metadata": {},
   "outputs": [],
   "source": [
    "# Make predictions on the test set\n",
    "predictions6 = model_fit.predict(start=len(train_data), end=len(train_data) + len(test_data) - 1)\n",
    "\n",
    "# Evaluate the model"
   ]
  },
  {
   "cell_type": "code",
   "execution_count": null,
   "id": "f1c17963",
   "metadata": {},
   "outputs": [],
   "source": [
    "# Evaluate the model\n",
    "mse = mean_squared_error(test_data, predictions6)\n",
    "print(\"Mean Squared Error:\", mse)"
   ]
  },
  {
   "cell_type": "code",
   "execution_count": null,
   "id": "dd9ef45f",
   "metadata": {},
   "outputs": [],
   "source": [
    "# Visualize predictions\n",
    "plt.plot(test_data.index, test_data.values, label=\"Actual\")\n",
    "plt.plot(test_data.index, predictions6, label=\"Predicted\", color='red')\n",
    "plt.xlabel(\"Date\")\n",
    "plt.ylabel(\"Career Length\")\n",
    "plt.legend()\n",
    "plt.show()"
   ]
  },
  {
   "cell_type": "code",
   "execution_count": null,
   "id": "804b376e",
   "metadata": {},
   "outputs": [],
   "source": [
    "(lazy predict)"
   ]
  }
 ],
 "metadata": {
  "kernelspec": {
   "display_name": "Python 3 (ipykernel)",
   "language": "python",
   "name": "python3"
  },
  "language_info": {
   "codemirror_mode": {
    "name": "ipython",
    "version": 3
   },
   "file_extension": ".py",
   "mimetype": "text/x-python",
   "name": "python",
   "nbconvert_exporter": "python",
   "pygments_lexer": "ipython3",
   "version": "3.11.4"
  }
 },
 "nbformat": 4,
 "nbformat_minor": 5
}
