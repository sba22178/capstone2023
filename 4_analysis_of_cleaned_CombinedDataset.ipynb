{
 "cells": [
  {
   "cell_type": "code",
   "execution_count": 2,
   "id": "8c667eb7",
   "metadata": {},
   "outputs": [],
   "source": [
    "import pandas as pd\n",
    "import warnings \n",
    "warnings.simplefilter(action='ignore', category=FutureWarning)\n",
    "import pandas as pd\n",
    "from statsmodels.tsa.arima.model import ARIMA\n",
    "from sklearn.metrics import mean_squared_error\n",
    "import matplotlib.pyplot as plt"
   ]
  },
  {
   "cell_type": "code",
   "execution_count": 3,
   "id": "6dd59614",
   "metadata": {},
   "outputs": [],
   "source": [
    "df = pd.read_csv('output.csv', low_memory=False)"
   ]
  },
  {
   "cell_type": "code",
   "execution_count": 4,
   "id": "55a65c06",
   "metadata": {},
   "outputs": [
    {
     "data": {
      "text/html": [
       "<div>\n",
       "<style scoped>\n",
       "    .dataframe tbody tr th:only-of-type {\n",
       "        vertical-align: middle;\n",
       "    }\n",
       "\n",
       "    .dataframe tbody tr th {\n",
       "        vertical-align: top;\n",
       "    }\n",
       "\n",
       "    .dataframe thead th {\n",
       "        text-align: right;\n",
       "    }\n",
       "</style>\n",
       "<table border=\"1\" class=\"dataframe\">\n",
       "  <thead>\n",
       "    <tr style=\"text-align: right;\">\n",
       "      <th></th>\n",
       "      <th>Greyhound Name</th>\n",
       "      <th>Earmark</th>\n",
       "      <th>Microchip</th>\n",
       "      <th>Reg Date</th>\n",
       "      <th>Sex</th>\n",
       "      <th>Whelp Date</th>\n",
       "      <th>Retirement Type</th>\n",
       "      <th>OccuredAt</th>\n",
       "      <th>Status</th>\n",
       "    </tr>\n",
       "  </thead>\n",
       "  <tbody>\n",
       "    <tr>\n",
       "      <th>0</th>\n",
       "      <td>COOLEMORE COUNT</td>\n",
       "      <td>YVRYL</td>\n",
       "      <td>9.772000e+14</td>\n",
       "      <td>12/02/2022</td>\n",
       "      <td>B</td>\n",
       "      <td>12/02/2022</td>\n",
       "      <td>EUT</td>\n",
       "      <td>07/12/2023 14:41</td>\n",
       "      <td>EUT</td>\n",
       "    </tr>\n",
       "    <tr>\n",
       "      <th>1</th>\n",
       "      <td>SPOOK MAGOO</td>\n",
       "      <td>UNBET</td>\n",
       "      <td>9.722740e+14</td>\n",
       "      <td>10/10/2018</td>\n",
       "      <td>D</td>\n",
       "      <td>21/04/2019</td>\n",
       "      <td>EUT</td>\n",
       "      <td>07/12/2023 12:24</td>\n",
       "      <td>EUT</td>\n",
       "    </tr>\n",
       "    <tr>\n",
       "      <th>2</th>\n",
       "      <td>PECKIES DAFFY</td>\n",
       "      <td>VYRAJ</td>\n",
       "      <td>9.722740e+14</td>\n",
       "      <td>07/05/2021</td>\n",
       "      <td>B</td>\n",
       "      <td>26/03/2020</td>\n",
       "      <td>EUT</td>\n",
       "      <td>07/12/2023 11:34</td>\n",
       "      <td>EUT</td>\n",
       "    </tr>\n",
       "    <tr>\n",
       "      <th>3</th>\n",
       "      <td>SPOOK MAGOO</td>\n",
       "      <td>UNBET</td>\n",
       "      <td>9.722740e+14</td>\n",
       "      <td>10/10/2018</td>\n",
       "      <td>D</td>\n",
       "      <td>21/04/2019</td>\n",
       "      <td>RET</td>\n",
       "      <td>07/12/2023 11:24</td>\n",
       "      <td>RAC</td>\n",
       "    </tr>\n",
       "    <tr>\n",
       "      <th>4</th>\n",
       "      <td>SHELONE KING</td>\n",
       "      <td>UUKTL</td>\n",
       "      <td>9.722740e+14</td>\n",
       "      <td>15/04/2019</td>\n",
       "      <td>D</td>\n",
       "      <td>15/04/2019</td>\n",
       "      <td>EUT</td>\n",
       "      <td>07/12/2023 10:25</td>\n",
       "      <td>EUT</td>\n",
       "    </tr>\n",
       "    <tr>\n",
       "      <th>...</th>\n",
       "      <td>...</td>\n",
       "      <td>...</td>\n",
       "      <td>...</td>\n",
       "      <td>...</td>\n",
       "      <td>...</td>\n",
       "      <td>...</td>\n",
       "      <td>...</td>\n",
       "      <td>...</td>\n",
       "      <td>...</td>\n",
       "    </tr>\n",
       "    <tr>\n",
       "      <th>233750</th>\n",
       "      <td>KNOCKGLASS KING</td>\n",
       "      <td>VPISU</td>\n",
       "      <td>9.772000e+14</td>\n",
       "      <td>01/04/2021</td>\n",
       "      <td>D</td>\n",
       "      <td>18/03/2020</td>\n",
       "      <td>EUT</td>\n",
       "      <td>NaN</td>\n",
       "      <td>EUT</td>\n",
       "    </tr>\n",
       "    <tr>\n",
       "      <th>233751</th>\n",
       "      <td>HELLO HOLLIE</td>\n",
       "      <td>TDVXR</td>\n",
       "      <td>9.722740e+14</td>\n",
       "      <td>23/04/2021</td>\n",
       "      <td>B</td>\n",
       "      <td>04/08/2018</td>\n",
       "      <td>EUT</td>\n",
       "      <td>NaN</td>\n",
       "      <td>EUT</td>\n",
       "    </tr>\n",
       "    <tr>\n",
       "      <th>233752</th>\n",
       "      <td>SEOMRA DISC</td>\n",
       "      <td>UYIKE</td>\n",
       "      <td>9.722740e+14</td>\n",
       "      <td>04/05/2021</td>\n",
       "      <td>D</td>\n",
       "      <td>12/12/2019</td>\n",
       "      <td>EUT</td>\n",
       "      <td>NaN</td>\n",
       "      <td>EUT</td>\n",
       "    </tr>\n",
       "    <tr>\n",
       "      <th>233753</th>\n",
       "      <td>KILWEST NOAH</td>\n",
       "      <td>VVTMH</td>\n",
       "      <td>9.772000e+14</td>\n",
       "      <td>24/11/2021</td>\n",
       "      <td>D</td>\n",
       "      <td>20/09/2020</td>\n",
       "      <td>EUT</td>\n",
       "      <td>NaN</td>\n",
       "      <td>EUT</td>\n",
       "    </tr>\n",
       "    <tr>\n",
       "      <th>233754</th>\n",
       "      <td>CHEEKY CHAR</td>\n",
       "      <td>ZYH2</td>\n",
       "      <td>NaN</td>\n",
       "      <td>18/01/2022</td>\n",
       "      <td>D</td>\n",
       "      <td>18/08/2020</td>\n",
       "      <td>EUT</td>\n",
       "      <td>NaN</td>\n",
       "      <td>EUT</td>\n",
       "    </tr>\n",
       "  </tbody>\n",
       "</table>\n",
       "<p>233755 rows × 9 columns</p>\n",
       "</div>"
      ],
      "text/plain": [
       "         Greyhound Name Earmark     Microchip    Reg Date Sex  Whelp Date  \\\n",
       "0       COOLEMORE COUNT   YVRYL  9.772000e+14  12/02/2022   B  12/02/2022   \n",
       "1           SPOOK MAGOO   UNBET  9.722740e+14  10/10/2018   D  21/04/2019   \n",
       "2         PECKIES DAFFY   VYRAJ  9.722740e+14  07/05/2021   B  26/03/2020   \n",
       "3           SPOOK MAGOO   UNBET  9.722740e+14  10/10/2018   D  21/04/2019   \n",
       "4          SHELONE KING   UUKTL  9.722740e+14  15/04/2019   D  15/04/2019   \n",
       "...                 ...     ...           ...         ...  ..         ...   \n",
       "233750  KNOCKGLASS KING   VPISU  9.772000e+14  01/04/2021   D  18/03/2020   \n",
       "233751     HELLO HOLLIE   TDVXR  9.722740e+14  23/04/2021   B  04/08/2018   \n",
       "233752      SEOMRA DISC   UYIKE  9.722740e+14  04/05/2021   D  12/12/2019   \n",
       "233753     KILWEST NOAH   VVTMH  9.772000e+14  24/11/2021   D  20/09/2020   \n",
       "233754      CHEEKY CHAR    ZYH2           NaN  18/01/2022   D  18/08/2020   \n",
       "\n",
       "       Retirement Type         OccuredAt Status  \n",
       "0                  EUT  07/12/2023 14:41    EUT  \n",
       "1                  EUT  07/12/2023 12:24    EUT  \n",
       "2                  EUT  07/12/2023 11:34    EUT  \n",
       "3                  RET  07/12/2023 11:24    RAC  \n",
       "4                  EUT  07/12/2023 10:25    EUT  \n",
       "...                ...               ...    ...  \n",
       "233750             EUT               NaN    EUT  \n",
       "233751             EUT               NaN    EUT  \n",
       "233752             EUT               NaN    EUT  \n",
       "233753             EUT               NaN    EUT  \n",
       "233754             EUT               NaN    EUT  \n",
       "\n",
       "[233755 rows x 9 columns]"
      ]
     },
     "execution_count": 4,
     "metadata": {},
     "output_type": "execute_result"
    }
   ],
   "source": [
    "df"
   ]
  },
  {
   "cell_type": "code",
   "execution_count": 5,
   "id": "55882e49",
   "metadata": {},
   "outputs": [],
   "source": [
    "df = df.dropna(subset=[\"OccuredAt\"])"
   ]
  },
  {
   "cell_type": "code",
   "execution_count": 6,
   "id": "252bbae8",
   "metadata": {},
   "outputs": [
    {
     "data": {
      "text/html": [
       "<div>\n",
       "<style scoped>\n",
       "    .dataframe tbody tr th:only-of-type {\n",
       "        vertical-align: middle;\n",
       "    }\n",
       "\n",
       "    .dataframe tbody tr th {\n",
       "        vertical-align: top;\n",
       "    }\n",
       "\n",
       "    .dataframe thead th {\n",
       "        text-align: right;\n",
       "    }\n",
       "</style>\n",
       "<table border=\"1\" class=\"dataframe\">\n",
       "  <thead>\n",
       "    <tr style=\"text-align: right;\">\n",
       "      <th></th>\n",
       "      <th>Greyhound Name</th>\n",
       "      <th>Earmark</th>\n",
       "      <th>Microchip</th>\n",
       "      <th>Reg Date</th>\n",
       "      <th>Sex</th>\n",
       "      <th>Whelp Date</th>\n",
       "      <th>Retirement Type</th>\n",
       "      <th>OccuredAt</th>\n",
       "      <th>Status</th>\n",
       "    </tr>\n",
       "  </thead>\n",
       "  <tbody>\n",
       "    <tr>\n",
       "      <th>0</th>\n",
       "      <td>COOLEMORE COUNT</td>\n",
       "      <td>YVRYL</td>\n",
       "      <td>9.772000e+14</td>\n",
       "      <td>12/02/2022</td>\n",
       "      <td>B</td>\n",
       "      <td>12/02/2022</td>\n",
       "      <td>EUT</td>\n",
       "      <td>07/12/2023 14:41</td>\n",
       "      <td>EUT</td>\n",
       "    </tr>\n",
       "    <tr>\n",
       "      <th>1</th>\n",
       "      <td>SPOOK MAGOO</td>\n",
       "      <td>UNBET</td>\n",
       "      <td>9.722740e+14</td>\n",
       "      <td>10/10/2018</td>\n",
       "      <td>D</td>\n",
       "      <td>21/04/2019</td>\n",
       "      <td>EUT</td>\n",
       "      <td>07/12/2023 12:24</td>\n",
       "      <td>EUT</td>\n",
       "    </tr>\n",
       "    <tr>\n",
       "      <th>2</th>\n",
       "      <td>PECKIES DAFFY</td>\n",
       "      <td>VYRAJ</td>\n",
       "      <td>9.722740e+14</td>\n",
       "      <td>07/05/2021</td>\n",
       "      <td>B</td>\n",
       "      <td>26/03/2020</td>\n",
       "      <td>EUT</td>\n",
       "      <td>07/12/2023 11:34</td>\n",
       "      <td>EUT</td>\n",
       "    </tr>\n",
       "    <tr>\n",
       "      <th>3</th>\n",
       "      <td>SPOOK MAGOO</td>\n",
       "      <td>UNBET</td>\n",
       "      <td>9.722740e+14</td>\n",
       "      <td>10/10/2018</td>\n",
       "      <td>D</td>\n",
       "      <td>21/04/2019</td>\n",
       "      <td>RET</td>\n",
       "      <td>07/12/2023 11:24</td>\n",
       "      <td>RAC</td>\n",
       "    </tr>\n",
       "    <tr>\n",
       "      <th>4</th>\n",
       "      <td>SHELONE KING</td>\n",
       "      <td>UUKTL</td>\n",
       "      <td>9.722740e+14</td>\n",
       "      <td>15/04/2019</td>\n",
       "      <td>D</td>\n",
       "      <td>15/04/2019</td>\n",
       "      <td>EUT</td>\n",
       "      <td>07/12/2023 10:25</td>\n",
       "      <td>EUT</td>\n",
       "    </tr>\n",
       "    <tr>\n",
       "      <th>...</th>\n",
       "      <td>...</td>\n",
       "      <td>...</td>\n",
       "      <td>...</td>\n",
       "      <td>...</td>\n",
       "      <td>...</td>\n",
       "      <td>...</td>\n",
       "      <td>...</td>\n",
       "      <td>...</td>\n",
       "      <td>...</td>\n",
       "    </tr>\n",
       "    <tr>\n",
       "      <th>229956</th>\n",
       "      <td>KIWI SANDY</td>\n",
       "      <td>UTRBS</td>\n",
       "      <td>9.722740e+14</td>\n",
       "      <td>12/09/2019</td>\n",
       "      <td>B</td>\n",
       "      <td>26/10/2019</td>\n",
       "      <td>EUT</td>\n",
       "      <td>10/01/2021 06:01</td>\n",
       "      <td>EUT</td>\n",
       "    </tr>\n",
       "    <tr>\n",
       "      <th>229957</th>\n",
       "      <td>COUGARS HERO</td>\n",
       "      <td>USQIE</td>\n",
       "      <td>9.722740e+14</td>\n",
       "      <td>18/02/2020</td>\n",
       "      <td>D</td>\n",
       "      <td>01/10/2019</td>\n",
       "      <td>EUT</td>\n",
       "      <td>10/01/2021 06:01</td>\n",
       "      <td>EUT</td>\n",
       "    </tr>\n",
       "    <tr>\n",
       "      <th>229958</th>\n",
       "      <td>CLASSIC SYLVIA</td>\n",
       "      <td>UBDZZ</td>\n",
       "      <td>9.722740e+14</td>\n",
       "      <td>15/04/2021</td>\n",
       "      <td>B</td>\n",
       "      <td>03/10/2019</td>\n",
       "      <td>DIE</td>\n",
       "      <td>10/01/2021 06:01</td>\n",
       "      <td>REG</td>\n",
       "    </tr>\n",
       "    <tr>\n",
       "      <th>229959</th>\n",
       "      <td>VIEW HERMOINE</td>\n",
       "      <td>UPVXM</td>\n",
       "      <td>9.722740e+14</td>\n",
       "      <td>04/10/2019</td>\n",
       "      <td>B</td>\n",
       "      <td>12/06/2019</td>\n",
       "      <td>EUT</td>\n",
       "      <td>10/01/2021 06:01</td>\n",
       "      <td>EUT</td>\n",
       "    </tr>\n",
       "    <tr>\n",
       "      <th>229960</th>\n",
       "      <td>DARBYS STORM</td>\n",
       "      <td>THSYE</td>\n",
       "      <td>9.722740e+14</td>\n",
       "      <td>17/10/2018</td>\n",
       "      <td>D</td>\n",
       "      <td>14/07/2018</td>\n",
       "      <td>EUT</td>\n",
       "      <td>10/01/2021 06:01</td>\n",
       "      <td>EUT</td>\n",
       "    </tr>\n",
       "  </tbody>\n",
       "</table>\n",
       "<p>229961 rows × 9 columns</p>\n",
       "</div>"
      ],
      "text/plain": [
       "         Greyhound Name Earmark     Microchip    Reg Date Sex  Whelp Date  \\\n",
       "0       COOLEMORE COUNT   YVRYL  9.772000e+14  12/02/2022   B  12/02/2022   \n",
       "1           SPOOK MAGOO   UNBET  9.722740e+14  10/10/2018   D  21/04/2019   \n",
       "2         PECKIES DAFFY   VYRAJ  9.722740e+14  07/05/2021   B  26/03/2020   \n",
       "3           SPOOK MAGOO   UNBET  9.722740e+14  10/10/2018   D  21/04/2019   \n",
       "4          SHELONE KING   UUKTL  9.722740e+14  15/04/2019   D  15/04/2019   \n",
       "...                 ...     ...           ...         ...  ..         ...   \n",
       "229956       KIWI SANDY   UTRBS  9.722740e+14  12/09/2019   B  26/10/2019   \n",
       "229957     COUGARS HERO   USQIE  9.722740e+14  18/02/2020   D  01/10/2019   \n",
       "229958   CLASSIC SYLVIA   UBDZZ  9.722740e+14  15/04/2021   B  03/10/2019   \n",
       "229959    VIEW HERMOINE   UPVXM  9.722740e+14  04/10/2019   B  12/06/2019   \n",
       "229960     DARBYS STORM   THSYE  9.722740e+14  17/10/2018   D  14/07/2018   \n",
       "\n",
       "       Retirement Type         OccuredAt Status  \n",
       "0                  EUT  07/12/2023 14:41    EUT  \n",
       "1                  EUT  07/12/2023 12:24    EUT  \n",
       "2                  EUT  07/12/2023 11:34    EUT  \n",
       "3                  RET  07/12/2023 11:24    RAC  \n",
       "4                  EUT  07/12/2023 10:25    EUT  \n",
       "...                ...               ...    ...  \n",
       "229956             EUT  10/01/2021 06:01    EUT  \n",
       "229957             EUT  10/01/2021 06:01    EUT  \n",
       "229958             DIE  10/01/2021 06:01    REG  \n",
       "229959             EUT  10/01/2021 06:01    EUT  \n",
       "229960             EUT  10/01/2021 06:01    EUT  \n",
       "\n",
       "[229961 rows x 9 columns]"
      ]
     },
     "execution_count": 6,
     "metadata": {},
     "output_type": "execute_result"
    }
   ],
   "source": [
    "df"
   ]
  },
  {
   "cell_type": "code",
   "execution_count": 7,
   "id": "ccef6f25",
   "metadata": {},
   "outputs": [
    {
     "name": "stderr",
     "output_type": "stream",
     "text": [
      "C:\\Users\\danma\\AppData\\Local\\Temp\\ipykernel_2128\\371761573.py:2: UserWarning: Parsing dates in DD/MM/YYYY format when dayfirst=False (the default) was specified. This may lead to inconsistently parsed dates! Specify a format to ensure consistent parsing.\n",
      "  df[\"Whelp Date\"] = pd.to_datetime(df[\"Whelp Date\"])\n",
      "C:\\Users\\danma\\AppData\\Local\\Temp\\ipykernel_2128\\371761573.py:2: SettingWithCopyWarning: \n",
      "A value is trying to be set on a copy of a slice from a DataFrame.\n",
      "Try using .loc[row_indexer,col_indexer] = value instead\n",
      "\n",
      "See the caveats in the documentation: https://pandas.pydata.org/pandas-docs/stable/user_guide/indexing.html#returning-a-view-versus-a-copy\n",
      "  df[\"Whelp Date\"] = pd.to_datetime(df[\"Whelp Date\"])\n",
      "C:\\Users\\danma\\AppData\\Local\\Temp\\ipykernel_2128\\371761573.py:3: SettingWithCopyWarning: \n",
      "A value is trying to be set on a copy of a slice from a DataFrame.\n",
      "Try using .loc[row_indexer,col_indexer] = value instead\n",
      "\n",
      "See the caveats in the documentation: https://pandas.pydata.org/pandas-docs/stable/user_guide/indexing.html#returning-a-view-versus-a-copy\n",
      "  df[\"OccuredAt\"] = pd.to_datetime(df[\"OccuredAt\"])\n"
     ]
    }
   ],
   "source": [
    "# Convert date columns to datetime format\n",
    "df[\"Whelp Date\"] = pd.to_datetime(df[\"Whelp Date\"])\n",
    "df[\"OccuredAt\"] = pd.to_datetime(df[\"OccuredAt\"])"
   ]
  },
  {
   "cell_type": "code",
   "execution_count": 14,
   "id": "614b6a41",
   "metadata": {},
   "outputs": [
    {
     "data": {
      "text/plain": [
       "229961"
      ]
     },
     "execution_count": 14,
     "metadata": {},
     "output_type": "execute_result"
    }
   ],
   "source": [
    "len(df)"
   ]
  },
  {
   "cell_type": "code",
   "execution_count": 10,
   "id": "f988a1d0",
   "metadata": {},
   "outputs": [
    {
     "name": "stderr",
     "output_type": "stream",
     "text": [
      "C:\\Users\\danma\\AppData\\Local\\Temp\\ipykernel_2128\\318356408.py:2: SettingWithCopyWarning: \n",
      "A value is trying to be set on a copy of a slice from a DataFrame.\n",
      "Try using .loc[row_indexer,col_indexer] = value instead\n",
      "\n",
      "See the caveats in the documentation: https://pandas.pydata.org/pandas-docs/stable/user_guide/indexing.html#returning-a-view-versus-a-copy\n",
      "  df[\"Career Length\"] = (df[\"OccuredAt\"] - df[\"Whelp Date\"]).dt.days\n"
     ]
    }
   ],
   "source": [
    "# Calculate Career Length\n",
    "df[\"Career Length\"] = (df[\"OccuredAt\"] - df[\"Whelp Date\"]).dt.days"
   ]
  },
  {
   "cell_type": "code",
   "execution_count": 11,
   "id": "d5f43126",
   "metadata": {},
   "outputs": [],
   "source": [
    "# Calculate Career Length and aggregate for duplicate dates\n",
    "career_lengths = df.groupby(\"OccuredAt\")[\"Career Length\"].mean()"
   ]
  },
  {
   "cell_type": "code",
   "execution_count": 16,
   "id": "453b5d20",
   "metadata": {},
   "outputs": [
    {
     "data": {
      "text/plain": [
       "2.029058437060046"
      ]
     },
     "execution_count": 16,
     "metadata": {},
     "output_type": "execute_result"
    }
   ],
   "source": [
    "(df['Career Length'].mean())/365"
   ]
  },
  {
   "cell_type": "code",
   "execution_count": 79,
   "id": "9ad0c689",
   "metadata": {},
   "outputs": [],
   "source": [
    "# Handle missing values by filling with appropriate values (e.g., mean)\n",
    "career_lengths_filled = career_lengths.fillna(career_lengths.mean())\n",
    "\n",
    "# Create a regular time index and fill in the data"
   ]
  },
  {
   "cell_type": "code",
   "execution_count": 1,
   "id": "6a4d5430",
   "metadata": {},
   "outputs": [
    {
     "ename": "NameError",
     "evalue": "name 'career_lengths_filled' is not defined",
     "output_type": "error",
     "traceback": [
      "\u001b[1;31m---------------------------------------------------------------------------\u001b[0m",
      "\u001b[1;31mNameError\u001b[0m                                 Traceback (most recent call last)",
      "Cell \u001b[1;32mIn[1], line 1\u001b[0m\n\u001b[1;32m----> 1\u001b[0m career_lengths_filled\n",
      "\u001b[1;31mNameError\u001b[0m: name 'career_lengths_filled' is not defined"
     ]
    }
   ],
   "source": [
    "career_lengths_filled"
   ]
  },
  {
   "cell_type": "code",
   "execution_count": 80,
   "id": "edafd42c",
   "metadata": {},
   "outputs": [],
   "source": [
    "# Create a regular time index and fill in the data\n",
    "date_range = pd.date_range(start=career_lengths.index.min(), end=career_lengths.index.max(), freq=\"D\")\n",
    "time_series_data = pd.Series(index=date_range)\n",
    "time_series_data.update(career_lengths_filled)"
   ]
  },
  {
   "cell_type": "code",
   "execution_count": 81,
   "id": "dfac1832",
   "metadata": {},
   "outputs": [],
   "source": [
    "# Split the time series into training and testing sets\n",
    "train_size = int(0.7 * len(time_series_data))\n",
    "train_data, test_data = time_series_data[:train_size], time_series_data[train_size:]"
   ]
  },
  {
   "cell_type": "code",
   "execution_count": 82,
   "id": "60742595",
   "metadata": {},
   "outputs": [
    {
     "data": {
      "text/plain": [
       "2021-07-27 12:28:00    2135.0\n",
       "2021-07-28 12:28:00       NaN\n",
       "2021-07-29 12:28:00       NaN\n",
       "2021-07-30 12:28:00       NaN\n",
       "2021-07-31 12:28:00       NaN\n",
       "                        ...  \n",
       "2022-12-10 12:28:00       NaN\n",
       "2022-12-11 12:28:00       NaN\n",
       "2022-12-12 12:28:00       NaN\n",
       "2022-12-13 12:28:00       NaN\n",
       "2022-12-14 12:28:00       NaN\n",
       "Freq: D, Length: 506, dtype: float64"
      ]
     },
     "execution_count": 82,
     "metadata": {},
     "output_type": "execute_result"
    }
   ],
   "source": [
    "train_data"
   ]
  },
  {
   "cell_type": "code",
   "execution_count": 64,
   "id": "160bbbf0",
   "metadata": {},
   "outputs": [
    {
     "name": "stderr",
     "output_type": "stream",
     "text": [
      "C:\\Users\\danma\\anaconda3\\Lib\\site-packages\\statsmodels\\tsa\\statespace\\sarimax.py:866: UserWarning: Too few observations to estimate starting parameters for ARMA and trend. All parameters except for variances will be set to zeros.\n",
      "  warn('Too few observations to estimate starting parameters%s.'\n"
     ]
    }
   ],
   "source": [
    "# Train an ARIMA model\n",
    "order = (1, 1, 1)  # (p, d, q) order of the ARIMA model\n",
    "model = ARIMA(train_data, order=order)\n",
    "model_fit = model.fit()"
   ]
  },
  {
   "cell_type": "code",
   "execution_count": 65,
   "id": "0ab4bd12",
   "metadata": {},
   "outputs": [],
   "source": [
    "# Make predictions on the test set\n",
    "predictions = model_fit.predict(start=len(train_data), end=len(train_data) + len(test_data) - 1, typ='levels')\n",
    "\n",
    "# Evaluate the model"
   ]
  },
  {
   "cell_type": "code",
   "execution_count": 68,
   "id": "2de1d6e0",
   "metadata": {},
   "outputs": [
    {
     "data": {
      "text/plain": [
       "2022-12-15 12:28:00      NaN\n",
       "2022-12-16 12:28:00    953.0\n",
       "2022-12-17 12:28:00      NaN\n",
       "2022-12-18 12:28:00      NaN\n",
       "2022-12-19 12:28:00      NaN\n",
       "                       ...  \n",
       "2023-07-16 12:28:00      NaN\n",
       "2023-07-17 12:28:00      NaN\n",
       "2023-07-18 12:28:00      NaN\n",
       "2023-07-19 12:28:00      NaN\n",
       "2023-07-20 12:28:00      NaN\n",
       "Freq: D, Length: 218, dtype: float64"
      ]
     },
     "execution_count": 68,
     "metadata": {},
     "output_type": "execute_result"
    }
   ],
   "source": [
    "test_data"
   ]
  },
  {
   "cell_type": "code",
   "execution_count": 67,
   "id": "4cd417ed",
   "metadata": {},
   "outputs": [
    {
     "ename": "ValueError",
     "evalue": "Input contains NaN.",
     "output_type": "error",
     "traceback": [
      "\u001b[1;31m---------------------------------------------------------------------------\u001b[0m",
      "\u001b[1;31mValueError\u001b[0m                                Traceback (most recent call last)",
      "Cell \u001b[1;32mIn[67], line 2\u001b[0m\n\u001b[0;32m      1\u001b[0m \u001b[38;5;66;03m# Evaluate the model\u001b[39;00m\n\u001b[1;32m----> 2\u001b[0m mse \u001b[38;5;241m=\u001b[39m mean_squared_error(test_data, predictions)\n\u001b[0;32m      3\u001b[0m \u001b[38;5;28mprint\u001b[39m(\u001b[38;5;124m\"\u001b[39m\u001b[38;5;124mMean Squared Error:\u001b[39m\u001b[38;5;124m\"\u001b[39m, mse)\n",
      "File \u001b[1;32m~\\anaconda3\\Lib\\site-packages\\sklearn\\utils\\_param_validation.py:211\u001b[0m, in \u001b[0;36mvalidate_params.<locals>.decorator.<locals>.wrapper\u001b[1;34m(*args, **kwargs)\u001b[0m\n\u001b[0;32m    205\u001b[0m \u001b[38;5;28;01mtry\u001b[39;00m:\n\u001b[0;32m    206\u001b[0m     \u001b[38;5;28;01mwith\u001b[39;00m config_context(\n\u001b[0;32m    207\u001b[0m         skip_parameter_validation\u001b[38;5;241m=\u001b[39m(\n\u001b[0;32m    208\u001b[0m             prefer_skip_nested_validation \u001b[38;5;129;01mor\u001b[39;00m global_skip_validation\n\u001b[0;32m    209\u001b[0m         )\n\u001b[0;32m    210\u001b[0m     ):\n\u001b[1;32m--> 211\u001b[0m         \u001b[38;5;28;01mreturn\u001b[39;00m func(\u001b[38;5;241m*\u001b[39margs, \u001b[38;5;241m*\u001b[39m\u001b[38;5;241m*\u001b[39mkwargs)\n\u001b[0;32m    212\u001b[0m \u001b[38;5;28;01mexcept\u001b[39;00m InvalidParameterError \u001b[38;5;28;01mas\u001b[39;00m e:\n\u001b[0;32m    213\u001b[0m     \u001b[38;5;66;03m# When the function is just a wrapper around an estimator, we allow\u001b[39;00m\n\u001b[0;32m    214\u001b[0m     \u001b[38;5;66;03m# the function to delegate validation to the estimator, but we replace\u001b[39;00m\n\u001b[0;32m    215\u001b[0m     \u001b[38;5;66;03m# the name of the estimator by the name of the function in the error\u001b[39;00m\n\u001b[0;32m    216\u001b[0m     \u001b[38;5;66;03m# message to avoid confusion.\u001b[39;00m\n\u001b[0;32m    217\u001b[0m     msg \u001b[38;5;241m=\u001b[39m re\u001b[38;5;241m.\u001b[39msub(\n\u001b[0;32m    218\u001b[0m         \u001b[38;5;124mr\u001b[39m\u001b[38;5;124m\"\u001b[39m\u001b[38;5;124mparameter of \u001b[39m\u001b[38;5;124m\\\u001b[39m\u001b[38;5;124mw+ must be\u001b[39m\u001b[38;5;124m\"\u001b[39m,\n\u001b[0;32m    219\u001b[0m         \u001b[38;5;124mf\u001b[39m\u001b[38;5;124m\"\u001b[39m\u001b[38;5;124mparameter of \u001b[39m\u001b[38;5;132;01m{\u001b[39;00mfunc\u001b[38;5;241m.\u001b[39m\u001b[38;5;18m__qualname__\u001b[39m\u001b[38;5;132;01m}\u001b[39;00m\u001b[38;5;124m must be\u001b[39m\u001b[38;5;124m\"\u001b[39m,\n\u001b[0;32m    220\u001b[0m         \u001b[38;5;28mstr\u001b[39m(e),\n\u001b[0;32m    221\u001b[0m     )\n",
      "File \u001b[1;32m~\\anaconda3\\Lib\\site-packages\\sklearn\\metrics\\_regression.py:474\u001b[0m, in \u001b[0;36mmean_squared_error\u001b[1;34m(y_true, y_pred, sample_weight, multioutput, squared)\u001b[0m\n\u001b[0;32m    404\u001b[0m \u001b[38;5;129m@validate_params\u001b[39m(\n\u001b[0;32m    405\u001b[0m     {\n\u001b[0;32m    406\u001b[0m         \u001b[38;5;124m\"\u001b[39m\u001b[38;5;124my_true\u001b[39m\u001b[38;5;124m\"\u001b[39m: [\u001b[38;5;124m\"\u001b[39m\u001b[38;5;124marray-like\u001b[39m\u001b[38;5;124m\"\u001b[39m],\n\u001b[1;32m   (...)\u001b[0m\n\u001b[0;32m    415\u001b[0m     y_true, y_pred, \u001b[38;5;241m*\u001b[39m, sample_weight\u001b[38;5;241m=\u001b[39m\u001b[38;5;28;01mNone\u001b[39;00m, multioutput\u001b[38;5;241m=\u001b[39m\u001b[38;5;124m\"\u001b[39m\u001b[38;5;124muniform_average\u001b[39m\u001b[38;5;124m\"\u001b[39m, squared\u001b[38;5;241m=\u001b[39m\u001b[38;5;28;01mTrue\u001b[39;00m\n\u001b[0;32m    416\u001b[0m ):\n\u001b[0;32m    417\u001b[0m \u001b[38;5;250m    \u001b[39m\u001b[38;5;124;03m\"\"\"Mean squared error regression loss.\u001b[39;00m\n\u001b[0;32m    418\u001b[0m \n\u001b[0;32m    419\u001b[0m \u001b[38;5;124;03m    Read more in the :ref:`User Guide <mean_squared_error>`.\u001b[39;00m\n\u001b[1;32m   (...)\u001b[0m\n\u001b[0;32m    472\u001b[0m \u001b[38;5;124;03m    0.825...\u001b[39;00m\n\u001b[0;32m    473\u001b[0m \u001b[38;5;124;03m    \"\"\"\u001b[39;00m\n\u001b[1;32m--> 474\u001b[0m     y_type, y_true, y_pred, multioutput \u001b[38;5;241m=\u001b[39m _check_reg_targets(\n\u001b[0;32m    475\u001b[0m         y_true, y_pred, multioutput\n\u001b[0;32m    476\u001b[0m     )\n\u001b[0;32m    477\u001b[0m     check_consistent_length(y_true, y_pred, sample_weight)\n\u001b[0;32m    478\u001b[0m     output_errors \u001b[38;5;241m=\u001b[39m np\u001b[38;5;241m.\u001b[39maverage((y_true \u001b[38;5;241m-\u001b[39m y_pred) \u001b[38;5;241m*\u001b[39m\u001b[38;5;241m*\u001b[39m \u001b[38;5;241m2\u001b[39m, axis\u001b[38;5;241m=\u001b[39m\u001b[38;5;241m0\u001b[39m, weights\u001b[38;5;241m=\u001b[39msample_weight)\n",
      "File \u001b[1;32m~\\anaconda3\\Lib\\site-packages\\sklearn\\metrics\\_regression.py:100\u001b[0m, in \u001b[0;36m_check_reg_targets\u001b[1;34m(y_true, y_pred, multioutput, dtype)\u001b[0m\n\u001b[0;32m     66\u001b[0m \u001b[38;5;250m\u001b[39m\u001b[38;5;124;03m\"\"\"Check that y_true and y_pred belong to the same regression task.\u001b[39;00m\n\u001b[0;32m     67\u001b[0m \n\u001b[0;32m     68\u001b[0m \u001b[38;5;124;03mParameters\u001b[39;00m\n\u001b[1;32m   (...)\u001b[0m\n\u001b[0;32m     97\u001b[0m \u001b[38;5;124;03m    correct keyword.\u001b[39;00m\n\u001b[0;32m     98\u001b[0m \u001b[38;5;124;03m\"\"\"\u001b[39;00m\n\u001b[0;32m     99\u001b[0m check_consistent_length(y_true, y_pred)\n\u001b[1;32m--> 100\u001b[0m y_true \u001b[38;5;241m=\u001b[39m check_array(y_true, ensure_2d\u001b[38;5;241m=\u001b[39m\u001b[38;5;28;01mFalse\u001b[39;00m, dtype\u001b[38;5;241m=\u001b[39mdtype)\n\u001b[0;32m    101\u001b[0m y_pred \u001b[38;5;241m=\u001b[39m check_array(y_pred, ensure_2d\u001b[38;5;241m=\u001b[39m\u001b[38;5;28;01mFalse\u001b[39;00m, dtype\u001b[38;5;241m=\u001b[39mdtype)\n\u001b[0;32m    103\u001b[0m \u001b[38;5;28;01mif\u001b[39;00m y_true\u001b[38;5;241m.\u001b[39mndim \u001b[38;5;241m==\u001b[39m \u001b[38;5;241m1\u001b[39m:\n",
      "File \u001b[1;32m~\\anaconda3\\Lib\\site-packages\\sklearn\\utils\\validation.py:959\u001b[0m, in \u001b[0;36mcheck_array\u001b[1;34m(array, accept_sparse, accept_large_sparse, dtype, order, copy, force_all_finite, ensure_2d, allow_nd, ensure_min_samples, ensure_min_features, estimator, input_name)\u001b[0m\n\u001b[0;32m    953\u001b[0m         \u001b[38;5;28;01mraise\u001b[39;00m \u001b[38;5;167;01mValueError\u001b[39;00m(\n\u001b[0;32m    954\u001b[0m             \u001b[38;5;124m\"\u001b[39m\u001b[38;5;124mFound array with dim \u001b[39m\u001b[38;5;132;01m%d\u001b[39;00m\u001b[38;5;124m. \u001b[39m\u001b[38;5;132;01m%s\u001b[39;00m\u001b[38;5;124m expected <= 2.\u001b[39m\u001b[38;5;124m\"\u001b[39m\n\u001b[0;32m    955\u001b[0m             \u001b[38;5;241m%\u001b[39m (array\u001b[38;5;241m.\u001b[39mndim, estimator_name)\n\u001b[0;32m    956\u001b[0m         )\n\u001b[0;32m    958\u001b[0m     \u001b[38;5;28;01mif\u001b[39;00m force_all_finite:\n\u001b[1;32m--> 959\u001b[0m         _assert_all_finite(\n\u001b[0;32m    960\u001b[0m             array,\n\u001b[0;32m    961\u001b[0m             input_name\u001b[38;5;241m=\u001b[39minput_name,\n\u001b[0;32m    962\u001b[0m             estimator_name\u001b[38;5;241m=\u001b[39mestimator_name,\n\u001b[0;32m    963\u001b[0m             allow_nan\u001b[38;5;241m=\u001b[39mforce_all_finite \u001b[38;5;241m==\u001b[39m \u001b[38;5;124m\"\u001b[39m\u001b[38;5;124mallow-nan\u001b[39m\u001b[38;5;124m\"\u001b[39m,\n\u001b[0;32m    964\u001b[0m         )\n\u001b[0;32m    966\u001b[0m \u001b[38;5;28;01mif\u001b[39;00m ensure_min_samples \u001b[38;5;241m>\u001b[39m \u001b[38;5;241m0\u001b[39m:\n\u001b[0;32m    967\u001b[0m     n_samples \u001b[38;5;241m=\u001b[39m _num_samples(array)\n",
      "File \u001b[1;32m~\\anaconda3\\Lib\\site-packages\\sklearn\\utils\\validation.py:124\u001b[0m, in \u001b[0;36m_assert_all_finite\u001b[1;34m(X, allow_nan, msg_dtype, estimator_name, input_name)\u001b[0m\n\u001b[0;32m    121\u001b[0m \u001b[38;5;28;01mif\u001b[39;00m first_pass_isfinite:\n\u001b[0;32m    122\u001b[0m     \u001b[38;5;28;01mreturn\u001b[39;00m\n\u001b[1;32m--> 124\u001b[0m _assert_all_finite_element_wise(\n\u001b[0;32m    125\u001b[0m     X,\n\u001b[0;32m    126\u001b[0m     xp\u001b[38;5;241m=\u001b[39mxp,\n\u001b[0;32m    127\u001b[0m     allow_nan\u001b[38;5;241m=\u001b[39mallow_nan,\n\u001b[0;32m    128\u001b[0m     msg_dtype\u001b[38;5;241m=\u001b[39mmsg_dtype,\n\u001b[0;32m    129\u001b[0m     estimator_name\u001b[38;5;241m=\u001b[39mestimator_name,\n\u001b[0;32m    130\u001b[0m     input_name\u001b[38;5;241m=\u001b[39minput_name,\n\u001b[0;32m    131\u001b[0m )\n",
      "File \u001b[1;32m~\\anaconda3\\Lib\\site-packages\\sklearn\\utils\\validation.py:173\u001b[0m, in \u001b[0;36m_assert_all_finite_element_wise\u001b[1;34m(X, xp, allow_nan, msg_dtype, estimator_name, input_name)\u001b[0m\n\u001b[0;32m    156\u001b[0m \u001b[38;5;28;01mif\u001b[39;00m estimator_name \u001b[38;5;129;01mand\u001b[39;00m input_name \u001b[38;5;241m==\u001b[39m \u001b[38;5;124m\"\u001b[39m\u001b[38;5;124mX\u001b[39m\u001b[38;5;124m\"\u001b[39m \u001b[38;5;129;01mand\u001b[39;00m has_nan_error:\n\u001b[0;32m    157\u001b[0m     \u001b[38;5;66;03m# Improve the error message on how to handle missing values in\u001b[39;00m\n\u001b[0;32m    158\u001b[0m     \u001b[38;5;66;03m# scikit-learn.\u001b[39;00m\n\u001b[0;32m    159\u001b[0m     msg_err \u001b[38;5;241m+\u001b[39m\u001b[38;5;241m=\u001b[39m (\n\u001b[0;32m    160\u001b[0m         \u001b[38;5;124mf\u001b[39m\u001b[38;5;124m\"\u001b[39m\u001b[38;5;130;01m\\n\u001b[39;00m\u001b[38;5;132;01m{\u001b[39;00mestimator_name\u001b[38;5;132;01m}\u001b[39;00m\u001b[38;5;124m does not accept missing values\u001b[39m\u001b[38;5;124m\"\u001b[39m\n\u001b[0;32m    161\u001b[0m         \u001b[38;5;124m\"\u001b[39m\u001b[38;5;124m encoded as NaN natively. For supervised learning, you might want\u001b[39m\u001b[38;5;124m\"\u001b[39m\n\u001b[1;32m   (...)\u001b[0m\n\u001b[0;32m    171\u001b[0m         \u001b[38;5;124m\"\u001b[39m\u001b[38;5;124m#estimators-that-handle-nan-values\u001b[39m\u001b[38;5;124m\"\u001b[39m\n\u001b[0;32m    172\u001b[0m     )\n\u001b[1;32m--> 173\u001b[0m \u001b[38;5;28;01mraise\u001b[39;00m \u001b[38;5;167;01mValueError\u001b[39;00m(msg_err)\n",
      "\u001b[1;31mValueError\u001b[0m: Input contains NaN."
     ]
    }
   ],
   "source": [
    "# Evaluate the model\n",
    "mse = mean_squared_error(test_data, predictions)\n",
    "print(\"Mean Squared Error:\", mse)"
   ]
  },
  {
   "cell_type": "code",
   "execution_count": null,
   "id": "f921b293",
   "metadata": {},
   "outputs": [],
   "source": []
  }
 ],
 "metadata": {
  "kernelspec": {
   "display_name": "Python 3 (ipykernel)",
   "language": "python",
   "name": "python3"
  },
  "language_info": {
   "codemirror_mode": {
    "name": "ipython",
    "version": 3
   },
   "file_extension": ".py",
   "mimetype": "text/x-python",
   "name": "python",
   "nbconvert_exporter": "python",
   "pygments_lexer": "ipython3",
   "version": "3.11.4"
  }
 },
 "nbformat": 4,
 "nbformat_minor": 5
}
