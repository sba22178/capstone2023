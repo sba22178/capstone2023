{
 "cells": [
  {
   "cell_type": "code",
   "execution_count": 453,
   "id": "110d161f",
   "metadata": {},
   "outputs": [],
   "source": [
    "import pandas as pd \n",
    "import numpy as np\n",
    "import matplotlib.pyplot as plt\n",
    "import seaborn as sns\n",
    "%matplotlib inline\n",
    "from sklearn.model_selection import train_test_split"
   ]
  },
  {
   "cell_type": "markdown",
   "id": "5123d18d",
   "metadata": {},
   "source": [
    "## split into training and testing data "
   ]
  },
  {
   "cell_type": "code",
   "execution_count": 454,
   "id": "25063dd9",
   "metadata": {},
   "outputs": [],
   "source": [
    "df   = pd.read_csv('merged_DateFrames_full.csv', low_memory=False)"
   ]
  },
  {
   "cell_type": "code",
   "execution_count": 455,
   "id": "0e7ba2a3",
   "metadata": {},
   "outputs": [],
   "source": [
    "df = df.drop(['Greyhound Name'] ,axis=1)"
   ]
  },
  {
   "cell_type": "code",
   "execution_count": 456,
   "id": "4f3cf6e7",
   "metadata": {},
   "outputs": [],
   "source": [
    "df = df.drop(['Active'] ,axis=1)"
   ]
  },
  {
   "cell_type": "code",
   "execution_count": 457,
   "id": "5c8bba74",
   "metadata": {},
   "outputs": [],
   "source": [
    "df = df.drop(['Colour'] ,axis=1)"
   ]
  },
  {
   "cell_type": "code",
   "execution_count": 458,
   "id": "38ac8ed2",
   "metadata": {},
   "outputs": [],
   "source": [
    "df = df.drop(['Sex'] ,axis=1)"
   ]
  },
  {
   "cell_type": "code",
   "execution_count": 459,
   "id": "1e0e00df",
   "metadata": {},
   "outputs": [
    {
     "data": {
      "text/html": [
       "<div>\n",
       "<style scoped>\n",
       "    .dataframe tbody tr th:only-of-type {\n",
       "        vertical-align: middle;\n",
       "    }\n",
       "\n",
       "    .dataframe tbody tr th {\n",
       "        vertical-align: top;\n",
       "    }\n",
       "\n",
       "    .dataframe thead th {\n",
       "        text-align: right;\n",
       "    }\n",
       "</style>\n",
       "<table border=\"1\" class=\"dataframe\">\n",
       "  <thead>\n",
       "    <tr style=\"text-align: right;\">\n",
       "      <th></th>\n",
       "      <th>Earmark</th>\n",
       "      <th>Whelp Date</th>\n",
       "      <th>Status</th>\n",
       "      <th>NoticeSentBy</th>\n",
       "    </tr>\n",
       "  </thead>\n",
       "  <tbody>\n",
       "    <tr>\n",
       "      <th>0</th>\n",
       "      <td>VLILX</td>\n",
       "      <td>11/06/2020</td>\n",
       "      <td>NEW</td>\n",
       "      <td>10/02/2022</td>\n",
       "    </tr>\n",
       "    <tr>\n",
       "      <th>1</th>\n",
       "      <td>VLILX</td>\n",
       "      <td>11/06/2020</td>\n",
       "      <td>NEW</td>\n",
       "      <td>11/02/2022</td>\n",
       "    </tr>\n",
       "    <tr>\n",
       "      <th>2</th>\n",
       "      <td>VLILX</td>\n",
       "      <td>11/06/2020</td>\n",
       "      <td>NEW</td>\n",
       "      <td>11/02/2022</td>\n",
       "    </tr>\n",
       "    <tr>\n",
       "      <th>3</th>\n",
       "      <td>VLILX</td>\n",
       "      <td>11/06/2020</td>\n",
       "      <td>NEW</td>\n",
       "      <td>12/02/2022</td>\n",
       "    </tr>\n",
       "    <tr>\n",
       "      <th>4</th>\n",
       "      <td>VLILX</td>\n",
       "      <td>11/06/2020</td>\n",
       "      <td>NEW</td>\n",
       "      <td>13/02/2022</td>\n",
       "    </tr>\n",
       "    <tr>\n",
       "      <th>...</th>\n",
       "      <td>...</td>\n",
       "      <td>...</td>\n",
       "      <td>...</td>\n",
       "      <td>...</td>\n",
       "    </tr>\n",
       "    <tr>\n",
       "      <th>967545</th>\n",
       "      <td>ZYHJP</td>\n",
       "      <td>02/05/2023</td>\n",
       "      <td>RAC</td>\n",
       "      <td>01/01/2023</td>\n",
       "    </tr>\n",
       "    <tr>\n",
       "      <th>967546</th>\n",
       "      <td>ZYTEB</td>\n",
       "      <td>02/05/2023</td>\n",
       "      <td>RAC</td>\n",
       "      <td>01/01/2023</td>\n",
       "    </tr>\n",
       "    <tr>\n",
       "      <th>967547</th>\n",
       "      <td>ZYKRR</td>\n",
       "      <td>03/05/2023</td>\n",
       "      <td>RAC</td>\n",
       "      <td>01/01/2023</td>\n",
       "    </tr>\n",
       "    <tr>\n",
       "      <th>967548</th>\n",
       "      <td>ZYHKP</td>\n",
       "      <td>03/05/2023</td>\n",
       "      <td>RAC</td>\n",
       "      <td>01/01/2023</td>\n",
       "    </tr>\n",
       "    <tr>\n",
       "      <th>967549</th>\n",
       "      <td>ZPVYP</td>\n",
       "      <td>12/04/2023</td>\n",
       "      <td>RAC</td>\n",
       "      <td>01/01/2023</td>\n",
       "    </tr>\n",
       "  </tbody>\n",
       "</table>\n",
       "<p>967550 rows × 4 columns</p>\n",
       "</div>"
      ],
      "text/plain": [
       "       Earmark  Whelp Date Status NoticeSentBy\n",
       "0        VLILX  11/06/2020    NEW   10/02/2022\n",
       "1        VLILX  11/06/2020    NEW   11/02/2022\n",
       "2        VLILX  11/06/2020    NEW   11/02/2022\n",
       "3        VLILX  11/06/2020    NEW   12/02/2022\n",
       "4        VLILX  11/06/2020    NEW   13/02/2022\n",
       "...        ...         ...    ...          ...\n",
       "967545   ZYHJP  02/05/2023    RAC   01/01/2023\n",
       "967546   ZYTEB  02/05/2023    RAC   01/01/2023\n",
       "967547   ZYKRR  03/05/2023    RAC   01/01/2023\n",
       "967548   ZYHKP  03/05/2023    RAC   01/01/2023\n",
       "967549   ZPVYP  12/04/2023    RAC   01/01/2023\n",
       "\n",
       "[967550 rows x 4 columns]"
      ]
     },
     "execution_count": 459,
     "metadata": {},
     "output_type": "execute_result"
    }
   ],
   "source": [
    "df"
   ]
  },
  {
   "cell_type": "code",
   "execution_count": 460,
   "id": "1143b432",
   "metadata": {},
   "outputs": [],
   "source": [
    "df['NoticeSentBy'] = pd.to_datetime(df['NoticeSentBy'], format='%d/%m/%Y')"
   ]
  },
  {
   "cell_type": "code",
   "execution_count": 461,
   "id": "ca65d8e1",
   "metadata": {},
   "outputs": [],
   "source": [
    "# Define the proportion of data for training (e.g., 80%)\n",
    "train_proportion = 0.8"
   ]
  },
  {
   "cell_type": "code",
   "execution_count": 462,
   "id": "5ec063bf",
   "metadata": {},
   "outputs": [],
   "source": [
    "# Calculate the number of rows for training and testing\n",
    "num_rows = len(df)\n",
    "num_train = int(num_rows * train_proportion)\n",
    "num_test = num_rows - num_train"
   ]
  },
  {
   "cell_type": "code",
   "execution_count": 463,
   "id": "fcd685c7",
   "metadata": {},
   "outputs": [],
   "source": [
    "# Randomly sample rows for training\n",
    "train_indices = df.sample(n=num_train, random_state=42).index\n",
    "train_df = df.loc[train_indices]"
   ]
  },
  {
   "cell_type": "code",
   "execution_count": 464,
   "id": "4dc5f85f",
   "metadata": {},
   "outputs": [
    {
     "data": {
      "text/html": [
       "<div>\n",
       "<style scoped>\n",
       "    .dataframe tbody tr th:only-of-type {\n",
       "        vertical-align: middle;\n",
       "    }\n",
       "\n",
       "    .dataframe tbody tr th {\n",
       "        vertical-align: top;\n",
       "    }\n",
       "\n",
       "    .dataframe thead th {\n",
       "        text-align: right;\n",
       "    }\n",
       "</style>\n",
       "<table border=\"1\" class=\"dataframe\">\n",
       "  <thead>\n",
       "    <tr style=\"text-align: right;\">\n",
       "      <th></th>\n",
       "      <th>Earmark</th>\n",
       "      <th>Whelp Date</th>\n",
       "      <th>Status</th>\n",
       "      <th>NoticeSentBy</th>\n",
       "    </tr>\n",
       "  </thead>\n",
       "  <tbody>\n",
       "    <tr>\n",
       "      <th>356026</th>\n",
       "      <td>VXKVT</td>\n",
       "      <td>22/02/2020</td>\n",
       "      <td>RAC</td>\n",
       "      <td>2022-02-23</td>\n",
       "    </tr>\n",
       "    <tr>\n",
       "      <th>844829</th>\n",
       "      <td>TLLLZ</td>\n",
       "      <td>20/03/2018</td>\n",
       "      <td>RAC</td>\n",
       "      <td>2022-05-08</td>\n",
       "    </tr>\n",
       "    <tr>\n",
       "      <th>423</th>\n",
       "      <td>VDHIJ</td>\n",
       "      <td>09/10/2020</td>\n",
       "      <td>NEW</td>\n",
       "      <td>2022-04-20</td>\n",
       "    </tr>\n",
       "    <tr>\n",
       "      <th>81016</th>\n",
       "      <td>UBQUN</td>\n",
       "      <td>03/10/2019</td>\n",
       "      <td>NEW</td>\n",
       "      <td>2022-02-27</td>\n",
       "    </tr>\n",
       "    <tr>\n",
       "      <th>670253</th>\n",
       "      <td>URUBZ</td>\n",
       "      <td>16/09/2020</td>\n",
       "      <td>NEW</td>\n",
       "      <td>2022-06-21</td>\n",
       "    </tr>\n",
       "    <tr>\n",
       "      <th>...</th>\n",
       "      <td>...</td>\n",
       "      <td>...</td>\n",
       "      <td>...</td>\n",
       "      <td>...</td>\n",
       "    </tr>\n",
       "    <tr>\n",
       "      <th>387961</th>\n",
       "      <td>UXEXE</td>\n",
       "      <td>07/09/2019</td>\n",
       "      <td>NEW</td>\n",
       "      <td>2022-02-07</td>\n",
       "    </tr>\n",
       "    <tr>\n",
       "      <th>222170</th>\n",
       "      <td>XYQYA</td>\n",
       "      <td>15/03/2021</td>\n",
       "      <td>NEW</td>\n",
       "      <td>2022-06-14</td>\n",
       "    </tr>\n",
       "    <tr>\n",
       "      <th>384799</th>\n",
       "      <td>XBRES</td>\n",
       "      <td>24/07/2021</td>\n",
       "      <td>RAC</td>\n",
       "      <td>2022-02-14</td>\n",
       "    </tr>\n",
       "    <tr>\n",
       "      <th>566350</th>\n",
       "      <td>XDITJ</td>\n",
       "      <td>13/12/2020</td>\n",
       "      <td>RAC</td>\n",
       "      <td>2022-03-10</td>\n",
       "    </tr>\n",
       "    <tr>\n",
       "      <th>417446</th>\n",
       "      <td>VPAHH</td>\n",
       "      <td>05/10/2020</td>\n",
       "      <td>NEW</td>\n",
       "      <td>2022-04-20</td>\n",
       "    </tr>\n",
       "  </tbody>\n",
       "</table>\n",
       "<p>774040 rows × 4 columns</p>\n",
       "</div>"
      ],
      "text/plain": [
       "       Earmark  Whelp Date Status NoticeSentBy\n",
       "356026   VXKVT  22/02/2020    RAC   2022-02-23\n",
       "844829   TLLLZ  20/03/2018    RAC   2022-05-08\n",
       "423      VDHIJ  09/10/2020    NEW   2022-04-20\n",
       "81016    UBQUN  03/10/2019    NEW   2022-02-27\n",
       "670253   URUBZ  16/09/2020    NEW   2022-06-21\n",
       "...        ...         ...    ...          ...\n",
       "387961   UXEXE  07/09/2019    NEW   2022-02-07\n",
       "222170   XYQYA  15/03/2021    NEW   2022-06-14\n",
       "384799   XBRES  24/07/2021    RAC   2022-02-14\n",
       "566350   XDITJ  13/12/2020    RAC   2022-03-10\n",
       "417446   VPAHH  05/10/2020    NEW   2022-04-20\n",
       "\n",
       "[774040 rows x 4 columns]"
      ]
     },
     "execution_count": 464,
     "metadata": {},
     "output_type": "execute_result"
    }
   ],
   "source": [
    "train_df"
   ]
  },
  {
   "cell_type": "code",
   "execution_count": 465,
   "id": "af6e6444",
   "metadata": {},
   "outputs": [],
   "source": [
    "# Use the remaining rows for testing\n",
    "test_df = df.drop(train_indices)"
   ]
  },
  {
   "cell_type": "code",
   "execution_count": 466,
   "id": "9aff974c",
   "metadata": {},
   "outputs": [
    {
     "data": {
      "text/html": [
       "<div>\n",
       "<style scoped>\n",
       "    .dataframe tbody tr th:only-of-type {\n",
       "        vertical-align: middle;\n",
       "    }\n",
       "\n",
       "    .dataframe tbody tr th {\n",
       "        vertical-align: top;\n",
       "    }\n",
       "\n",
       "    .dataframe thead th {\n",
       "        text-align: right;\n",
       "    }\n",
       "</style>\n",
       "<table border=\"1\" class=\"dataframe\">\n",
       "  <thead>\n",
       "    <tr style=\"text-align: right;\">\n",
       "      <th></th>\n",
       "      <th>Earmark</th>\n",
       "      <th>Whelp Date</th>\n",
       "      <th>Status</th>\n",
       "      <th>NoticeSentBy</th>\n",
       "    </tr>\n",
       "  </thead>\n",
       "  <tbody>\n",
       "    <tr>\n",
       "      <th>3</th>\n",
       "      <td>VLILX</td>\n",
       "      <td>11/06/2020</td>\n",
       "      <td>NEW</td>\n",
       "      <td>2022-02-12</td>\n",
       "    </tr>\n",
       "    <tr>\n",
       "      <th>5</th>\n",
       "      <td>VLILX</td>\n",
       "      <td>11/06/2020</td>\n",
       "      <td>NEW</td>\n",
       "      <td>2022-02-14</td>\n",
       "    </tr>\n",
       "    <tr>\n",
       "      <th>8</th>\n",
       "      <td>VLILX</td>\n",
       "      <td>11/06/2020</td>\n",
       "      <td>NEW</td>\n",
       "      <td>2022-02-17</td>\n",
       "    </tr>\n",
       "    <tr>\n",
       "      <th>13</th>\n",
       "      <td>VLILX</td>\n",
       "      <td>11/06/2020</td>\n",
       "      <td>NEW</td>\n",
       "      <td>2022-02-23</td>\n",
       "    </tr>\n",
       "    <tr>\n",
       "      <th>15</th>\n",
       "      <td>VLILX</td>\n",
       "      <td>11/06/2020</td>\n",
       "      <td>NEW</td>\n",
       "      <td>2022-02-25</td>\n",
       "    </tr>\n",
       "    <tr>\n",
       "      <th>...</th>\n",
       "      <td>...</td>\n",
       "      <td>...</td>\n",
       "      <td>...</td>\n",
       "      <td>...</td>\n",
       "    </tr>\n",
       "    <tr>\n",
       "      <th>967529</th>\n",
       "      <td>ZLAUU</td>\n",
       "      <td>18/04/2023</td>\n",
       "      <td>RAC</td>\n",
       "      <td>2023-01-01</td>\n",
       "    </tr>\n",
       "    <tr>\n",
       "      <th>967536</th>\n",
       "      <td>ZYHNL</td>\n",
       "      <td>03/05/2023</td>\n",
       "      <td>RAC</td>\n",
       "      <td>2023-01-01</td>\n",
       "    </tr>\n",
       "    <tr>\n",
       "      <th>967543</th>\n",
       "      <td>ZYHML</td>\n",
       "      <td>02/05/2023</td>\n",
       "      <td>RAC</td>\n",
       "      <td>2023-01-01</td>\n",
       "    </tr>\n",
       "    <tr>\n",
       "      <th>967544</th>\n",
       "      <td>ZYZJH</td>\n",
       "      <td>03/05/2023</td>\n",
       "      <td>RAC</td>\n",
       "      <td>2023-01-01</td>\n",
       "    </tr>\n",
       "    <tr>\n",
       "      <th>967546</th>\n",
       "      <td>ZYTEB</td>\n",
       "      <td>02/05/2023</td>\n",
       "      <td>RAC</td>\n",
       "      <td>2023-01-01</td>\n",
       "    </tr>\n",
       "  </tbody>\n",
       "</table>\n",
       "<p>193510 rows × 4 columns</p>\n",
       "</div>"
      ],
      "text/plain": [
       "       Earmark  Whelp Date Status NoticeSentBy\n",
       "3        VLILX  11/06/2020    NEW   2022-02-12\n",
       "5        VLILX  11/06/2020    NEW   2022-02-14\n",
       "8        VLILX  11/06/2020    NEW   2022-02-17\n",
       "13       VLILX  11/06/2020    NEW   2022-02-23\n",
       "15       VLILX  11/06/2020    NEW   2022-02-25\n",
       "...        ...         ...    ...          ...\n",
       "967529   ZLAUU  18/04/2023    RAC   2023-01-01\n",
       "967536   ZYHNL  03/05/2023    RAC   2023-01-01\n",
       "967543   ZYHML  02/05/2023    RAC   2023-01-01\n",
       "967544   ZYZJH  03/05/2023    RAC   2023-01-01\n",
       "967546   ZYTEB  02/05/2023    RAC   2023-01-01\n",
       "\n",
       "[193510 rows x 4 columns]"
      ]
     },
     "execution_count": 466,
     "metadata": {},
     "output_type": "execute_result"
    }
   ],
   "source": [
    "test_df"
   ]
  },
  {
   "cell_type": "code",
   "execution_count": 467,
   "id": "ce1a9cd2",
   "metadata": {},
   "outputs": [],
   "source": [
    "# Write training and testing DataFrames to CSV files\n",
    "train_df.to_csv('training_data.csv', index=False)\n",
    "test_df.to_csv('testing_data.csv', index=False)"
   ]
  },
  {
   "cell_type": "code",
   "execution_count": 468,
   "id": "7d7c374b",
   "metadata": {},
   "outputs": [],
   "source": [
    "training_data= pd.read_csv('training_data.csv', low_memory=False)"
   ]
  },
  {
   "cell_type": "code",
   "execution_count": 469,
   "id": "acc40954",
   "metadata": {},
   "outputs": [
    {
     "data": {
      "text/plain": [
       "(774040, 4)"
      ]
     },
     "execution_count": 469,
     "metadata": {},
     "output_type": "execute_result"
    }
   ],
   "source": [
    "training_data.shape"
   ]
  },
  {
   "cell_type": "code",
   "execution_count": 470,
   "id": "7bd9d202",
   "metadata": {},
   "outputs": [
    {
     "data": {
      "text/plain": [
       "array(['RAC', 'NEW', 'DIE', 'RET', 'EUT'], dtype=object)"
      ]
     },
     "execution_count": 470,
     "metadata": {},
     "output_type": "execute_result"
    }
   ],
   "source": [
    "training_data[\"Status\"].unique()"
   ]
  },
  {
   "cell_type": "code",
   "execution_count": 471,
   "id": "80e0322c",
   "metadata": {},
   "outputs": [],
   "source": [
    "# Convert \"Status\" column to float and encode categorical labels\n",
    "training_data[\"Status\"] = training_data[\"Status\"].map({\"EUT\": 0, \"RAC\": 1,\"DIE\":2,\"REG\":3,\"RET\":4,\"NEW\":5}).astype(float)\n"
   ]
  },
  {
   "cell_type": "code",
   "execution_count": 472,
   "id": "69e77264",
   "metadata": {},
   "outputs": [
    {
     "data": {
      "text/html": [
       "<div>\n",
       "<style scoped>\n",
       "    .dataframe tbody tr th:only-of-type {\n",
       "        vertical-align: middle;\n",
       "    }\n",
       "\n",
       "    .dataframe tbody tr th {\n",
       "        vertical-align: top;\n",
       "    }\n",
       "\n",
       "    .dataframe thead th {\n",
       "        text-align: right;\n",
       "    }\n",
       "</style>\n",
       "<table border=\"1\" class=\"dataframe\">\n",
       "  <thead>\n",
       "    <tr style=\"text-align: right;\">\n",
       "      <th></th>\n",
       "      <th>Earmark</th>\n",
       "      <th>Whelp Date</th>\n",
       "      <th>Status</th>\n",
       "      <th>NoticeSentBy</th>\n",
       "    </tr>\n",
       "  </thead>\n",
       "  <tbody>\n",
       "    <tr>\n",
       "      <th>0</th>\n",
       "      <td>VXKVT</td>\n",
       "      <td>22/02/2020</td>\n",
       "      <td>1.0</td>\n",
       "      <td>2022-02-23</td>\n",
       "    </tr>\n",
       "    <tr>\n",
       "      <th>1</th>\n",
       "      <td>TLLLZ</td>\n",
       "      <td>20/03/2018</td>\n",
       "      <td>1.0</td>\n",
       "      <td>2022-05-08</td>\n",
       "    </tr>\n",
       "    <tr>\n",
       "      <th>2</th>\n",
       "      <td>VDHIJ</td>\n",
       "      <td>09/10/2020</td>\n",
       "      <td>5.0</td>\n",
       "      <td>2022-04-20</td>\n",
       "    </tr>\n",
       "    <tr>\n",
       "      <th>3</th>\n",
       "      <td>UBQUN</td>\n",
       "      <td>03/10/2019</td>\n",
       "      <td>5.0</td>\n",
       "      <td>2022-02-27</td>\n",
       "    </tr>\n",
       "    <tr>\n",
       "      <th>4</th>\n",
       "      <td>URUBZ</td>\n",
       "      <td>16/09/2020</td>\n",
       "      <td>5.0</td>\n",
       "      <td>2022-06-21</td>\n",
       "    </tr>\n",
       "  </tbody>\n",
       "</table>\n",
       "</div>"
      ],
      "text/plain": [
       "  Earmark  Whelp Date  Status NoticeSentBy\n",
       "0   VXKVT  22/02/2020     1.0   2022-02-23\n",
       "1   TLLLZ  20/03/2018     1.0   2022-05-08\n",
       "2   VDHIJ  09/10/2020     5.0   2022-04-20\n",
       "3   UBQUN  03/10/2019     5.0   2022-02-27\n",
       "4   URUBZ  16/09/2020     5.0   2022-06-21"
      ]
     },
     "execution_count": 472,
     "metadata": {},
     "output_type": "execute_result"
    }
   ],
   "source": [
    "training_data.head()"
   ]
  },
  {
   "cell_type": "code",
   "execution_count": 473,
   "id": "2833259a",
   "metadata": {},
   "outputs": [
    {
     "data": {
      "text/plain": [
       "<seaborn.axisgrid.PairGrid at 0x14287c5c0d0>"
      ]
     },
     "execution_count": 473,
     "metadata": {},
     "output_type": "execute_result"
    },
    {
     "data": {
      "image/png": "[encoded data removed]",
      "text/plain": [
       "<Figure size 250x250 with 2 Axes>"
      ]
     },
     "metadata": {},
     "output_type": "display_data"
    }
   ],
   "source": [
    "#this data should corrolated.\n",
    "sns.pairplot(training_data)"
   ]
  },
  {
   "cell_type": "code",
   "execution_count": 474,
   "id": "4ed10537",
   "metadata": {},
   "outputs": [],
   "source": [
    "training_data = training_data.iloc[:,2].values"
   ]
  },
  {
   "cell_type": "code",
   "execution_count": 475,
   "id": "2408079c",
   "metadata": {},
   "outputs": [
    {
     "data": {
      "text/plain": [
       "array([1., 1., 5., ..., 1., 1., 5.])"
      ]
     },
     "execution_count": 475,
     "metadata": {},
     "output_type": "execute_result"
    }
   ],
   "source": [
    "training_data"
   ]
  },
  {
   "cell_type": "code",
   "execution_count": 476,
   "id": "c6888e24",
   "metadata": {},
   "outputs": [
    {
     "data": {
      "text/plain": [
       "numpy.ndarray"
      ]
     },
     "execution_count": 476,
     "metadata": {},
     "output_type": "execute_result"
    }
   ],
   "source": [
    "type(training_data)"
   ]
  },
  {
   "cell_type": "code",
   "execution_count": 477,
   "id": "6bd07705",
   "metadata": {},
   "outputs": [
    {
     "data": {
      "text/plain": [
       "5.0"
      ]
     },
     "execution_count": 477,
     "metadata": {},
     "output_type": "execute_result"
    }
   ],
   "source": [
    "min(training_data)\n",
    "max(training_data)"
   ]
  },
  {
   "cell_type": "code",
   "execution_count": 478,
   "id": "76ead08d",
   "metadata": {},
   "outputs": [],
   "source": [
    "# scale the data , with a min max scaler\n",
    "from sklearn.preprocessing import MinMaxScaler"
   ]
  },
  {
   "cell_type": "code",
   "execution_count": 479,
   "id": "2381a033",
   "metadata": {},
   "outputs": [],
   "source": [
    "scaler = MinMaxScaler()"
   ]
  },
  {
   "cell_type": "code",
   "execution_count": 480,
   "id": "4335389f",
   "metadata": {},
   "outputs": [
    {
     "data": {
      "text/plain": [
       "(774040,)"
      ]
     },
     "execution_count": 480,
     "metadata": {},
     "output_type": "execute_result"
    }
   ],
   "source": [
    "training_data.shape"
   ]
  },
  {
   "cell_type": "code",
   "execution_count": 481,
   "id": "b242aae1",
   "metadata": {},
   "outputs": [],
   "source": [
    "#the data is now only 1 dimissional data , needs to be 2 dimissional data\n",
    "#reshape the data\n",
    "training_data = scaler.fit_transform(training_data.reshape(-1,1))"
   ]
  },
  {
   "cell_type": "code",
   "execution_count": 482,
   "id": "c90b097b",
   "metadata": {},
   "outputs": [
    {
     "data": {
      "text/plain": [
       "(774040, 1)"
      ]
     },
     "execution_count": 482,
     "metadata": {},
     "output_type": "execute_result"
    }
   ],
   "source": [
    "training_data.shape"
   ]
  },
  {
   "cell_type": "code",
   "execution_count": 483,
   "id": "978f4425",
   "metadata": {},
   "outputs": [
    {
     "data": {
      "text/plain": [
       "array([[0.2],\n",
       "       [0.2],\n",
       "       [1. ],\n",
       "       ...,\n",
       "       [0.2],\n",
       "       [0.2],\n",
       "       [1. ]])"
      ]
     },
     "execution_count": 483,
     "metadata": {},
     "output_type": "execute_result"
    }
   ],
   "source": [
    "training_data"
   ]
  },
  {
   "cell_type": "code",
   "execution_count": 484,
   "id": "c43cc8d0",
   "metadata": {},
   "outputs": [],
   "source": [
    "#create 2 list, taking 40 days data to predict 1 day.\n",
    "x_training_data = [] # 40 days\n",
    "y_training_data = [] # 1 days"
   ]
  },
  {
   "cell_type": "code",
   "execution_count": 485,
   "id": "5262f722",
   "metadata": {},
   "outputs": [],
   "source": [
    "for i in range(40,len(training_data)):\n",
    "    x_training_data.append(training_data[i-40:i,0])\n",
    "    y_training_data.append(training_data[i,0])"
   ]
  },
  {
   "cell_type": "code",
   "execution_count": 486,
   "id": "265a711c",
   "metadata": {},
   "outputs": [],
   "source": [
    "#currently x_training and y_training are a list and need to be a numpy array\n",
    "x_training_data = np.array(x_training_data)\n",
    "y_training_data = np.array(y_training_data)"
   ]
  },
  {
   "cell_type": "code",
   "execution_count": 487,
   "id": "7764e0ce",
   "metadata": {},
   "outputs": [],
   "source": [
    "# the last step is to reshape our x_training_data(independant variable) into 3 dimensional and the \n",
    "# y_training_data(dependant variable) into 2 dimensional\n",
    "x_training_data = np.reshape(x_training_data,(x_training_data.shape[0],\n",
    "                             x_training_data.shape[1],\n",
    "                              1))"
   ]
  },
  {
   "cell_type": "code",
   "execution_count": 488,
   "id": "86df20ec",
   "metadata": {},
   "outputs": [
    {
     "data": {
      "text/plain": [
       "(774000, 40, 1)"
      ]
     },
     "execution_count": 488,
     "metadata": {},
     "output_type": "execute_result"
    }
   ],
   "source": [
    "#tensors requires 3 dimensions\n",
    "x_training_data.shape"
   ]
  },
  {
   "cell_type": "markdown",
   "id": "e01c8428",
   "metadata": {},
   "source": [
    "Part2 Tensorflow"
   ]
  },
  {
   "cell_type": "code",
   "execution_count": 489,
   "id": "43d7eda3",
   "metadata": {},
   "outputs": [],
   "source": [
    "from tensorflow.keras.models import Sequential\n",
    "from tensorflow.keras.layers import Dense\n",
    "from tensorflow.keras.layers import LSTM\n",
    "from tensorflow.keras.layers import Dropout"
   ]
  },
  {
   "cell_type": "code",
   "execution_count": 490,
   "id": "2d375bd2",
   "metadata": {},
   "outputs": [],
   "source": [
    "#build Recurrent Neural Network(RNN)\n",
    "rnn = Sequential()"
   ]
  },
  {
   "cell_type": "code",
   "execution_count": 491,
   "id": "745f8240",
   "metadata": {},
   "outputs": [],
   "source": [
    "#layer 1\n",
    "rnn.add(LSTM(units=45,return_sequences=True,input_shape=(x_training_data.shape[1],1)))\n",
    "#to help overfitting drop rate of 20%\n",
    "rnn.add(Dropout(0.4))"
   ]
  },
  {
   "cell_type": "code",
   "execution_count": 492,
   "id": "b7cd7811",
   "metadata": {},
   "outputs": [],
   "source": [
    "#layer 2\n",
    "rnn.add(LSTM(units=45,return_sequences=True))\n",
    "#to help overfitting drop rate of 20%\n",
    "rnn.add(Dropout(0.4))"
   ]
  },
  {
   "cell_type": "code",
   "execution_count": 493,
   "id": "6071bdf2",
   "metadata": {},
   "outputs": [],
   "source": [
    "#Layer 3\n",
    "rnn.add(LSTM(units=45))\n",
    "#to help overfitting drop rate of 20%\n",
    "rnn.add(Dropout(0.4))"
   ]
  },
  {
   "cell_type": "code",
   "execution_count": 494,
   "id": "72901dd7",
   "metadata": {},
   "outputs": [],
   "source": [
    "#output layer\n",
    "rnn.add(Dense(units=1))"
   ]
  },
  {
   "cell_type": "code",
   "execution_count": 495,
   "id": "c9bcf154",
   "metadata": {},
   "outputs": [],
   "source": [
    "rnn.compile(optimizer = 'adam', loss = 'mean_squared_error')"
   ]
  },
  {
   "cell_type": "code",
   "execution_count": 496,
   "id": "574c6f0b",
   "metadata": {},
   "outputs": [
    {
     "name": "stdout",
     "output_type": "stream",
     "text": [
      "Epoch 1/10\n",
      "12094/12094 [==============================] - 1031s 84ms/step - loss: 0.1442\n",
      "Epoch 2/10\n",
      "12094/12094 [==============================] - 1029s 85ms/step - loss: 0.1432\n",
      "Epoch 3/10\n",
      "12094/12094 [==============================] - 1066s 88ms/step - loss: 0.1432\n",
      "Epoch 4/10\n",
      "12094/12094 [==============================] - 1079s 89ms/step - loss: 0.1432\n",
      "Epoch 5/10\n",
      "12094/12094 [==============================] - 1081s 89ms/step - loss: 0.1432\n",
      "Epoch 6/10\n",
      "12094/12094 [==============================] - 1084s 90ms/step - loss: 0.1432\n",
      "Epoch 7/10\n",
      "12094/12094 [==============================] - 908s 75ms/step - loss: 0.1432\n",
      "Epoch 8/10\n",
      "12094/12094 [==============================] - 779s 64ms/step - loss: 0.1432\n",
      "Epoch 9/10\n",
      "12094/12094 [==============================] - 772s 64ms/step - loss: 0.1432\n",
      "Epoch 10/10\n",
      "12094/12094 [==============================] - 779s 64ms/step - loss: 0.1432\n"
     ]
    },
    {
     "data": {
      "text/plain": [
       "<keras.src.callbacks.History at 0x14240489910>"
      ]
     },
     "execution_count": 496,
     "metadata": {},
     "output_type": "execute_result"
    }
   ],
   "source": [
    "#frame this\n",
    "rnn.fit(x_training_data,y_training_data, epochs=10, batch_size=64)"
   ]
  },
  {
   "cell_type": "code",
   "execution_count": null,
   "id": "2ac64e9d",
   "metadata": {},
   "outputs": [],
   "source": [
    "#frame this\n",
    "#rnn.fit(x_training_data,y_training_data, epochs=5, batch_size=64)"
   ]
  },
  {
   "cell_type": "markdown",
   "id": "1fd54878",
   "metadata": {},
   "source": [
    "### Part 3 make predictions"
   ]
  },
  {
   "cell_type": "code",
   "execution_count": 497,
   "id": "73367e73",
   "metadata": {},
   "outputs": [
    {
     "data": {
      "text/html": [
       "<div>\n",
       "<style scoped>\n",
       "    .dataframe tbody tr th:only-of-type {\n",
       "        vertical-align: middle;\n",
       "    }\n",
       "\n",
       "    .dataframe tbody tr th {\n",
       "        vertical-align: top;\n",
       "    }\n",
       "\n",
       "    .dataframe thead th {\n",
       "        text-align: right;\n",
       "    }\n",
       "</style>\n",
       "<table border=\"1\" class=\"dataframe\">\n",
       "  <thead>\n",
       "    <tr style=\"text-align: right;\">\n",
       "      <th></th>\n",
       "      <th>Earmark</th>\n",
       "      <th>Whelp Date</th>\n",
       "      <th>Status</th>\n",
       "      <th>NoticeSentBy</th>\n",
       "    </tr>\n",
       "  </thead>\n",
       "  <tbody>\n",
       "    <tr>\n",
       "      <th>0</th>\n",
       "      <td>VLILX</td>\n",
       "      <td>11/06/2020</td>\n",
       "      <td>NEW</td>\n",
       "      <td>2022-02-12</td>\n",
       "    </tr>\n",
       "    <tr>\n",
       "      <th>1</th>\n",
       "      <td>VLILX</td>\n",
       "      <td>11/06/2020</td>\n",
       "      <td>NEW</td>\n",
       "      <td>2022-02-14</td>\n",
       "    </tr>\n",
       "    <tr>\n",
       "      <th>2</th>\n",
       "      <td>VLILX</td>\n",
       "      <td>11/06/2020</td>\n",
       "      <td>NEW</td>\n",
       "      <td>2022-02-17</td>\n",
       "    </tr>\n",
       "    <tr>\n",
       "      <th>3</th>\n",
       "      <td>VLILX</td>\n",
       "      <td>11/06/2020</td>\n",
       "      <td>NEW</td>\n",
       "      <td>2022-02-23</td>\n",
       "    </tr>\n",
       "    <tr>\n",
       "      <th>4</th>\n",
       "      <td>VLILX</td>\n",
       "      <td>11/06/2020</td>\n",
       "      <td>NEW</td>\n",
       "      <td>2022-02-25</td>\n",
       "    </tr>\n",
       "    <tr>\n",
       "      <th>...</th>\n",
       "      <td>...</td>\n",
       "      <td>...</td>\n",
       "      <td>...</td>\n",
       "      <td>...</td>\n",
       "    </tr>\n",
       "    <tr>\n",
       "      <th>193505</th>\n",
       "      <td>ZLAUU</td>\n",
       "      <td>18/04/2023</td>\n",
       "      <td>RAC</td>\n",
       "      <td>2023-01-01</td>\n",
       "    </tr>\n",
       "    <tr>\n",
       "      <th>193506</th>\n",
       "      <td>ZYHNL</td>\n",
       "      <td>03/05/2023</td>\n",
       "      <td>RAC</td>\n",
       "      <td>2023-01-01</td>\n",
       "    </tr>\n",
       "    <tr>\n",
       "      <th>193507</th>\n",
       "      <td>ZYHML</td>\n",
       "      <td>02/05/2023</td>\n",
       "      <td>RAC</td>\n",
       "      <td>2023-01-01</td>\n",
       "    </tr>\n",
       "    <tr>\n",
       "      <th>193508</th>\n",
       "      <td>ZYZJH</td>\n",
       "      <td>03/05/2023</td>\n",
       "      <td>RAC</td>\n",
       "      <td>2023-01-01</td>\n",
       "    </tr>\n",
       "    <tr>\n",
       "      <th>193509</th>\n",
       "      <td>ZYTEB</td>\n",
       "      <td>02/05/2023</td>\n",
       "      <td>RAC</td>\n",
       "      <td>2023-01-01</td>\n",
       "    </tr>\n",
       "  </tbody>\n",
       "</table>\n",
       "<p>193510 rows × 4 columns</p>\n",
       "</div>"
      ],
      "text/plain": [
       "       Earmark  Whelp Date Status NoticeSentBy\n",
       "0        VLILX  11/06/2020    NEW   2022-02-12\n",
       "1        VLILX  11/06/2020    NEW   2022-02-14\n",
       "2        VLILX  11/06/2020    NEW   2022-02-17\n",
       "3        VLILX  11/06/2020    NEW   2022-02-23\n",
       "4        VLILX  11/06/2020    NEW   2022-02-25\n",
       "...        ...         ...    ...          ...\n",
       "193505   ZLAUU  18/04/2023    RAC   2023-01-01\n",
       "193506   ZYHNL  03/05/2023    RAC   2023-01-01\n",
       "193507   ZYHML  02/05/2023    RAC   2023-01-01\n",
       "193508   ZYZJH  03/05/2023    RAC   2023-01-01\n",
       "193509   ZYTEB  02/05/2023    RAC   2023-01-01\n",
       "\n",
       "[193510 rows x 4 columns]"
      ]
     },
     "execution_count": 497,
     "metadata": {},
     "output_type": "execute_result"
    }
   ],
   "source": [
    "#Import the test data set and transform it into a NumPy array\n",
    "test_data = pd.read_csv('testing_data.csv')\n",
    "test_data"
   ]
  },
  {
   "cell_type": "code",
   "execution_count": 498,
   "id": "f2dae7b9",
   "metadata": {},
   "outputs": [
    {
     "data": {
      "text/plain": [
       "array([[0.2],\n",
       "       [0.2],\n",
       "       [1. ],\n",
       "       ...,\n",
       "       [0.2],\n",
       "       [0.2],\n",
       "       [1. ]])"
      ]
     },
     "execution_count": 498,
     "metadata": {},
     "output_type": "execute_result"
    }
   ],
   "source": [
    "training_data"
   ]
  },
  {
   "cell_type": "code",
   "execution_count": 499,
   "id": "e8ce9d7c",
   "metadata": {},
   "outputs": [
    {
     "name": "stdout",
     "output_type": "stream",
     "text": [
      "(193510, 4)\n"
     ]
    }
   ],
   "source": [
    "#test_data = test_data.iloc[:,7].values\n",
    "#Make sure the test data's shape makes sense\n",
    "print(test_data.shape)\n",
    "#Plot the test data\n",
    "#plt.plot(test_data)"
   ]
  },
  {
   "cell_type": "code",
   "execution_count": 500,
   "id": "3870838b",
   "metadata": {},
   "outputs": [],
   "source": [
    "#Create unscaled training data and test data objects\n",
    "unscaled_training_data = pd.read_csv('training_data.csv')\n",
    "unscaled_test_data = pd.read_csv('testing_data.csv')\n",
    "# Convert \"Status\" column to float and encode categorical labels"
   ]
  },
  {
   "cell_type": "code",
   "execution_count": 501,
   "id": "cca25219",
   "metadata": {},
   "outputs": [
    {
     "data": {
      "text/html": [
       "<div>\n",
       "<style scoped>\n",
       "    .dataframe tbody tr th:only-of-type {\n",
       "        vertical-align: middle;\n",
       "    }\n",
       "\n",
       "    .dataframe tbody tr th {\n",
       "        vertical-align: top;\n",
       "    }\n",
       "\n",
       "    .dataframe thead th {\n",
       "        text-align: right;\n",
       "    }\n",
       "</style>\n",
       "<table border=\"1\" class=\"dataframe\">\n",
       "  <thead>\n",
       "    <tr style=\"text-align: right;\">\n",
       "      <th></th>\n",
       "      <th>Earmark</th>\n",
       "      <th>Whelp Date</th>\n",
       "      <th>Status</th>\n",
       "      <th>NoticeSentBy</th>\n",
       "    </tr>\n",
       "  </thead>\n",
       "  <tbody>\n",
       "    <tr>\n",
       "      <th>0</th>\n",
       "      <td>VXKVT</td>\n",
       "      <td>22/02/2020</td>\n",
       "      <td>RAC</td>\n",
       "      <td>2022-02-23</td>\n",
       "    </tr>\n",
       "    <tr>\n",
       "      <th>1</th>\n",
       "      <td>TLLLZ</td>\n",
       "      <td>20/03/2018</td>\n",
       "      <td>RAC</td>\n",
       "      <td>2022-05-08</td>\n",
       "    </tr>\n",
       "    <tr>\n",
       "      <th>2</th>\n",
       "      <td>VDHIJ</td>\n",
       "      <td>09/10/2020</td>\n",
       "      <td>NEW</td>\n",
       "      <td>2022-04-20</td>\n",
       "    </tr>\n",
       "    <tr>\n",
       "      <th>3</th>\n",
       "      <td>UBQUN</td>\n",
       "      <td>03/10/2019</td>\n",
       "      <td>NEW</td>\n",
       "      <td>2022-02-27</td>\n",
       "    </tr>\n",
       "    <tr>\n",
       "      <th>4</th>\n",
       "      <td>URUBZ</td>\n",
       "      <td>16/09/2020</td>\n",
       "      <td>NEW</td>\n",
       "      <td>2022-06-21</td>\n",
       "    </tr>\n",
       "    <tr>\n",
       "      <th>...</th>\n",
       "      <td>...</td>\n",
       "      <td>...</td>\n",
       "      <td>...</td>\n",
       "      <td>...</td>\n",
       "    </tr>\n",
       "    <tr>\n",
       "      <th>774035</th>\n",
       "      <td>UXEXE</td>\n",
       "      <td>07/09/2019</td>\n",
       "      <td>NEW</td>\n",
       "      <td>2022-02-07</td>\n",
       "    </tr>\n",
       "    <tr>\n",
       "      <th>774036</th>\n",
       "      <td>XYQYA</td>\n",
       "      <td>15/03/2021</td>\n",
       "      <td>NEW</td>\n",
       "      <td>2022-06-14</td>\n",
       "    </tr>\n",
       "    <tr>\n",
       "      <th>774037</th>\n",
       "      <td>XBRES</td>\n",
       "      <td>24/07/2021</td>\n",
       "      <td>RAC</td>\n",
       "      <td>2022-02-14</td>\n",
       "    </tr>\n",
       "    <tr>\n",
       "      <th>774038</th>\n",
       "      <td>XDITJ</td>\n",
       "      <td>13/12/2020</td>\n",
       "      <td>RAC</td>\n",
       "      <td>2022-03-10</td>\n",
       "    </tr>\n",
       "    <tr>\n",
       "      <th>774039</th>\n",
       "      <td>VPAHH</td>\n",
       "      <td>05/10/2020</td>\n",
       "      <td>NEW</td>\n",
       "      <td>2022-04-20</td>\n",
       "    </tr>\n",
       "  </tbody>\n",
       "</table>\n",
       "<p>774040 rows × 4 columns</p>\n",
       "</div>"
      ],
      "text/plain": [
       "       Earmark  Whelp Date Status NoticeSentBy\n",
       "0        VXKVT  22/02/2020    RAC   2022-02-23\n",
       "1        TLLLZ  20/03/2018    RAC   2022-05-08\n",
       "2        VDHIJ  09/10/2020    NEW   2022-04-20\n",
       "3        UBQUN  03/10/2019    NEW   2022-02-27\n",
       "4        URUBZ  16/09/2020    NEW   2022-06-21\n",
       "...        ...         ...    ...          ...\n",
       "774035   UXEXE  07/09/2019    NEW   2022-02-07\n",
       "774036   XYQYA  15/03/2021    NEW   2022-06-14\n",
       "774037   XBRES  24/07/2021    RAC   2022-02-14\n",
       "774038   XDITJ  13/12/2020    RAC   2022-03-10\n",
       "774039   VPAHH  05/10/2020    NEW   2022-04-20\n",
       "\n",
       "[774040 rows x 4 columns]"
      ]
     },
     "execution_count": 501,
     "metadata": {},
     "output_type": "execute_result"
    }
   ],
   "source": [
    "unscaled_training_data"
   ]
  },
  {
   "cell_type": "code",
   "execution_count": 502,
   "id": "0cb173ed",
   "metadata": {},
   "outputs": [
    {
     "data": {
      "text/html": [
       "<div>\n",
       "<style scoped>\n",
       "    .dataframe tbody tr th:only-of-type {\n",
       "        vertical-align: middle;\n",
       "    }\n",
       "\n",
       "    .dataframe tbody tr th {\n",
       "        vertical-align: top;\n",
       "    }\n",
       "\n",
       "    .dataframe thead th {\n",
       "        text-align: right;\n",
       "    }\n",
       "</style>\n",
       "<table border=\"1\" class=\"dataframe\">\n",
       "  <thead>\n",
       "    <tr style=\"text-align: right;\">\n",
       "      <th></th>\n",
       "      <th>Earmark</th>\n",
       "      <th>Whelp Date</th>\n",
       "      <th>Status</th>\n",
       "      <th>NoticeSentBy</th>\n",
       "    </tr>\n",
       "  </thead>\n",
       "  <tbody>\n",
       "    <tr>\n",
       "      <th>0</th>\n",
       "      <td>VLILX</td>\n",
       "      <td>11/06/2020</td>\n",
       "      <td>NEW</td>\n",
       "      <td>2022-02-12</td>\n",
       "    </tr>\n",
       "    <tr>\n",
       "      <th>1</th>\n",
       "      <td>VLILX</td>\n",
       "      <td>11/06/2020</td>\n",
       "      <td>NEW</td>\n",
       "      <td>2022-02-14</td>\n",
       "    </tr>\n",
       "    <tr>\n",
       "      <th>2</th>\n",
       "      <td>VLILX</td>\n",
       "      <td>11/06/2020</td>\n",
       "      <td>NEW</td>\n",
       "      <td>2022-02-17</td>\n",
       "    </tr>\n",
       "    <tr>\n",
       "      <th>3</th>\n",
       "      <td>VLILX</td>\n",
       "      <td>11/06/2020</td>\n",
       "      <td>NEW</td>\n",
       "      <td>2022-02-23</td>\n",
       "    </tr>\n",
       "    <tr>\n",
       "      <th>4</th>\n",
       "      <td>VLILX</td>\n",
       "      <td>11/06/2020</td>\n",
       "      <td>NEW</td>\n",
       "      <td>2022-02-25</td>\n",
       "    </tr>\n",
       "    <tr>\n",
       "      <th>...</th>\n",
       "      <td>...</td>\n",
       "      <td>...</td>\n",
       "      <td>...</td>\n",
       "      <td>...</td>\n",
       "    </tr>\n",
       "    <tr>\n",
       "      <th>193505</th>\n",
       "      <td>ZLAUU</td>\n",
       "      <td>18/04/2023</td>\n",
       "      <td>RAC</td>\n",
       "      <td>2023-01-01</td>\n",
       "    </tr>\n",
       "    <tr>\n",
       "      <th>193506</th>\n",
       "      <td>ZYHNL</td>\n",
       "      <td>03/05/2023</td>\n",
       "      <td>RAC</td>\n",
       "      <td>2023-01-01</td>\n",
       "    </tr>\n",
       "    <tr>\n",
       "      <th>193507</th>\n",
       "      <td>ZYHML</td>\n",
       "      <td>02/05/2023</td>\n",
       "      <td>RAC</td>\n",
       "      <td>2023-01-01</td>\n",
       "    </tr>\n",
       "    <tr>\n",
       "      <th>193508</th>\n",
       "      <td>ZYZJH</td>\n",
       "      <td>03/05/2023</td>\n",
       "      <td>RAC</td>\n",
       "      <td>2023-01-01</td>\n",
       "    </tr>\n",
       "    <tr>\n",
       "      <th>193509</th>\n",
       "      <td>ZYTEB</td>\n",
       "      <td>02/05/2023</td>\n",
       "      <td>RAC</td>\n",
       "      <td>2023-01-01</td>\n",
       "    </tr>\n",
       "  </tbody>\n",
       "</table>\n",
       "<p>193510 rows × 4 columns</p>\n",
       "</div>"
      ],
      "text/plain": [
       "       Earmark  Whelp Date Status NoticeSentBy\n",
       "0        VLILX  11/06/2020    NEW   2022-02-12\n",
       "1        VLILX  11/06/2020    NEW   2022-02-14\n",
       "2        VLILX  11/06/2020    NEW   2022-02-17\n",
       "3        VLILX  11/06/2020    NEW   2022-02-23\n",
       "4        VLILX  11/06/2020    NEW   2022-02-25\n",
       "...        ...         ...    ...          ...\n",
       "193505   ZLAUU  18/04/2023    RAC   2023-01-01\n",
       "193506   ZYHNL  03/05/2023    RAC   2023-01-01\n",
       "193507   ZYHML  02/05/2023    RAC   2023-01-01\n",
       "193508   ZYZJH  03/05/2023    RAC   2023-01-01\n",
       "193509   ZYTEB  02/05/2023    RAC   2023-01-01\n",
       "\n",
       "[193510 rows x 4 columns]"
      ]
     },
     "execution_count": 502,
     "metadata": {},
     "output_type": "execute_result"
    }
   ],
   "source": [
    "unscaled_test_data"
   ]
  },
  {
   "cell_type": "code",
   "execution_count": 503,
   "id": "9a6295d1",
   "metadata": {},
   "outputs": [
    {
     "data": {
      "text/html": [
       "<div>\n",
       "<style scoped>\n",
       "    .dataframe tbody tr th:only-of-type {\n",
       "        vertical-align: middle;\n",
       "    }\n",
       "\n",
       "    .dataframe tbody tr th {\n",
       "        vertical-align: top;\n",
       "    }\n",
       "\n",
       "    .dataframe thead th {\n",
       "        text-align: right;\n",
       "    }\n",
       "</style>\n",
       "<table border=\"1\" class=\"dataframe\">\n",
       "  <thead>\n",
       "    <tr style=\"text-align: right;\">\n",
       "      <th></th>\n",
       "      <th>Earmark</th>\n",
       "      <th>Whelp Date</th>\n",
       "      <th>Status</th>\n",
       "      <th>NoticeSentBy</th>\n",
       "    </tr>\n",
       "  </thead>\n",
       "  <tbody>\n",
       "    <tr>\n",
       "      <th>0</th>\n",
       "      <td>VLILX</td>\n",
       "      <td>11/06/2020</td>\n",
       "      <td>NEW</td>\n",
       "      <td>2022-02-12</td>\n",
       "    </tr>\n",
       "    <tr>\n",
       "      <th>1</th>\n",
       "      <td>VLILX</td>\n",
       "      <td>11/06/2020</td>\n",
       "      <td>NEW</td>\n",
       "      <td>2022-02-14</td>\n",
       "    </tr>\n",
       "    <tr>\n",
       "      <th>2</th>\n",
       "      <td>VLILX</td>\n",
       "      <td>11/06/2020</td>\n",
       "      <td>NEW</td>\n",
       "      <td>2022-02-17</td>\n",
       "    </tr>\n",
       "    <tr>\n",
       "      <th>3</th>\n",
       "      <td>VLILX</td>\n",
       "      <td>11/06/2020</td>\n",
       "      <td>NEW</td>\n",
       "      <td>2022-02-23</td>\n",
       "    </tr>\n",
       "    <tr>\n",
       "      <th>4</th>\n",
       "      <td>VLILX</td>\n",
       "      <td>11/06/2020</td>\n",
       "      <td>NEW</td>\n",
       "      <td>2022-02-25</td>\n",
       "    </tr>\n",
       "    <tr>\n",
       "      <th>...</th>\n",
       "      <td>...</td>\n",
       "      <td>...</td>\n",
       "      <td>...</td>\n",
       "      <td>...</td>\n",
       "    </tr>\n",
       "    <tr>\n",
       "      <th>193505</th>\n",
       "      <td>ZLAUU</td>\n",
       "      <td>18/04/2023</td>\n",
       "      <td>RAC</td>\n",
       "      <td>2023-01-01</td>\n",
       "    </tr>\n",
       "    <tr>\n",
       "      <th>193506</th>\n",
       "      <td>ZYHNL</td>\n",
       "      <td>03/05/2023</td>\n",
       "      <td>RAC</td>\n",
       "      <td>2023-01-01</td>\n",
       "    </tr>\n",
       "    <tr>\n",
       "      <th>193507</th>\n",
       "      <td>ZYHML</td>\n",
       "      <td>02/05/2023</td>\n",
       "      <td>RAC</td>\n",
       "      <td>2023-01-01</td>\n",
       "    </tr>\n",
       "    <tr>\n",
       "      <th>193508</th>\n",
       "      <td>ZYZJH</td>\n",
       "      <td>03/05/2023</td>\n",
       "      <td>RAC</td>\n",
       "      <td>2023-01-01</td>\n",
       "    </tr>\n",
       "    <tr>\n",
       "      <th>193509</th>\n",
       "      <td>ZYTEB</td>\n",
       "      <td>02/05/2023</td>\n",
       "      <td>RAC</td>\n",
       "      <td>2023-01-01</td>\n",
       "    </tr>\n",
       "  </tbody>\n",
       "</table>\n",
       "<p>193510 rows × 4 columns</p>\n",
       "</div>"
      ],
      "text/plain": [
       "       Earmark  Whelp Date Status NoticeSentBy\n",
       "0        VLILX  11/06/2020    NEW   2022-02-12\n",
       "1        VLILX  11/06/2020    NEW   2022-02-14\n",
       "2        VLILX  11/06/2020    NEW   2022-02-17\n",
       "3        VLILX  11/06/2020    NEW   2022-02-23\n",
       "4        VLILX  11/06/2020    NEW   2022-02-25\n",
       "...        ...         ...    ...          ...\n",
       "193505   ZLAUU  18/04/2023    RAC   2023-01-01\n",
       "193506   ZYHNL  03/05/2023    RAC   2023-01-01\n",
       "193507   ZYHML  02/05/2023    RAC   2023-01-01\n",
       "193508   ZYZJH  03/05/2023    RAC   2023-01-01\n",
       "193509   ZYTEB  02/05/2023    RAC   2023-01-01\n",
       "\n",
       "[193510 rows x 4 columns]"
      ]
     },
     "execution_count": 503,
     "metadata": {},
     "output_type": "execute_result"
    }
   ],
   "source": [
    "unscaled_test_data"
   ]
  },
  {
   "cell_type": "code",
   "execution_count": 504,
   "id": "d6e75604",
   "metadata": {},
   "outputs": [],
   "source": [
    "unscaled_training_data[\"Status\"] = unscaled_training_data[\"Status\"].map({\"EUT\": 0, \"RAC\": 1,\"DIE\":2,\"REG\":3,\"RET\":4,\"NEW\":5}).astype(float)\n",
    "\n",
    "unscaled_test_data[\"Status\"] = unscaled_test_data[\"Status\"].map({\"EUT\": 0, \"RAC\": 1,\"DIE\":2,\"REG\":3,\"RET\":4,\"NEW\":5}).astype(float)\n"
   ]
  },
  {
   "cell_type": "code",
   "execution_count": 505,
   "id": "38f506c4",
   "metadata": {},
   "outputs": [
    {
     "data": {
      "text/html": [
       "<div>\n",
       "<style scoped>\n",
       "    .dataframe tbody tr th:only-of-type {\n",
       "        vertical-align: middle;\n",
       "    }\n",
       "\n",
       "    .dataframe tbody tr th {\n",
       "        vertical-align: top;\n",
       "    }\n",
       "\n",
       "    .dataframe thead th {\n",
       "        text-align: right;\n",
       "    }\n",
       "</style>\n",
       "<table border=\"1\" class=\"dataframe\">\n",
       "  <thead>\n",
       "    <tr style=\"text-align: right;\">\n",
       "      <th></th>\n",
       "      <th>Earmark</th>\n",
       "      <th>Whelp Date</th>\n",
       "      <th>Status</th>\n",
       "      <th>NoticeSentBy</th>\n",
       "    </tr>\n",
       "  </thead>\n",
       "  <tbody>\n",
       "    <tr>\n",
       "      <th>0</th>\n",
       "      <td>VXKVT</td>\n",
       "      <td>22/02/2020</td>\n",
       "      <td>1.0</td>\n",
       "      <td>2022-02-23</td>\n",
       "    </tr>\n",
       "    <tr>\n",
       "      <th>1</th>\n",
       "      <td>TLLLZ</td>\n",
       "      <td>20/03/2018</td>\n",
       "      <td>1.0</td>\n",
       "      <td>2022-05-08</td>\n",
       "    </tr>\n",
       "    <tr>\n",
       "      <th>2</th>\n",
       "      <td>VDHIJ</td>\n",
       "      <td>09/10/2020</td>\n",
       "      <td>5.0</td>\n",
       "      <td>2022-04-20</td>\n",
       "    </tr>\n",
       "    <tr>\n",
       "      <th>3</th>\n",
       "      <td>UBQUN</td>\n",
       "      <td>03/10/2019</td>\n",
       "      <td>5.0</td>\n",
       "      <td>2022-02-27</td>\n",
       "    </tr>\n",
       "    <tr>\n",
       "      <th>4</th>\n",
       "      <td>URUBZ</td>\n",
       "      <td>16/09/2020</td>\n",
       "      <td>5.0</td>\n",
       "      <td>2022-06-21</td>\n",
       "    </tr>\n",
       "    <tr>\n",
       "      <th>...</th>\n",
       "      <td>...</td>\n",
       "      <td>...</td>\n",
       "      <td>...</td>\n",
       "      <td>...</td>\n",
       "    </tr>\n",
       "    <tr>\n",
       "      <th>774035</th>\n",
       "      <td>UXEXE</td>\n",
       "      <td>07/09/2019</td>\n",
       "      <td>5.0</td>\n",
       "      <td>2022-02-07</td>\n",
       "    </tr>\n",
       "    <tr>\n",
       "      <th>774036</th>\n",
       "      <td>XYQYA</td>\n",
       "      <td>15/03/2021</td>\n",
       "      <td>5.0</td>\n",
       "      <td>2022-06-14</td>\n",
       "    </tr>\n",
       "    <tr>\n",
       "      <th>774037</th>\n",
       "      <td>XBRES</td>\n",
       "      <td>24/07/2021</td>\n",
       "      <td>1.0</td>\n",
       "      <td>2022-02-14</td>\n",
       "    </tr>\n",
       "    <tr>\n",
       "      <th>774038</th>\n",
       "      <td>XDITJ</td>\n",
       "      <td>13/12/2020</td>\n",
       "      <td>1.0</td>\n",
       "      <td>2022-03-10</td>\n",
       "    </tr>\n",
       "    <tr>\n",
       "      <th>774039</th>\n",
       "      <td>VPAHH</td>\n",
       "      <td>05/10/2020</td>\n",
       "      <td>5.0</td>\n",
       "      <td>2022-04-20</td>\n",
       "    </tr>\n",
       "  </tbody>\n",
       "</table>\n",
       "<p>774040 rows × 4 columns</p>\n",
       "</div>"
      ],
      "text/plain": [
       "       Earmark  Whelp Date  Status NoticeSentBy\n",
       "0        VXKVT  22/02/2020     1.0   2022-02-23\n",
       "1        TLLLZ  20/03/2018     1.0   2022-05-08\n",
       "2        VDHIJ  09/10/2020     5.0   2022-04-20\n",
       "3        UBQUN  03/10/2019     5.0   2022-02-27\n",
       "4        URUBZ  16/09/2020     5.0   2022-06-21\n",
       "...        ...         ...     ...          ...\n",
       "774035   UXEXE  07/09/2019     5.0   2022-02-07\n",
       "774036   XYQYA  15/03/2021     5.0   2022-06-14\n",
       "774037   XBRES  24/07/2021     1.0   2022-02-14\n",
       "774038   XDITJ  13/12/2020     1.0   2022-03-10\n",
       "774039   VPAHH  05/10/2020     5.0   2022-04-20\n",
       "\n",
       "[774040 rows x 4 columns]"
      ]
     },
     "execution_count": 505,
     "metadata": {},
     "output_type": "execute_result"
    }
   ],
   "source": [
    "unscaled_training_data"
   ]
  },
  {
   "cell_type": "code",
   "execution_count": 506,
   "id": "7f0c3023",
   "metadata": {},
   "outputs": [],
   "source": [
    "all_data=pd.concat((unscaled_training_data['Status'],\n",
    "unscaled_test_data['Status']), axis = 0)"
   ]
  },
  {
   "cell_type": "code",
   "execution_count": 507,
   "id": "e31cf482",
   "metadata": {},
   "outputs": [],
   "source": [
    "#Create our x_test_data object, which has each January day + the 40 prior days\n",
    "x_test_data = all_data[len(all_data) - len(test_data) - 40:].values\n",
    "#\n",
    "x_test_data = np.reshape(x_test_data, (-1, 1))\n",
    "#x_test_data = np.reshape(test_data, (-1, 1))"
   ]
  },
  {
   "cell_type": "code",
   "execution_count": 508,
   "id": "fd0599be",
   "metadata": {},
   "outputs": [
    {
     "data": {
      "text/plain": [
       "array([[1.],\n",
       "       [1.],\n",
       "       [5.],\n",
       "       ...,\n",
       "       [1.],\n",
       "       [1.],\n",
       "       [1.]])"
      ]
     },
     "execution_count": 508,
     "metadata": {},
     "output_type": "execute_result"
    }
   ],
   "source": [
    "x_test_data"
   ]
  },
  {
   "cell_type": "code",
   "execution_count": 509,
   "id": "b38e2d28",
   "metadata": {},
   "outputs": [],
   "source": [
    "#Scale the test data\n",
    "x_test_data = scaler.transform(x_test_data)"
   ]
  },
  {
   "cell_type": "code",
   "execution_count": 510,
   "id": "c5ceadf7",
   "metadata": {},
   "outputs": [],
   "source": [
    "#Grouping our test data\n",
    "final_x_test_data = []\n",
    "for i in range(40, len(x_test_data)):\n",
    "    final_x_test_data.append(x_test_data[i-40:i, 0])\n",
    "final_x_test_data = np.array(final_x_test_data) "
   ]
  },
  {
   "cell_type": "code",
   "execution_count": 511,
   "id": "bdb2bf62",
   "metadata": {},
   "outputs": [],
   "source": [
    "#Reshaping the NumPy array to meet TensorFlow standards\n",
    "final_x_test_data=np.reshape(final_x_test_data,\n",
    "(final_x_test_data.shape[0], final_x_test_data.shape[1], 1))"
   ]
  },
  {
   "cell_type": "code",
   "execution_count": 512,
   "id": "9141ba82",
   "metadata": {},
   "outputs": [
    {
     "name": "stdout",
     "output_type": "stream",
     "text": [
      "6048/6048 [==============================] - 114s 19ms/step\n"
     ]
    }
   ],
   "source": [
    "#Generating our predicted values\n",
    "predictions = rnn.predict(final_x_test_data)"
   ]
  },
  {
   "cell_type": "code",
   "execution_count": 513,
   "id": "da06c40e",
   "metadata": {},
   "outputs": [],
   "source": [
    "import numpy as np"
   ]
  },
  {
   "cell_type": "code",
   "execution_count": 514,
   "id": "44952fe6",
   "metadata": {},
   "outputs": [],
   "source": [
    "from sklearn.metrics import mean_squared_error\n",
    "#mse = mean_squared_error(test_sample, pred_sample)"
   ]
  },
  {
   "cell_type": "code",
   "execution_count": 515,
   "id": "68420f52",
   "metadata": {},
   "outputs": [
    {
     "name": "stdout",
     "output_type": "stream",
     "text": [
      "6048/6048 [==============================] - 113s 19ms/step\n"
     ]
    }
   ],
   "source": [
    "predicted_values = rnn.predict(final_x_test_data)"
   ]
  },
  {
   "cell_type": "code",
   "execution_count": 516,
   "id": "2e1e9f43",
   "metadata": {},
   "outputs": [
    {
     "data": {
      "text/plain": [
       "(193510, 1)"
      ]
     },
     "execution_count": 516,
     "metadata": {},
     "output_type": "execute_result"
    }
   ],
   "source": [
    "predicted_values.shape"
   ]
  },
  {
   "cell_type": "code",
   "execution_count": 517,
   "id": "caa4398f",
   "metadata": {},
   "outputs": [],
   "source": [
    "# the last step is to reshape our x_training_data(independant variable) into 3 dimensional and the \n",
    "# y_training_data(dependant variable) into 2 dimensional\n",
    "predicted_values = np.reshape(predicted_values,(predicted_values.shape[0],\n",
    "                             predicted_values.shape[1],\n",
    "                              1))"
   ]
  },
  {
   "cell_type": "code",
   "execution_count": 518,
   "id": "8add905f",
   "metadata": {},
   "outputs": [
    {
     "data": {
      "text/plain": [
       "(193510, 40, 1)"
      ]
     },
     "execution_count": 518,
     "metadata": {},
     "output_type": "execute_result"
    }
   ],
   "source": [
    "final_x_test_data.shape"
   ]
  },
  {
   "cell_type": "code",
   "execution_count": 519,
   "id": "06d66b4d",
   "metadata": {},
   "outputs": [],
   "source": [
    "final_x_test_data_reshape = final_x_test_data.reshape(-1,)"
   ]
  },
  {
   "cell_type": "code",
   "execution_count": 520,
   "id": "fd99b040",
   "metadata": {},
   "outputs": [],
   "source": [
    "predicted_values_reshape = predicted_values.reshape(-1,)"
   ]
  },
  {
   "cell_type": "code",
   "execution_count": 521,
   "id": "f4b912c7",
   "metadata": {},
   "outputs": [
    {
     "data": {
      "text/plain": [
       "array([0.2, 0.2, 1. , ..., 0.2, 0.2, 0.2])"
      ]
     },
     "execution_count": 521,
     "metadata": {},
     "output_type": "execute_result"
    }
   ],
   "source": [
    "final_x_test_data_reshape"
   ]
  },
  {
   "cell_type": "code",
   "execution_count": 522,
   "id": "eb72b9b5",
   "metadata": {},
   "outputs": [
    {
     "data": {
      "text/plain": [
       "(193510,)"
      ]
     },
     "execution_count": 522,
     "metadata": {},
     "output_type": "execute_result"
    }
   ],
   "source": [
    "predicted_values_reshape.shape"
   ]
  },
  {
   "cell_type": "code",
   "execution_count": 540,
   "id": "e9828e80",
   "metadata": {},
   "outputs": [],
   "source": [
    "sample_size = 100  # Adjust this to your desired size\n",
    "\n",
    "# Get random indices for sampling\n",
    "rng = np.random.default_rng(seed=42)  # Create a random number generator with a seed for reproducibility\n"
   ]
  },
  {
   "cell_type": "code",
   "execution_count": 541,
   "id": "70131e3d",
   "metadata": {},
   "outputs": [],
   "source": [
    "train_indices = rng.choice(len(predicted_values_reshape), size=sample_size, replace=False)\n",
    "test_indices = rng.choice(len(final_x_test_data_reshape), size=sample_size, replace=False)"
   ]
  },
  {
   "cell_type": "code",
   "execution_count": 542,
   "id": "3f10cbd2",
   "metadata": {},
   "outputs": [],
   "source": [
    "# Randomly sample from the training dataset\n",
    "pred_sample = predicted_values_reshape[train_indices]\n",
    "\n",
    "# Randomly sample from the test dataset\n",
    "test_sample = final_x_test_data_reshape[test_indices]"
   ]
  },
  {
   "cell_type": "code",
   "execution_count": 543,
   "id": "7f1b11b1",
   "metadata": {},
   "outputs": [],
   "source": [
    "mse = mean_squared_error(test_sample, pred_sample)\n"
   ]
  },
  {
   "cell_type": "code",
   "execution_count": 544,
   "id": "b15380a9",
   "metadata": {},
   "outputs": [
    {
     "data": {
      "text/plain": [
       "0.14601628405503025"
      ]
     },
     "execution_count": 544,
     "metadata": {},
     "output_type": "execute_result"
    }
   ],
   "source": [
    "mse"
   ]
  },
  {
   "cell_type": "code",
   "execution_count": 565,
   "id": "19abefe3",
   "metadata": {},
   "outputs": [
    {
     "data": {
      "text/plain": [
       "Text(0.5, 1.0, 'sample test data')"
      ]
     },
     "execution_count": 565,
     "metadata": {},
     "output_type": "execute_result"
    },
    {
     "data": {
      "image/png": "[encoded data removed]",
      "text/plain": [
       "<Figure size 640x480 with 1 Axes>"
      ]
     },
     "metadata": {},
     "output_type": "display_data"
    }
   ],
   "source": [
    "#Plotting our predicted values\n",
    "plt.clf() #This clears the old plot from our canvas\n",
    "plt.plot(pred, color = 'Green', label = \"Predictions\")\n",
    "plt.xlabel('sampled data')\n",
    "plt.ylabel('scaled')\n",
    "plt.title('sample test data')"
   ]
  },
  {
   "cell_type": "code",
   "execution_count": 557,
   "id": "ba408f1d",
   "metadata": {},
   "outputs": [],
   "source": [
    "pred = scaler.fit_transform(pred_sample.reshape(-1,1))"
   ]
  },
  {
   "cell_type": "code",
   "execution_count": 564,
   "id": "26136bcd",
   "metadata": {},
   "outputs": [
    {
     "data": {
      "text/plain": [
       "Text(0.5, 1.0, 'sample test data')"
      ]
     },
     "execution_count": 564,
     "metadata": {},
     "output_type": "execute_result"
    },
    {
     "data": {
      "image/png": "[encoded data removed]",
      "text/plain": [
       "<Figure size 640x480 with 1 Axes>"
      ]
     },
     "metadata": {},
     "output_type": "display_data"
    }
   ],
   "source": [
    "#Plotting our predicted values\n",
    "plt.clf() #This clears the old plot from our canvas\n",
    "plt.plot(test_sample, color = 'Blue', label = \"test data\")\n",
    "plt.xlabel('sampled data')\n",
    "plt.ylabel('scaled')\n",
    "plt.title('sample test data')"
   ]
  },
  {
   "cell_type": "code",
   "execution_count": 563,
   "id": "f0d2c7bf",
   "metadata": {},
   "outputs": [
    {
     "data": {
      "text/plain": [
       "<matplotlib.legend.Legend at 0x142f780ee50>"
      ]
     },
     "execution_count": 563,
     "metadata": {},
     "output_type": "execute_result"
    },
    {
     "data": {
      "image/png": "[encoded data removed]",
      "text/plain": [
       "<Figure size 640x480 with 1 Axes>"
      ]
     },
     "metadata": {},
     "output_type": "display_data"
    }
   ],
   "source": [
    "#Plotting the predicted values against Facebook's actual stock price\n",
    "plt.plot(pred, color = 'Green', label = \"Predictions\")\n",
    "plt.plot(test_sample, color = 'blue', label = \"Real Data\")\n",
    "plt.xlabel('sampled data')\n",
    "plt.ylabel('scaled')\n",
    "plt.title('All Greyhounds ')\n",
    "plt.legend()"
   ]
  }
 ],
 "metadata": {
  "kernelspec": {
   "display_name": "Python 3 (ipykernel)",
   "language": "python",
   "name": "python3"
  },
  "language_info": {
   "codemirror_mode": {
    "name": "ipython",
    "version": 3
   },
   "file_extension": ".py",
   "mimetype": "text/x-python",
   "name": "python",
   "nbconvert_exporter": "python",
   "pygments_lexer": "ipython3",
   "version": "3.11.4"
  }
 },
 "nbformat": 4,
 "nbformat_minor": 5
}
